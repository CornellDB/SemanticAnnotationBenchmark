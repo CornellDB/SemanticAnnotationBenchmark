{
 "cells": [
  {
   "cell_type": "code",
   "execution_count": 7,
   "id": "307f1685",
   "metadata": {},
   "outputs": [],
   "source": [
    "import os\n",
    "import re\n",
    "import pickle\n",
    "import numpy as np\n",
    "from dotenv import dotenv_values\n",
    "from langchain import PromptTemplate, LLMChain, OpenAI\n",
    "from langchain.chat_models import ChatOpenAI\n",
    "from tqdm import tqdm\n",
    "from evaluate import load\n",
    "import pandas as pd"
   ]
  },
  {
   "cell_type": "code",
   "execution_count": 8,
   "id": "5ba1a34e",
   "metadata": {},
   "outputs": [],
   "source": [
    "# Load env file with API KEY using full path\n",
    "config = dotenv_values(\".env\")\n",
    "os.environ['OPENAI_API_KEY'] = config[\"OPENAI_API_KEY\"]"
   ]
  },
  {
   "cell_type": "code",
   "execution_count": null,
   "id": "0988ac34",
   "metadata": {},
   "outputs": [],
   "source": [
    "topic_to_label = {\n",
    "    \"Music\": [\"Recording\", \"MusicRecordingName\", \"Duration\", \"ArtistName\", \"AlbumName\"],\n",
    "    \"Restaurants\" : [\"RestaurantName\", \"PriceRange\", \"AddressRegion\", \"Country\", \"Telephone\", \n",
    "                     \"PaymentAccepted\", \"PostalCode\",\n",
    "                     \"Coordinate\", \"DayOfWeek\", \"Time\",\n",
    "                     \"RestaurantDescription\", \"Review\"],\n",
    "    \"Hotels\" : [\"HotelName\", \"PriceRange\", \"Telephone\",\n",
    "                \"FaxNumber\", \"Country\", \"Time\",\n",
    "                \"PostalCode\", \"AddressLocality\", \"email\",\n",
    "                \"LocationFeatureSpecification\",\n",
    "                \"HotelDescription\", \"Review\", \"Rating\",\n",
    "                \"PaymentAccepted\", \"Photograph\"],\n",
    "    \"Events\" : [\"EventName\", \"Date\", \"DateTime\",\n",
    "                \"EventStatusType\", \"EventDescription\",\n",
    "                \"EventAttendanceModeEnumeration\",\n",
    "                \"Organization\", \"Currency\", \"Telephone\"]\n",
    "}"
   ]
  },
  {
   "cell_type": "code",
   "execution_count": 9,
   "id": "806f5b40",
   "metadata": {},
   "outputs": [],
   "source": [
    "labels_to_text = {\n",
    "    \"I dont'know\": \"I dont'know\",\n",
    "    \"addressLocality\": \"locality of address\",\n",
    "    \"postalCode\": \"postal code\",\n",
    "    \"addressRegion\": \"region of address\",\n",
    "    \"Country\": \"country\",\n",
    "    \"priceRange\": \"price range\",\n",
    "    \"Hotel/name\": \"name of hotel\",\n",
    "    \"telephone\": \"telephone\",\n",
    "    \"faxNumber\": \"fax number\",\n",
    "    \"Date\": \"date\",\n",
    "    \"Restaurant/name\": \"name of restaurant\",\n",
    "    \"paymentAccepted\": \"payment accepted\",\n",
    "    \"DayOfWeek\": \"day of week\",\n",
    "    \"Review\": \"review\",\n",
    "    \"Organization\": \"organization\",\n",
    "    \"DateTime\": \"date and time\",\n",
    "    \"MusicAlbum/name\": \"name of music album\",\n",
    "    \"MusicArtistAT\": \"music artist\",\n",
    "    \"MusicRecording/name\": \"name of music recording\",\n",
    "    \"Photograph\": \"photograph\",\n",
    "    \"CoordinateAT\": \"coordinate\",\n",
    "    \"Event/name\": \"name of event\",\n",
    "    \"EventAttendanceModeEnumeration\": \"event attendance mode\",\n",
    "    \"EventStatusType\": \"event status\",\n",
    "    \"currency\": \"currency\",\n",
    "    \"email\": \"email\",\n",
    "    \"Time\": \"time\",\n",
    "    \"LocationFeatureSpecification\": \"location feature\",\n",
    "    \"Duration\": \"duration\",\n",
    "    \"Event/description\": \"description of event\",\n",
    "    \"Restaurant/description\": \"description of restaurant\",\n",
    "    \"Rating\": \"rating\",\n",
    "    \"Hotel/description\": \"description of hotel\"\n",
    "}"
   ]
  },
  {
   "cell_type": "code",
   "execution_count": 10,
   "id": "e2f6e994",
   "metadata": {},
   "outputs": [],
   "source": [
    "# Dictionary to map ChatGPT answers to label set: synonyms can be added here\n",
    "text_to_label = {\n",
    "    \"locality of address\": \"addressLocality\",\n",
    "    \"postal code\": \"postalCode\",\n",
    "    \"region of address\": \"addressRegion\",\n",
    "    \"country\": \"Country\",\n",
    "    \"price range\": \"priceRange\",\n",
    "    \"name of hotel\": \"Hotel/name\",\n",
    "    \"telephone\": \"telephone\",\n",
    "    \"fax number\": \"faxNumber\",\n",
    "    \"date\": \"Date\",\n",
    "    \"name of restaurant\": \"Restaurant/name\",\n",
    "    \"payment accepted\": \"paymentAccepted\",\n",
    "    \"day of week\": \"DayOfWeek\",\n",
    "    \"review\": \"Review\",\n",
    "    \"organization\": \"Organization\",\n",
    "    \"date and time\": \"DateTime\",\n",
    "    \"music artist\": \"MusicArtistAT\",\n",
    "    \"music album\": \"MusicAlbum/name\",\n",
    "    \"name of music recording\": \"MusicRecording/name\",\n",
    "    \"photograph\": \"Photograph\",\n",
    "    \"coordinate\": \"CoordinateAT\",\n",
    "    \"name of event\": \"Event/name\",\n",
    "    \"event attendance mode\": \"EventAttendanceModeEnumeration\",\n",
    "    \"event status\": \"EventStatusType\",\n",
    "    \"currency\": \"currency\",\n",
    "    \"email\": \"email\",\n",
    "    \"time\": \"Time\",\n",
    "    \"location feature\": \"LocationFeatureSpecification\",\n",
    "    \"duration\": \"Duration\",\n",
    "    \"description of event\": \"Event/description\",\n",
    "    \"description of restaurant\": \"Restaurant/description\",\n",
    "    \"description of hotel\": \"Hotel/description\",\n",
    "    \"rating\": \"Rating\",\n",
    "    #Added\n",
    "    \"description of restaurants\": \"Restaurant/description\",\n",
    "    \"name of music artist\": \"MusicArtistAT\",\n",
    "    \"description of hotel amenities\": \"LocationFeatureSpecification\",\n",
    "    \"amenities\": \"LocationFeatureSpecification\",\n",
    "    \"name of album\": \"MusicAlbum/name\",\n",
    "    \"i don't know\": \"-\",\n",
    "    \"name of music album\": \"MusicAlbum/name\",\n",
    "    \"music recording\": \"MusicRecording/name\",\n",
    "    \"event name\": \"Event/name\",\n",
    "    \"description of hotels\": \"Hotel/description\",\n",
    "    \"name of hotels\": \"Hotel/name\",\n",
    "    \"duration of music recording or video\": \"Duration\",\n",
    "    \"name of organization\": \"Organization\",\n",
    "    \"hotel amenities\": \"LocationFeatureSpecification\",\n",
    "    \"amenities of hotel room\": \"LocationFeatureSpecification\",\n",
    "    \"check-in time\": \"Time\",\n",
    "    \"check-out time\": \"Time\",\n",
    "    \"time of check-in\": \"Time\",\n",
    "    \"time of check-out\": \"Time\",\n",
    "    \"hotel features\": \"LocationFeatureSpecification\",\n",
    "    \"name of aparthotel\": \"Hotel/name\",\n",
    "    \"event description\": \"Event/description\",\n",
    "    \"email address\": \"email\",\n",
    "    \"room amenities\": \"LocationFeatureSpecification\",\n",
    "    \"end date\": \"Date\",\n",
    "    \"descriptions of events\": \"Event/description\",\n",
    "    \"mode of attendance\": \"EventAttendanceModeEnumeration\",\n",
    "    \"name of song\": \"MusicRecording/name\"\n",
    "}"
   ]
  },
  {
   "cell_type": "markdown",
   "id": "c1b93f4d",
   "metadata": {},
   "source": [
    "## Load test set"
   ]
  },
  {
   "cell_type": "code",
   "execution_count": 11,
   "id": "80cd0f30",
   "metadata": {},
   "outputs": [],
   "source": [
    "with open('data/cta-test-table-wise.pkl', \"rb\") as f:\n",
    "    test = pickle.load(f)\n",
    "\n",
    "examples = [example[1] for example in test ]\n",
    "labels = [l for example in test for l in example[2]]"
   ]
  },
  {
   "cell_type": "code",
   "execution_count": 12,
   "id": "e5235a7e",
   "metadata": {},
   "outputs": [
    {
     "name": "stdout",
     "output_type": "stream",
     "text": [
      "41\n",
      "250\n"
     ]
    }
   ],
   "source": [
    "print(len(examples))\n",
    "print(len(labels))"
   ]
  },
  {
   "cell_type": "code",
   "execution_count": 41,
   "id": "2b8aafb9",
   "metadata": {},
   "outputs": [
    {
     "name": "stdout",
     "output_type": "stream",
     "text": [
      "['Restaurant', 'Restaurant', 'Restaurant', 'Restaurant', 'Restaurant', 'Restaurant', 'Restaurant', 'Restaurant', 'Restaurant', 'Restaurant', 'Restaurant', 'Event', 'Event', 'Event', 'Event', 'Event', 'Event', 'Event', 'Event', 'Event', 'Event', 'Hotel', 'Hotel', 'Hotel', 'Hotel', 'Hotel', 'Hotel', 'Hotel', 'Hotel', 'Hotel', 'Hotel', 'MusicRecording', 'MusicRecording', 'MusicRecording', 'MusicRecording', 'MusicRecording', 'MusicRecording', 'MusicRecording', 'MusicRecording', 'MusicRecording', 'MusicRecording']\n"
     ]
    }
   ],
   "source": [
    "topics = [example[3] for example in test]\n",
    "print(topics)"
   ]
  },
  {
   "cell_type": "markdown",
   "id": "b33eeece",
   "metadata": {},
   "source": [
    "## Choose prompt template: without or with instructions"
   ]
  },
  {
   "cell_type": "code",
   "execution_count": 13,
   "id": "d704f16f",
   "metadata": {},
   "outputs": [],
   "source": [
    "# New prompt\n",
    "semantic_concept_template = \"\"\"\n",
    "\n",
    "Answer the question based on the task below. If the question cannot be answered using the information provided answer with \"I don't know\".\n",
    "\n",
    "Task: Suggest a semantic concept for each column of a given table. Answer with the semantic concept for each column with the format Column1: semantic concept.\n",
    "\n",
    "Table: {input}\n",
    "\n",
    "Semantic concepts:\n",
    "\n",
    "\"\"\""
   ]
  },
  {
   "cell_type": "code",
   "execution_count": 14,
   "id": "27bc61f6",
   "metadata": {},
   "outputs": [],
   "source": [
    "# Paper name: table + instructions\n",
    "inst_template = \"\"\"\n",
    "\n",
    "Answer the question based on the task and instructions below. If the question cannot be answered using the information provided answer with \"I don't know\".\n",
    "\n",
    "Task: Suggest a semantic concept for each column of a given table.\n",
    "\n",
    "Instructions: 1. Look at the input given to you and make a table out of it. 2. Look at the cell values in detail. 3. For each column, suggest a semantic concept that best represents the meaning of all cells in the column. 4. Answer with the semantic concept for each column with the format Column1: semantic concept.\n",
    "\n",
    "Table:\n",
    "{input}\n",
    "\n",
    "Semantic concepts:\n",
    "\n",
    "\"\"\""
   ]
  },
  {
   "cell_type": "code",
   "execution_count": 15,
   "id": "69280f83",
   "metadata": {},
   "outputs": [],
   "source": [
    "# prompt to ask gpt to classify labels \n",
    "classify_label_template = \"\"\"\n",
    "\n",
    "Task: Classify the semantic concept {input} with only one of the following classes that are separated with comma: description of event, description of restaurant, locality of address, postal code, region of address, country, price range, telephone, date, name of restaurant, payment accepted, day of week, review, organization, date and time, coordinate, name of event, event attendance mode, event status, currency, time, description of hotel, name of hotel, location feature, rating, fax number, email, photograph, name of music recording, music artist, name of album, duration.\n",
    "\n",
    "Class:\n",
    "\n",
    "\"\"\""
   ]
  },
  {
   "cell_type": "markdown",
   "id": "19177971",
   "metadata": {},
   "source": [
    "## Load LLM and run model"
   ]
  },
  {
   "cell_type": "code",
   "execution_count": 5,
   "id": "9940af79",
   "metadata": {
    "scrolled": true
   },
   "outputs": [],
   "source": [
    "gpt_3_turbo = ChatOpenAI(model_name='gpt-3.5-turbo-0301', temperature=0)\n",
    "gpt_4 = ChatOpenAI(model_name='gpt-4', temperature=0)"
   ]
  },
  {
   "cell_type": "code",
   "execution_count": 82,
   "id": "eca67e77",
   "metadata": {},
   "outputs": [],
   "source": [
    "prompt_type = \"semantic_concept\"\n",
    "if prompt_type == \"semantic_concept\":\n",
    "    prompt = PromptTemplate(template=semantic_concept_template, input_variables=['input'])\n",
    "    llm_chain = LLMChain(prompt=prompt, llm=gpt_3_turbo)\n",
    "    llm_chain_4 = LLMChain(prompt=prompt, llm=gpt_4)\n",
    "elif prompt_type == \"with_inst\":\n",
    "    prompt = PromptTemplate(template=inst_template, input_variables=['input'])\n",
    "    llm_chain = LLMChain(prompt=prompt, llm=gpt_3_turbo)\n",
    "    llm_chain_4 = LLMChain(prompt=prompt, llm=gpt_4)"
   ]
  },
  {
   "cell_type": "code",
   "execution_count": 18,
   "id": "a5f9a001",
   "metadata": {},
   "outputs": [],
   "source": [
    "def save_preds(preds: list[str], file_name: str):\n",
    "    #Save predictions in a file:\n",
    "    with open(file_name,'wb') as f:\n",
    "        pickle.dump(preds,f)\n",
    "\n",
    "def load_preds(file_name: str):\n",
    "    #Save predictions in a file:\n",
    "    with open(file_name,'rb') as f:\n",
    "        preds = pickle.load(f)\n",
    "    return preds"
   ]
  },
  {
   "cell_type": "code",
   "execution_count": 83,
   "id": "0e985602",
   "metadata": {},
   "outputs": [],
   "source": [
    "#Zero-shot prediction\n",
    "preds_gpt35 = [llm_chain.run({'input': example}) for example in examples]\n",
    "save_preds(preds_gpt35, \"predictions/gpt35-prompt-table-with-instructions.pkl\")"
   ]
  },
  {
   "cell_type": "code",
   "execution_count": 84,
   "id": "0feaa26c",
   "metadata": {},
   "outputs": [],
   "source": [
    "preds_gpt4 = [llm_chain_4.run({'input': example}) for example in examples]\n",
    "save_preds(preds_gpt4, \"predictions/gpt4-prompt-table-with-instructions.pkl\")"
   ]
  },
  {
   "cell_type": "code",
   "execution_count": 45,
   "id": "59acb9b2",
   "metadata": {},
   "outputs": [
    {
     "name": "stdout",
     "output_type": "stream",
     "text": [
      "['Column 1: Phone Number, Column 2: Restaurant Name, Column 3: Zip Code, Column 4: State, Column 5: Country, Column 6: Longitude, Column 7: Latitude, Column 8: Opening Hours, Column 9: Days of Operation', 'Column 1: Phone Number, Column 2: Restaurant Name, Column 3: Restaurant Description, Column 4: Country Code, Column 5: Operating Days, Column 6: Opening Time', 'Column 1: Restaurant Name, Column 2: Postal Code, Column 3: Payment Methods, Column 4: State, Column 5: City', 'Column 1: Restaurant Name, Column 2: Contact Number, Column 3: Description, Column 4: City, Column 5: State, Column 6: Payment Methods, Column 7: Zip Code, Column 8: Longitude, Column 9: Latitude, Column 10: Opening Hours, Column 11: Days of Operation', 'Column 1: Restaurant Name, Column 2: Price Range, Column 3: Contact Number', 'Column 1: Restaurant Name, Column 2: Restaurant Phone Number, Column 3: Price Range, Column 4: Country Code, Column 5: Region, Column 6: Postal Code, Column 7: Longitude, Column 8: Latitude, Column 9: City, Column 10: Restaurant Description', 'Column 1: Restaurant Name, Column 2: Restaurant Phone Number, Column 3: Restaurant Location, Column 4: Postal Code', 'Column 1: Restaurant Name, Column 2: Restaurant Phone Number, Column 3: Restaurant Description, Column 4: State, Column 5: Price Range, Column 6: Country, Column 7: City, Column 8: Postal Code', 'Column 1: Restaurant Name, Column 2: Restaurant Phone Number, Column 3: Restaurant Cuisine, Column 4: Price Range, Column 5: Zip Code, Column 6: Longitude, Column 7: Latitude, Column 8: State', 'Column 1: Phone Number, Column 2: Restaurant Name, Column 3: Price Range, Column 4: City, Column 5: Postal Code, Column 6: Longitude, Column 7: Latitude, Column 8: Country Code, Column 9: Description', 'Column 1: Restaurant Name, Column 2: Unique Identifier, Column 3: Restaurant Description, Column 4: Price Range, Column 5: Country Code, Column 6: City, Column 7: Payment Methods, Column 8: Longitude, Column 9: Latitude, Column 10: Opening Hours, Column 11: Operating Days, Column 12: Customer Reviews', 'Column 1: Event Start Time, Column 2: Event Title, Column 3: Event Description, Column 4: Event End Time, Column 5: Event Status URL', 'Column 1: Event Start Date and Time, Column 2: Event Description, Column 3: Event Status, Column 4: Event End Date and Time, Column 5: Event Attendance Mode', 'Column 1: Event Start Date and Time, Column 2: Event Name, Column 3: Event Description, Column 4: Event End Date and Time, Column 5: Event Status, Column 6: Event Attendance Mode, Column 7: Event Currency, Column 8: Event Organizer.', 'Column 1: Event Start Time, Column 2: Event Name, Column 3: Event Description, Column 4: Event End Time, Column 5: Currency Symbol', 'Column 1: Event Details, Column 2: Event Date and Time, Column 3: Event Description, Column 4: Contact Number, Column 5: Event Location', 'Column 1: Event Start Date\\nColumn 2: Event Name\\nColumn 3: Event Description\\nColumn 4: Event End Date\\nColumn 5: Event Attendance Mode\\nColumn 6: Event Status', 'Column 1: Event Name, Column 2: Event Status, Column 3: Event Description, Column 4: Event Location, Column 5: Event Attendance Mode', 'Column 1: Event Start Date, Column 2: Event Name, Column 3: Event End Date, Column 4: Event Mode, Column 5: Currency, Column 6: Event Description', 'Column 1: Event Start Date, Column 2: Event Name, Column 3: Event End Date, Column 4: Event Description, Column 5: Event Attendance Mode, Column 6: Event Currency, Column 7: Event Status', 'Column 1: Event Name, Column 2: Lecture Topic, Column 3: Lecture Description, Column 4: Event Mode, Column 5: Event Date, Column 6: Organizing Body, Column 7: Contact Number', 'Column 1: Hotel and Attraction Name, Column 2: Contact Information, Column 3: Email Address, Column 4: Alternate Contact Number, Column 5: Booking Information, Column 6: Postal Code, Column 7: Country.', 'Column 1: Hotel Name, Column 2: Hotel Contact Number, Column 3: Hotel Description, Column 4: Alternate Contact Number, Column 5: Check-in Time, Column 6: City, Column 7: Postal Code, Column 8: Check-out Time, Column 9: Country, Column 10: Special Offers.', 'Column 1: Hotel Name, Column 2: Contact Number, Column 3: Location Description, Column 4: Check-in Time, Column 5: Check-out Time, Column 6: Postal Code, Column 7: City, Column 8: Country, Column 9: Price Range, Column 10: Amenities and Services', 'Column 1: Hotel Name, Column 2: Hotel Description, Column 3: Hotel Rating, Column 4: Pricing and Meal Plan', 'Column 1: Hotel Name, Column 2: Hotel Description, Column 3: Hotel Image URL, Column 4: Check-in Time, Column 5: Price Range, Column 6: Hotel Rating, Column 7: Check-out Time, Column 8: Hotel Amenities', 'Column 1: City, Column 2: Hotel Name, Column 3: Hotel Rating, Column 4: Country, Column 5: Guest Review', 'Column 1: Hotel Name, Column 2: Hotel Email, Column 3: Hotel Image URL, Column 4: Country, Column 5: City, Column 6: Hotel Rating, Column 7: Hotel Description', 'Column 1: Hotel Name, Column 2: Hotel Description, Column 3: Check-out Time, Column 4: Check-in Time, Column 5: Postal Code, Column 6: City, Column 7: Country, Column 8: Rating, Column 9: Amenities, Column 10: Accepted Payment Methods', 'Column 1: Location Name, Column 2: Contact Email, Column 3: Activity Description, Column 4: Image URL', 'Column 1: Hotel Name, Column 2: Hotel Description, Column 3: Payment Methods, Column 4: Rating, Column 5: Contact Information', 'Column 1: Song Title, Column 2: Song Duration, Column 3: Album Name, Column 4: Artist Name', 'Column 1: Song Title, Column 2: Song Duration, Column 3: Album Name, Column 4: Artist Name', 'Column 1: Song Title, Column 2: Song Duration, Column 3: Artist Name', 'Column 1: Song Title, Column 2: Song Duration, Column 3: Album Name', 'Column 1: Song Title, Column 2: Song Duration, Column 3: Artist Name, Column 4: Album Name', 'Column 1: Video Duration, Column 2: Song Title, Column 3: Album Name, Column 4: Artist Name', 'Column 1: Song Title, Column 2: Song Duration, Column 3: Artist Name, Column 4: Album Name', 'Column 1: Song Title and Featured Artist, Column 2: Song Duration, Column 3: Song Producer', 'Column 1: Song Title, Column 2: Song Duration, Column 3: Album or Category, Column 4: Artist or Band', 'Column 1: Song Title, Column 2: Song Duration, Column 3: Song Title Confirmation, Column 4: Artist Name']\n"
     ]
    }
   ],
   "source": [
    "preds = load_preds(\"predictions/gpt4-prompt-table-with-instructions.pkl\")\n",
    "print(preds)"
   ]
  },
  {
   "cell_type": "code",
   "execution_count": 26,
   "id": "3521a886",
   "metadata": {},
   "outputs": [],
   "source": [
    "df = pd.DataFrame(data={\"raw_prompt_output\": preds})\n",
    "df.to_csv(\"predictions/gpt4-prompt-table-without-instructions.csv\")"
   ]
  },
  {
   "cell_type": "markdown",
   "id": "6ab6cab8",
   "metadata": {},
   "source": [
    "## Evaluation"
   ]
  },
  {
   "cell_type": "code",
   "execution_count": 99,
   "id": "c14a5709",
   "metadata": {},
   "outputs": [],
   "source": [
    "prompt_classify = PromptTemplate(template=classify_label_template, input_variables=['input'])\n",
    "llm_chain_c = LLMChain(prompt=prompt_classify, llm=gpt_3_turbo)\n",
    "llm_chain_4_c = LLMChain(prompt=prompt_classify, llm=gpt_4)"
   ]
  },
  {
   "cell_type": "code",
   "execution_count": 103,
   "id": "813d5aaa",
   "metadata": {},
   "outputs": [
    {
     "data": {
      "text/plain": [
       "'State can be classified as a semantic concept of \"description of event\".'"
      ]
     },
     "execution_count": 103,
     "metadata": {},
     "output_type": "execute_result"
    }
   ],
   "source": [
    "llm_chain_c.run({'input': \"state\"})"
   ]
  },
  {
   "cell_type": "code",
   "execution_count": 29,
   "id": "003621b8",
   "metadata": {},
   "outputs": [
    {
     "name": "stdout",
     "output_type": "stream",
     "text": [
      "{'precision': [1.000000238418579, 0.8224340677261353], 'recall': [1.000000238418579, 0.8144457340240479], 'f1': [1.000000238418579, 0.81842041015625], 'hashcode': 'roberta-large_L17_no-idf_version=0.3.9(hug_trans=4.24.0)'}\n"
     ]
    }
   ],
   "source": [
    "bertscore = load(\"bertscore\")\n",
    "predictions = [\"hello there\", \"hello there\"]\n",
    "references = [\"hello there\", \"general kenobi\"]\n",
    "results = bertscore.compute(predictions=predictions, references=references, lang=\"en\")\n",
    "print(results)"
   ]
  },
  {
   "cell_type": "code",
   "execution_count": 46,
   "id": "12e1151a",
   "metadata": {},
   "outputs": [
    {
     "name": "stderr",
     "output_type": "stream",
     "text": [
      "100%|██████████| 41/41 [04:49<00:00,  7.06s/it]\n"
     ]
    }
   ],
   "source": [
    "def evaluation_new(preds, bert_threshold=0.85):\n",
    "    ids, predictions, original_preds, highest_bertscores = [], [], [], []\n",
    "    i=0\n",
    "    for j, table_preds in enumerate(tqdm(preds)):\n",
    "        # How many columns does the table have? : To control cases when less/more classes are returned\n",
    "        table_number = len(test[j][2])\n",
    "        \n",
    "        if \"Semantic concepts:\" in table_preds:\n",
    "            table_preds = table_preds.split(\"Class:\")[1]\n",
    "        \n",
    "        #Break predictions into either \\n or ,\n",
    "        if \":\" in table_preds or \"-\" in table_preds:\n",
    "            if \":\" in table_preds:\n",
    "                separator = \":\"\n",
    "                start = 1\n",
    "                end = table_number+1\n",
    "            else:\n",
    "                separator = \"-\"  \n",
    "                start = 1\n",
    "                end = table_number+1\n",
    "        else:\n",
    "            separator = \",\"\n",
    "            start = 0\n",
    "            end = table_number\n",
    "            \n",
    "        col_preds = table_preds.split(separator)[start:end]\n",
    "        for pred in col_preds:\n",
    "            i+=1\n",
    "            \n",
    "            # Remove break lines\n",
    "            if \"\\n\" in pred:\n",
    "                pred = pred.split('\\n')[0].strip()\n",
    "            # Remove commas\n",
    "            if \",\" in pred:\n",
    "                pred = pred.split(\",\")[0].strip()\n",
    "            # Remove paranthesis\n",
    "            if '(' in pred:\n",
    "                pred = pred.split(\"(\")[0].strip()\n",
    "            #Remove points\n",
    "            if '.' in pred:\n",
    "                pred = pred.split(\".\")[0].strip()\n",
    "            # Lower-case prediction\n",
    "            pred = pred.strip().lower()\n",
    "            original_preds.append(pred)\n",
    "            ids.append(j)\n",
    "\n",
    "            classes = list(text_to_label.keys())\n",
    "            bertscores = np.array(bertscore.compute(predictions=[pred] * len(classes), references=classes, lang=\"en\")[\"f1\"])\n",
    "            index = np.argmax(bertscores)\n",
    "            highest_score = np.max(bertscores)\n",
    "            highest_bertscores.append(highest_score)\n",
    "\n",
    "            if highest_score > bert_threshold:\n",
    "                predictions.append(text_to_label[classes[index]])\n",
    "            else:\n",
    "                print(f\"For test example {i} out of label space prediction: {pred}\")\n",
    "                predictions.append('-')\n",
    "            \n",
    "        # If more/less predictions for table\n",
    "        if len(col_preds) < table_number:\n",
    "            for m in range(0, table_number-len(col_preds)):\n",
    "                predictions.append('-')\n",
    "                i+=1\n",
    "    return ids, predictions, original_preds, highest_bertscores\n",
    "# class_predictions, original_preds = evaluation_new(preds_gpt35)\n",
    "ids, class_predictions, original_preds, highest_bertscores = evaluation_new(preds)"
   ]
  },
  {
   "cell_type": "code",
   "execution_count": 47,
   "id": "5c91b925",
   "metadata": {},
   "outputs": [],
   "source": [
    "df = pd.DataFrame({\"prompt_output_id\": ids, \n",
    "                   \"label\": labels, \n",
    "                   \"parsed_col_pred\": original_preds, \n",
    "                   \"class_pred_using_bert\": class_predictions, \n",
    "                   \"highest_bertscore\": highest_bertscores})\n",
    "df.to_csv(\"predictions/preds_gpt4_with_inst.csv\")"
   ]
  },
  {
   "cell_type": "code",
   "execution_count": null,
   "id": "26702dcc",
   "metadata": {},
   "outputs": [],
   "source": [
    "# Map predictions to label space\n",
    "def evaluation_old():\n",
    "    predictions = []\n",
    "    i=0\n",
    "    for j, table_preds in enumerate(preds):\n",
    "        # How many columns does the table have? : To control cases when less/more classes are returned\n",
    "        table_number = len(test[j][2])\n",
    "        \n",
    "        if \"Class:\" in table_preds:\n",
    "            table_preds = table_preds.split(\"Class:\")[1]\n",
    "        \n",
    "        #Break predictions into either \\n or ,\n",
    "        if \":\" in table_preds or \"-\" in table_preds:\n",
    "            if \":\" in table_preds:\n",
    "                separator = \":\"\n",
    "                start = 1\n",
    "                end = table_number+1\n",
    "            else:\n",
    "                separator = \"-\"  \n",
    "                start = 1\n",
    "                end = table_number+1\n",
    "        else:\n",
    "            separator = \",\"\n",
    "            start = 0\n",
    "            end = table_number\n",
    "            \n",
    "        col_preds = table_preds.split(separator)[start:end]\n",
    "        \n",
    "        for pred in col_preds:\n",
    "            i+=1\n",
    "            \n",
    "            # Remove break lines\n",
    "            if \"\\n\" in pred:\n",
    "                pred = pred.split('\\n')[0].strip()\n",
    "            # Remove commas\n",
    "            if \",\" in pred:\n",
    "                pred = pred.split(\",\")[0].strip()\n",
    "            # Remove paranthesis\n",
    "            if '(' in pred:\n",
    "                pred = pred.split(\"(\")[0].strip()\n",
    "            #Remove points\n",
    "            if '.' in pred:\n",
    "                pred = pred.split(\".\")[0].strip()\n",
    "            # Lower-case prediction\n",
    "            pred = pred.strip().lower()\n",
    "            \n",
    "            if pred in text_to_label:\n",
    "                predictions.append(text_to_label[pred])\n",
    "            else:\n",
    "                print(f\"For test example {i} out of label space prediction: {pred}\")\n",
    "                predictions.append('-')\n",
    "            \n",
    "        # If more/less predictions for table\n",
    "        if len(col_preds) < table_number:\n",
    "            for m in range(0, table_number-len(col_preds)):\n",
    "                predictions.append('-')\n",
    "                i+=1\n",
    "\n",
    "evaluation_old()"
   ]
  },
  {
   "cell_type": "markdown",
   "id": "7ab2350d",
   "metadata": {},
   "source": [
    "### Calculate Precision, Recall, Macro-F1 and Micro-F1"
   ]
  },
  {
   "cell_type": "code",
   "execution_count": 68,
   "id": "e1a1bf30",
   "metadata": {},
   "outputs": [],
   "source": [
    "def calculate_f1_scores(y_tests, y_preds, num_classes):\n",
    "    types = list(set(labels))\n",
    "    types = types + [\"-\"]\n",
    "    \n",
    "    y_tests = [types.index(y) for y in y_tests]\n",
    "    y_preds = [types.index(y) for y in y_preds]\n",
    "    \n",
    "    #Confusion matrix\n",
    "    cm = np.zeros(shape=(num_classes,num_classes))\n",
    "    \n",
    "    for i in range(len(y_tests)):\n",
    "        cm[y_preds[i]][y_tests[i]] += 1\n",
    "        \n",
    "    report = {}\n",
    "    \n",
    "    for j in range(len(cm[0])):\n",
    "        report[j] = {}\n",
    "        report[j]['FN'] = 0\n",
    "        report[j]['FP'] = 0\n",
    "        report[j]['TP'] = cm[j][j]\n",
    "\n",
    "        for i in range(len(cm)):\n",
    "            if i != j:\n",
    "                report[j]['FN'] += cm[i][j]\n",
    "        for k in range(len(cm[0])):\n",
    "            if k != j:\n",
    "                report[j]['FP'] += cm[j][k]\n",
    "\n",
    "        precision = report[j]['TP'] / (report[j]['TP'] + report[j]['FP'])\n",
    "        recall = report[j]['TP'] / (report[j]['TP'] + report[j]['FN'])\n",
    "        f1 = 2*precision*recall / (precision + recall)\n",
    "        \n",
    "        if np.isnan(f1):\n",
    "            f1 = 0\n",
    "        if np.isnan(precision):\n",
    "            f1 = 0\n",
    "        if np.isnan(recall):\n",
    "            f1 = 0\n",
    "\n",
    "        report[j]['p'] =  precision\n",
    "        report[j]['r'] =  recall\n",
    "        report[j]['f1'] = f1\n",
    "    \n",
    "    all_fn = 0\n",
    "    all_tp = 0\n",
    "    all_fp = 0\n",
    "\n",
    "    for r in report:\n",
    "        if r != num_classes-1:\n",
    "            all_fn += report[r]['FN']\n",
    "            all_tp += report[r]['TP']\n",
    "            all_fp += report[r]['FP']\n",
    "        \n",
    "    class_f1s = [ report[class_]['f1'] for class_ in report]\n",
    "    class_p = [ 0 if np.isnan(report[class_]['p']) else report[class_]['p'] for class_ in report]\n",
    "    class_r = [ 0 if np.isnan(report[class_]['r']) else report[class_]['r'] for class_ in report]\n",
    "    macro_f1 = sum(class_f1s[:-1]) / (num_classes-1)\n",
    "    \n",
    "    p =  sum(class_p[:-1]) / (num_classes-1)\n",
    "    r =  sum(class_r[:-1]) / (num_classes-1)\n",
    "    micro_f1 = all_tp / ( all_tp + (1/2 * (all_fp + all_fn) )) \n",
    "    \n",
    "    per_class_eval = {}\n",
    "    for index, t in enumerate(types[:-1]):\n",
    "        per_class_eval[t] = {\"Precision\":class_p[index], \"Recall\": class_r[index], \"F1\": class_f1s[index]}\n",
    "    \n",
    "    evaluation = {\n",
    "        \"Micro-F1\": micro_f1,\n",
    "        \"Macro-F1\": macro_f1,\n",
    "        \"Precision\": p,\n",
    "        \"Recall\": r\n",
    "    }\n",
    "    \n",
    "    return [ evaluation, per_class_eval]"
   ]
  },
  {
   "cell_type": "code",
   "execution_count": 88,
   "id": "afd645fc",
   "metadata": {},
   "outputs": [
    {
     "data": {
      "text/plain": [
       "(0.56, 0.56, 0.56, None)"
      ]
     },
     "execution_count": 88,
     "metadata": {},
     "output_type": "execute_result"
    }
   ],
   "source": [
    "from sklearn.metrics import precision_recall_fscore_support\n",
    "precision_recall_fscore_support(labels, class_predictions, average=\"micro\")"
   ]
  },
  {
   "cell_type": "code",
   "execution_count": 92,
   "id": "b1770b52",
   "metadata": {
    "scrolled": true
   },
   "outputs": [
    {
     "name": "stdout",
     "output_type": "stream",
     "text": [
      "{'Micro-F1': 0.52, 'Macro-F1': 0.444118705749798, 'Precision': 0.5183989507638804, 'Recall': 0.5050843253968254}\n",
      "{'telephone': {'Precision': 1.0, 'Recall': 0.2, 'F1': 0.33333333333333337}, 'postalCode': {'Precision': 1.0, 'Recall': 1.0, 'F1': 1.0}, 'Event/description': {'Precision': 0.5294117647058824, 'Recall': 1.0, 'F1': 0.6923076923076924}, 'priceRange': {'Precision': 0.6666666666666666, 'Recall': 0.8888888888888888, 'F1': 0.761904761904762}, 'MusicAlbum/name': {'Precision': 0, 'Recall': 0.0, 'F1': 0}, 'Time': {'Precision': 0.6428571428571429, 'Recall': 0.75, 'F1': 0.6923076923076924}, 'Organization': {'Precision': 0.0, 'Recall': 0.0, 'F1': 0}, 'DateTime': {'Precision': 0.8333333333333334, 'Recall': 0.5, 'F1': 0.625}, 'Restaurant/description': {'Precision': 0.75, 'Recall': 0.6, 'F1': 0.6666666666666665}, 'Photograph': {'Precision': 0, 'Recall': 0.0, 'F1': 0}, 'CoordinateAT': {'Precision': 1.0, 'Recall': 0.5, 'F1': 0.6666666666666666}, 'Country': {'Precision': 0.42857142857142855, 'Recall': 1.0, 'F1': 0.6}, 'faxNumber': {'Precision': 0.3333333333333333, 'Recall': 0.6666666666666666, 'F1': 0.4444444444444444}, 'Hotel/name': {'Precision': 0, 'Recall': 0.0, 'F1': 0}, 'Event/name': {'Precision': 0.2222222222222222, 'Recall': 0.8, 'F1': 0.3478260869565218}, 'EventStatusType': {'Precision': 0.42857142857142855, 'Recall': 1.0, 'F1': 0.6}, 'Hotel/description': {'Precision': 0, 'Recall': 0.0, 'F1': 0}, 'Duration': {'Precision': 0.43478260869565216, 'Recall': 1.0, 'F1': 0.6060606060606061}, 'Rating': {'Precision': 1.0, 'Recall': 0.3333333333333333, 'F1': 0.5}, 'paymentAccepted': {'Precision': 1.0, 'Recall': 0.2, 'F1': 0.33333333333333337}, 'MusicRecording/name': {'Precision': 0, 'Recall': 0.0, 'F1': 0}, 'DayOfWeek': {'Precision': 0, 'Recall': 0.0, 'F1': 0}, 'Review': {'Precision': 1.0, 'Recall': 0.5, 'F1': 0.6666666666666666}, 'addressRegion': {'Precision': 0, 'Recall': 0.0, 'F1': 0}, 'addressLocality': {'Precision': 0, 'Recall': 0.0, 'F1': 0}, 'currency': {'Precision': 1.0, 'Recall': 1.0, 'F1': 1.0}, 'Date': {'Precision': 1.0, 'Recall': 0.5, 'F1': 0.6666666666666666}, 'email': {'Precision': 1.0, 'Recall': 0.6666666666666666, 'F1': 0.8}, 'EventAttendanceModeEnumeration': {'Precision': 0.8571428571428571, 'Recall': 0.8571428571428571, 'F1': 0.8571428571428571}, 'LocationFeatureSpecification': {'Precision': 0.14814814814814814, 'Recall': 1.0, 'F1': 0.25806451612903225}, 'Restaurant/name': {'Precision': 0.6470588235294118, 'Recall': 1.0, 'F1': 0.7857142857142858}, 'MusicArtistAT': {'Precision': 0.6666666666666666, 'Recall': 0.2, 'F1': 0.30769230769230765}}\n"
     ]
    },
    {
     "name": "stderr",
     "output_type": "stream",
     "text": [
      "/tmp/ipykernel_109269/2518706652.py:29: RuntimeWarning: invalid value encountered in double_scalars\n",
      "  precision = report[j]['TP'] / (report[j]['TP'] + report[j]['FP'])\n",
      "/tmp/ipykernel_109269/2518706652.py:31: RuntimeWarning: invalid value encountered in double_scalars\n",
      "  f1 = 2*precision*recall / (precision + recall)\n",
      "/tmp/ipykernel_109269/2518706652.py:30: RuntimeWarning: invalid value encountered in double_scalars\n",
      "  recall = report[j]['TP'] / (report[j]['TP'] + report[j]['FN'])\n"
     ]
    }
   ],
   "source": [
    "evaluation, per_class_eval = calculate_f1_scores(labels, class_predictions, 33)\n",
    "print(evaluation)\n",
    "print(per_class_eval)"
   ]
  },
  {
   "cell_type": "markdown",
   "id": "0a4ba678",
   "metadata": {},
   "source": [
    "## Error Analysis"
   ]
  },
  {
   "cell_type": "code",
   "execution_count": null,
   "id": "af914f99",
   "metadata": {},
   "outputs": [],
   "source": [
    "# \"-\" means the model replied with out of label or with I don't know\n",
    "errors = 0\n",
    "for i in range(len(predictions)):\n",
    "    if predictions[i] != labels[i]:\n",
    "        errors += 1\n",
    "        print(f\"Predicted as {predictions[i]} when it was {labels[i]}\")\n",
    "errors"
   ]
  }
 ],
 "metadata": {
  "kernelspec": {
   "display_name": "Python 3 (ipykernel)",
   "language": "python",
   "name": "python3"
  },
  "language_info": {
   "codemirror_mode": {
    "name": "ipython",
    "version": 3
   },
   "file_extension": ".py",
   "mimetype": "text/x-python",
   "name": "python",
   "nbconvert_exporter": "python",
   "pygments_lexer": "ipython3",
   "version": "3.10.9"
  }
 },
 "nbformat": 4,
 "nbformat_minor": 5
}
