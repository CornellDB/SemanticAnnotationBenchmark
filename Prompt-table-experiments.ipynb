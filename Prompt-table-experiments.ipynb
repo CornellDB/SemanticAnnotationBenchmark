{
 "cells": [
  {
   "cell_type": "code",
   "execution_count": 1,
   "id": "307f1685",
   "metadata": {},
   "outputs": [],
   "source": [
    "import os\n",
    "import re\n",
    "import pickle\n",
    "import numpy as np\n",
    "from dotenv import dotenv_values\n",
    "from langchain import PromptTemplate, LLMChain, OpenAI\n",
    "from langchain.chat_models import ChatOpenAI\n",
    "from tqdm import tqdm\n",
    "from evaluate import load\n",
    "import pandas as pd"
   ]
  },
  {
   "cell_type": "code",
   "execution_count": 2,
   "id": "5ba1a34e",
   "metadata": {},
   "outputs": [],
   "source": [
    "# Load env file with API KEY using full path\n",
    "config = dotenv_values(\".env\")\n",
    "os.environ['OPENAI_API_KEY'] = config[\"OPENAI_API_KEY\"]"
   ]
  },
  {
   "cell_type": "code",
   "execution_count": 3,
   "id": "0988ac34",
   "metadata": {},
   "outputs": [],
   "source": [
    "topic_to_label = {\n",
    "    \"Music\": [\"Recording\", \"MusicRecording/name\", \"Duration\", \"ArtistName\", \"AlbumName\"],\n",
    "    \"Restaurants\" : [\"RestaurantName\", \"PriceRange\", \"AddressRegion\", \"Country\", \"Telephone\", \n",
    "                     \"PaymentAccepted\", \"PostalCode\",\n",
    "                     \"Coordinate\", \"DayOfWeek\", \"Time\",\n",
    "                     \"RestaurantDescription\", \"Review\"],\n",
    "    \"Hotels\" : [\"HotelName\", \"PriceRange\", \"Telephone\",\n",
    "                \"FaxNumber\", \"Country\", \"Time\",\n",
    "                \"PostalCode\", \"AddressLocality\", \"email\",\n",
    "                \"LocationFeatureSpecification\",\n",
    "                \"HotelDescription\", \"Review\", \"Rating\",\n",
    "                \"PaymentAccepted\", \"Photograph\"],\n",
    "    \"Events\" : [\"EventName\", \"Date\", \"DateTime\",\n",
    "                \"EventStatusType\", \"EventDescription\",\n",
    "                \"EventAttendanceModeEnumeration\",\n",
    "                \"Organization\", \"Currency\", \"Telephone\"]\n",
    "}"
   ]
  },
  {
   "cell_type": "code",
   "execution_count": 4,
   "id": "806f5b40",
   "metadata": {},
   "outputs": [],
   "source": [
    "labels_to_text = {\n",
    "    \"I dont'know\": \"I dont'know\",\n",
    "    \"addressLocality\": \"locality of address\",\n",
    "    \"postalCode\": \"postal code\",\n",
    "    \"addressRegion\": \"region of address\",\n",
    "    \"Country\": \"country\",\n",
    "    \"priceRange\": \"price range\",\n",
    "    \"Hotel/name\": \"name of hotel\",\n",
    "    \"telephone\": \"telephone\",\n",
    "    \"faxNumber\": \"fax number\",\n",
    "    \"Date\": \"date\",\n",
    "    \"Restaurant/name\": \"name of restaurant\",\n",
    "    \"paymentAccepted\": \"payment accepted\",\n",
    "    \"DayOfWeek\": \"day of week\",\n",
    "    \"Review\": \"review\",\n",
    "    \"Organization\": \"organization\",\n",
    "    \"DateTime\": \"date and time\",\n",
    "    \"MusicAlbum/name\": \"name of music album\",\n",
    "    \"MusicArtistAT\": \"music artist\",\n",
    "    \"MusicRecording/name\": \"name of music recording\",\n",
    "    \"Photograph\": \"photograph\",\n",
    "    \"CoordinateAT\": \"coordinate\",\n",
    "    \"Event/name\": \"name of event\",\n",
    "    \"EventAttendanceModeEnumeration\": \"event attendance mode\",\n",
    "    \"EventStatusType\": \"event status\",\n",
    "    \"currency\": \"currency\",\n",
    "    \"email\": \"email\",\n",
    "    \"Time\": \"time\",\n",
    "    \"LocationFeatureSpecification\": \"location feature\",\n",
    "    \"Duration\": \"duration\",\n",
    "    \"Event/description\": \"description of event\",\n",
    "    \"Restaurant/description\": \"description of restaurant\",\n",
    "    \"Rating\": \"rating\",\n",
    "    \"Hotel/description\": \"description of hotel\"\n",
    "}"
   ]
  },
  {
   "cell_type": "code",
   "execution_count": 5,
   "id": "e2f6e994",
   "metadata": {},
   "outputs": [],
   "source": [
    "# Dictionary to map ChatGPT answers to label set: synonyms can be added here\n",
    "text_to_label = {\n",
    "    \"locality of address\": \"addressLocality\",\n",
    "    \"postal code\": \"postalCode\",\n",
    "    \"region of address\": \"addressRegion\",\n",
    "    \"country\": \"Country\",\n",
    "    \"price range\": \"priceRange\",\n",
    "    \"name of hotel\": \"Hotel/name\",\n",
    "    \"telephone\": \"telephone\",\n",
    "    \"fax number\": \"faxNumber\",\n",
    "    \"date\": \"Date\",\n",
    "    \"name of restaurant\": \"Restaurant/name\",\n",
    "    \"payment accepted\": \"paymentAccepted\",\n",
    "    \"day of week\": \"DayOfWeek\",\n",
    "    \"review\": \"Review\",\n",
    "    \"organization\": \"Organization\",\n",
    "    \"date and time\": \"DateTime\",\n",
    "    \"music artist\": \"MusicArtistAT\",\n",
    "    \"music album\": \"MusicAlbum/name\",\n",
    "    \"name of music recording\": \"MusicRecording/name\",\n",
    "    \"photograph\": \"Photograph\",\n",
    "    \"coordinate\": \"CoordinateAT\",\n",
    "    \"name of event\": \"Event/name\",\n",
    "    \"event attendance mode\": \"EventAttendanceModeEnumeration\",\n",
    "    \"event status\": \"EventStatusType\",\n",
    "    \"currency\": \"currency\",\n",
    "    \"email\": \"email\",\n",
    "    \"time\": \"Time\",\n",
    "    \"location feature\": \"LocationFeatureSpecification\",\n",
    "    \"duration\": \"Duration\",\n",
    "    \"description of event\": \"Event/description\",\n",
    "    \"description of restaurant\": \"Restaurant/description\",\n",
    "    \"description of hotel\": \"Hotel/description\",\n",
    "    \"rating\": \"Rating\",\n",
    "    #Added\n",
    "    \"description of restaurants\": \"Restaurant/description\",\n",
    "    \"name of music artist\": \"MusicArtistAT\",\n",
    "    \"description of hotel amenities\": \"LocationFeatureSpecification\",\n",
    "    \"amenities\": \"LocationFeatureSpecification\",\n",
    "    \"name of album\": \"MusicAlbum/name\",\n",
    "    \"i don't know\": \"-\",\n",
    "    \"name of music album\": \"MusicAlbum/name\",\n",
    "    \"music recording\": \"MusicRecording/name\",\n",
    "    \"event name\": \"Event/name\",\n",
    "    \"description of hotels\": \"Hotel/description\",\n",
    "    \"name of hotels\": \"Hotel/name\",\n",
    "    \"duration of music recording or video\": \"Duration\",\n",
    "    \"name of organization\": \"Organization\",\n",
    "    \"hotel amenities\": \"LocationFeatureSpecification\",\n",
    "    \"amenities of hotel room\": \"LocationFeatureSpecification\",\n",
    "    \"check-in time\": \"Time\",\n",
    "    \"check-out time\": \"Time\",\n",
    "    \"time of check-in\": \"Time\",\n",
    "    \"time of check-out\": \"Time\",\n",
    "    \"hotel features\": \"LocationFeatureSpecification\",\n",
    "    \"name of aparthotel\": \"Hotel/name\",\n",
    "    \"event description\": \"Event/description\",\n",
    "    \"email address\": \"email\",\n",
    "    \"room amenities\": \"LocationFeatureSpecification\",\n",
    "    \"end date\": \"Date\",\n",
    "    \"descriptions of events\": \"Event/description\",\n",
    "    \"mode of attendance\": \"EventAttendanceModeEnumeration\",\n",
    "    \"name of song\": \"MusicRecording/name\"\n",
    "}\n",
    "\n",
    "topic_to_label = {\n",
    "    \"Music\": [\"name of music recording\", \"name of song\", \"music recording\", \"duration\", \"duration of music recording or video\", \n",
    "              \"music artist\", \"name of music artist\", \"music album\", \"name of album\", \"name of music album\"],\n",
    "    \"Restaurants\" : [\"name of restaurant\", \"price range\", \"region of address\", \"country\", \"telephone\", \n",
    "                     \"payment accepted\", \"postal code\",\n",
    "                     \"coordinate\", \"day of week\", \"time\", \"check-in time\", \"check-out time\", \"time of check-in\", \"time of check-out\",\n",
    "                     \"description of restaurants\", \"description of restaurant\", \"review\"],\n",
    "    \"Hotels\" : [\"HotelName\", \"PriceRange\", \"Telephone\",\n",
    "                \"FaxNumber\", \"Country\", \"Time\",\n",
    "                \"PostalCode\", \"AddressLocality\", \"email\",\n",
    "                \"LocationFeatureSpecification\",\n",
    "                \"HotelDescription\", \"review\", \"Rating\",\n",
    "                \"payment accepted\", \"Photograph\"],\n",
    "    \"Events\" : [\"EventName\", \"Date\", \"DateTime\",\n",
    "                \"event status\", \"description of event\", \"description of events\", \"event description\",\n",
    "                \"EventAttendanceModeEnumeration\",\n",
    "                \"Organization\", \"Currency\", \"Telephone\"]\n",
    "}"
   ]
  },
  {
   "cell_type": "markdown",
   "id": "c1b93f4d",
   "metadata": {},
   "source": [
    "## Load test set"
   ]
  },
  {
   "cell_type": "code",
   "execution_count": 6,
   "id": "80cd0f30",
   "metadata": {},
   "outputs": [],
   "source": [
    "with open('data/cta-test-table-wise.pkl', \"rb\") as f:\n",
    "    test = pickle.load(f)\n",
    "\n",
    "examples = [example[1] for example in test ]\n",
    "labels = [l for example in test for l in example[2]]"
   ]
  },
  {
   "cell_type": "code",
   "execution_count": 7,
   "id": "e5235a7e",
   "metadata": {},
   "outputs": [
    {
     "name": "stdout",
     "output_type": "stream",
     "text": [
      "41\n",
      "250\n"
     ]
    }
   ],
   "source": [
    "print(len(examples))\n",
    "print(len(labels))"
   ]
  },
  {
   "cell_type": "code",
   "execution_count": 8,
   "id": "2b8aafb9",
   "metadata": {},
   "outputs": [
    {
     "name": "stdout",
     "output_type": "stream",
     "text": [
      "['Restaurant', 'Restaurant', 'Restaurant', 'Restaurant', 'Restaurant', 'Restaurant', 'Restaurant', 'Restaurant', 'Restaurant', 'Restaurant', 'Restaurant', 'Event', 'Event', 'Event', 'Event', 'Event', 'Event', 'Event', 'Event', 'Event', 'Event', 'Hotel', 'Hotel', 'Hotel', 'Hotel', 'Hotel', 'Hotel', 'Hotel', 'Hotel', 'Hotel', 'Hotel', 'MusicRecording', 'MusicRecording', 'MusicRecording', 'MusicRecording', 'MusicRecording', 'MusicRecording', 'MusicRecording', 'MusicRecording', 'MusicRecording', 'MusicRecording']\n"
     ]
    }
   ],
   "source": [
    "topics = [example[3] for example in test]\n",
    "print(topics)"
   ]
  },
  {
   "cell_type": "markdown",
   "id": "b33eeece",
   "metadata": {},
   "source": [
    "## Choose prompt template: without or with instructions"
   ]
  },
  {
   "cell_type": "code",
   "execution_count": 9,
   "id": "d704f16f",
   "metadata": {},
   "outputs": [],
   "source": [
    "# New prompt\n",
    "semantic_concept_template = \"\"\"\n",
    "\n",
    "Answer the question based on the task below. If the question cannot be answered using the information provided answer with \"I don't know\".\n",
    "\n",
    "Task: Suggest a semantic concept for each column of a given table. Answer with the semantic concept for each column with the format Column1: semantic concept.\n",
    "\n",
    "Table: {input}\n",
    "\n",
    "Semantic concepts:\n",
    "\n",
    "\"\"\""
   ]
  },
  {
   "cell_type": "code",
   "execution_count": 10,
   "id": "27bc61f6",
   "metadata": {},
   "outputs": [],
   "source": [
    "# Paper name: table + instructions\n",
    "inst_template = \"\"\"\n",
    "\n",
    "Answer the question based on the task and instructions below. If the question cannot be answered using the information provided answer with \"I don't know\".\n",
    "\n",
    "Task: Suggest a semantic concept for each column of a given table.\n",
    "\n",
    "Instructions: 1. Look at the input given to you and make a table out of it. 2. Look at the cell values in detail. 3. For each column, suggest a semantic concept that best represents the meaning of all cells in the column. 4. Answer with the semantic concept for each column with the format Column1: semantic concept.\n",
    "\n",
    "Table:\n",
    "{input}\n",
    "\n",
    "Semantic concepts:\n",
    "\n",
    "\"\"\""
   ]
  },
  {
   "cell_type": "code",
   "execution_count": 11,
   "id": "69280f83",
   "metadata": {},
   "outputs": [],
   "source": [
    "# prompt to ask gpt to classify labels \n",
    "classify_label_template = \"\"\"\n",
    "\n",
    "Task: Classify the semantic concept {input} with only one of the following classes that are separated with comma: description of event, description of restaurant, locality of address, postal code, region of address, country, price range, telephone, date, name of restaurant, payment accepted, day of week, review, organization, date and time, coordinate, name of event, event attendance mode, event status, currency, time, description of hotel, name of hotel, location feature, rating, fax number, email, photograph, name of music recording, music artist, name of album, duration.\n",
    "\n",
    "Class:\n",
    "\n",
    "\"\"\""
   ]
  },
  {
   "cell_type": "markdown",
   "id": "19177971",
   "metadata": {},
   "source": [
    "## Load LLM and run model"
   ]
  },
  {
   "cell_type": "code",
   "execution_count": null,
   "id": "9940af79",
   "metadata": {
    "scrolled": true
   },
   "outputs": [],
   "source": [
    "gpt_3_turbo = ChatOpenAI(model_name='gpt-3.5-turbo-0301', temperature=0)\n",
    "gpt_4 = ChatOpenAI(model_name='gpt-4', temperature=0)"
   ]
  },
  {
   "cell_type": "code",
   "execution_count": null,
   "id": "eca67e77",
   "metadata": {},
   "outputs": [],
   "source": [
    "prompt_type = \"semantic_concept\"\n",
    "if prompt_type == \"semantic_concept\":\n",
    "    prompt = PromptTemplate(template=semantic_concept_template, input_variables=['input'])\n",
    "    llm_chain = LLMChain(prompt=prompt, llm=gpt_3_turbo)\n",
    "    llm_chain_4 = LLMChain(prompt=prompt, llm=gpt_4)\n",
    "elif prompt_type == \"with_inst\":\n",
    "    prompt = PromptTemplate(template=inst_template, input_variables=['input'])\n",
    "    llm_chain = LLMChain(prompt=prompt, llm=gpt_3_turbo)\n",
    "    llm_chain_4 = LLMChain(prompt=prompt, llm=gpt_4)"
   ]
  },
  {
   "cell_type": "code",
   "execution_count": 12,
   "id": "a5f9a001",
   "metadata": {},
   "outputs": [],
   "source": [
    "def save_preds(preds: list[str], file_name: str):\n",
    "    #Save predictions in a file:\n",
    "    with open(file_name,'wb') as f:\n",
    "        pickle.dump(preds,f)\n",
    "\n",
    "def load_preds(file_name: str):\n",
    "    #Save predictions in a file:\n",
    "    with open(file_name,'rb') as f:\n",
    "        preds = pickle.load(f)\n",
    "    return preds"
   ]
  },
  {
   "cell_type": "code",
   "execution_count": null,
   "id": "0e985602",
   "metadata": {},
   "outputs": [],
   "source": [
    "#Zero-shot prediction\n",
    "preds_gpt35 = [llm_chain.run({'input': example}) for example in examples]\n",
    "save_preds(preds_gpt35, \"predictions/gpt35-prompt-table-with-instructions.pkl\")"
   ]
  },
  {
   "cell_type": "code",
   "execution_count": null,
   "id": "0feaa26c",
   "metadata": {},
   "outputs": [],
   "source": [
    "preds_gpt4 = [llm_chain_4.run({'input': example}) for example in examples]\n",
    "save_preds(preds_gpt4, \"predictions/gpt4-prompt-table-with-instructions.pkl\")"
   ]
  },
  {
   "cell_type": "code",
   "execution_count": 85,
   "id": "59acb9b2",
   "metadata": {},
   "outputs": [
    {
     "name": "stdout",
     "output_type": "stream",
     "text": [
      "['Column 1: Phone number\\nColumn 2: Restaurant name\\nColumn 3: Zip code\\nColumn 4: State\\nColumn 5: Country\\nColumn 6: Longitude\\nColumn 7: Latitude\\nColumn 8: Operating hours\\nColumn 9: Days of the week', 'Column 1: Phone number\\nColumn 2: Restaurant name\\nColumn 3: Restaurant description\\nColumn 4: Location\\nColumn 5: Operating days\\nColumn 6: Operating hours', 'Column 1: Restaurant Name\\nColumn 2: Postal Code\\nColumn 3: Payment Methods\\nColumn 4: State\\nColumn 5: Suburb', 'Column 1: Restaurant Name\\nColumn 2: Phone Number\\nColumn 3: Menu Description\\nColumn 4: City\\nColumn 5: State\\nColumn 6: Accepted Payment Methods\\nColumn 7: Zip Code\\nColumn 8: Longitude\\nColumn 9: Latitude\\nColumn 10: Opening Hours\\nColumn 11: Days of the Week', 'Column 1: Restaurant Name\\nColumn 2: Price Range\\nColumn 3: Phone Number', 'Column 1: Restaurant name\\nColumn 2: Phone number\\nColumn 3: Price range\\nColumn 4: Country code\\nColumn 5: Department/region\\nColumn 6: Postal code\\nColumn 7: Longitude\\nColumn 8: Latitude\\nColumn 9: City/town\\nColumn 10: Description/characteristics of the restaurant', 'Column 1: Restaurant Name\\nColumn 2: Phone Number\\nColumn 3: Borough\\nColumn 4: Postal Code', 'Column 1: Restaurant Name\\nColumn 2: Phone Number\\nColumn 3: Menu Items\\nColumn 4: State\\nColumn 5: Price Range\\nColumn 6: Country\\nColumn 7: City\\nColumn 8: Zip Code', 'Column 1: Restaurant Name\\nColumn 2: Phone Number\\nColumn 3: Type of Cuisine\\nColumn 4: Price Range\\nColumn 5: Zip Code\\nColumn 6: Longitude\\nColumn 7: Latitude\\nColumn 8: State Abbreviation', 'Column 1: Phone number\\nColumn 2: Restaurant name\\nColumn 3: Price range\\nColumn 4: City\\nColumn 5: Postal code\\nColumn 6: Longitude\\nColumn 7: Latitude\\nColumn 8: Country code\\nColumn 9: Description of restaurant or menu', 'Column 1: Restaurant name\\nColumn 2: N/A\\nColumn 3: Menu description\\nColumn 4: Price range\\nColumn 5: Country code\\nColumn 6: City\\nColumn 7: Payment methods\\nColumn 8: Latitude\\nColumn 9: Longitude\\nColumn 10: Opening hours\\nColumn 11: Customer reviews\\nColumn 12: Additional comments/notes', 'Column 1: Date and Time\\nColumn 2: Event Title\\nColumn 3: Event Description\\nColumn 4: End Date and Time\\nColumn 5: Event Scheduled URL', 'Column 1: Date and Time\\nColumn 2: Event Title\\nColumn 3: Event Scheduled Time\\nColumn 4: Event End Time\\nColumn 5: Event Attendance Mode', 'Column 1: Date and Time\\nColumn 2: Event Name\\nColumn 3: Event Description\\nColumn 4: End Date and Time\\nColumn 5: Schema.org EventScheduled\\nColumn 6: Schema.org OfflineEventAttendanceMode\\nColumn 7: Currency\\nColumn 8: Event Organizer/Organization', 'Column 1: Date and Time\\nColumn 2: Cooking Class Title\\nColumn 3: Description of Cooking Class\\nColumn 4: End Time\\nColumn 5: Price (in USD)', 'Column 1: Event Date\\nColumn 2: Event Time\\nColumn 3: Event Description\\nColumn 4: Contact Number\\nColumn 5: Event Location', 'Column 1: Date\\nColumn 2: Event/Program Name\\nColumn 3: Description/Details\\nColumn 4: Event Date\\nColumn 5: Event Attendance Mode\\nColumn 6: Event Schedule/Time', 'Column 1: Event or Course Name\\nColumn 2: Event Scheduled\\nColumn 3: Jury or Instructor Names\\nColumn 4: Venue or Institution Name\\nColumn 5: Offline Event Attendance Mode', 'Column 1: Date\\nColumn 2: Event Name\\nColumn 3: End Date\\nColumn 4: Event Attendance Mode\\nColumn 5: Currency\\nColumn 6: Event Description', 'Column 1: Date\\nColumn 2: Motorcycle Rally Name\\nColumn 3: Date\\nColumn 4: Location or Information about the Rally\\nColumn 5: Attendance Mode\\nColumn 6: Currency\\nColumn 7: Event Status (Scheduled, Cancelled, or Rescheduled)', 'Column 1: Event Title\\nColumn 2: Lecture Topic\\nColumn 3: Presenter Name\\nColumn 4: Seminar Description\\nColumn 5: Online Event Attendance Mode\\nColumn 6: Contact Information', 'Column 1: Hotel Name\\nColumn 2: Contact Information\\nColumn 3: Email Address\\nColumn 4: Phone Number\\nColumn 5: Tourist Attraction\\nColumn 6: Hotel Booking Information\\nColumn 7: Location/Country', 'Column 1: Hotel Name\\nColumn 2: Hotel Phone Number\\nColumn 3: Hotel Description\\nColumn 4: Hotel Reservation Phone Number\\nColumn 5: City\\nColumn 6: Postal Code\\nColumn 7: Check-in Time\\nColumn 8: Country\\nColumn 9: Check-out Time\\nColumn 10: Additional Information (None provided)', 'Column 1: Name of Aparthotel\\nColumn 2: Phone number\\nColumn 3: Location description\\nColumn 4: Check-in time\\nColumn 5: Check-out time\\nColumn 6: Postal code\\nColumn 7: City\\nColumn 8: Country\\nColumn 9: Price range\\nColumn 10: Amenities and services offered', 'Column 1: Name of Accommodation\\nColumn 2: Description of Accommodation\\nColumn 3: Accommodation Rating\\nColumn 4: Accommodation Package and Price Information', 'Column 1: Hotel Name\\nColumn 2: Description of the Hotel Location\\nColumn 3: Hotel Image\\nColumn 4: Check-in Time\\nColumn 5: Room Rates\\nColumn 6: Hotel Rating\\nColumn 7: Check-out Time\\nColumn 8: Room Amenities', 'Column 1: Location/City\\nColumn 2: Hotel/Resort Name\\nColumn 3: Rating/Score\\nColumn 4: Country\\nColumn 5: Guest Review/Feedback', 'Column 1: Hotel Name\\nColumn 2: Email Address\\nColumn 3: Image URL\\nColumn 4: Country\\nColumn 5: City\\nColumn 6: Rating\\nColumn 7: Hotel Description/Information', 'Column 1: Hotel Name\\nColumn 2: Description of Hotel\\nColumn 3: Check-in Time\\nColumn 4: Check-out Time\\nColumn 5: Postal Code\\nColumn 6: City\\nColumn 7: Country\\nColumn 8: Hotel Rating\\nColumn 9: Hotel Amenities\\nColumn 10: Accepted Payment Methods', 'Column 1: Location/Name of Amusement Park\\nColumn 2: Contact Email\\nColumn 3: Description of Amusement Park Attraction\\nColumn 4: URL to Amusement Park Attraction or Information Page', 'Column 1: Hotel Name\\nColumn 2: Description of Hotel\\nColumn 3: Accepted Payment Methods\\nColumn 4: Hotel Rating\\nColumn 5: Fax Number', 'Column 1: Song Titles\\nColumn 2: Duration\\nColumn 3: Album/Artist\\nColumn 4: Artist/Band', 'Column 1: Song Title\\nColumn 2: Duration\\nColumn 3: Category\\nColumn 4: Artist/Band Name', 'Column 1: Song Title\\nColumn 2: Duration\\nColumn 3: Artist Name', 'Column 1: Song Title\\nColumn 2: Duration\\nColumn 3: Additional Information/Notes', 'Column 1: Song Title\\nColumn 2: Duration\\nColumn 3: Artist\\nColumn 4: Album/Mixtape Name', 'Column 1: Duration\\nColumn 2: Theme/Topic\\nColumn 3: Music Title\\nColumn 4: Composer/Performer', 'Column 1: Song Title\\nColumn 2: Duration\\nColumn 3: Artist Name\\nColumn 4: Album/EP Title', 'Column 1: Song Title\\nColumn 2: Duration\\nColumn 3: Producer/Album Name', 'Column 1: Song Title/Reference\\nColumn 2: Duration\\nColumn 3: Category/Genre\\nColumn 4: Artist/Band Name', 'Column 1: Song Title\\nColumn 2: Duration\\nColumn 3: Song Title\\nColumn 4: Artist/Band Name']\n"
     ]
    }
   ],
   "source": [
    "preds = load_preds(\"predictions/gpt35-prompt-table-with-instructions.pkl\")\n",
    "print(preds)"
   ]
  },
  {
   "cell_type": "code",
   "execution_count": null,
   "id": "3521a886",
   "metadata": {},
   "outputs": [],
   "source": [
    "df = pd.DataFrame(data={\"raw_prompt_output\": preds})\n",
    "df.to_csv(\"predictions/gpt4-prompt-table-without-instructions.csv\")"
   ]
  },
  {
   "cell_type": "markdown",
   "id": "6ab6cab8",
   "metadata": {},
   "source": [
    "## Evaluation"
   ]
  },
  {
   "cell_type": "code",
   "execution_count": null,
   "id": "c14a5709",
   "metadata": {},
   "outputs": [],
   "source": [
    "prompt_classify = PromptTemplate(template=classify_label_template, input_variables=['input'])\n",
    "llm_chain_c = LLMChain(prompt=prompt_classify, llm=gpt_3_turbo)\n",
    "llm_chain_4_c = LLMChain(prompt=prompt_classify, llm=gpt_4)"
   ]
  },
  {
   "cell_type": "code",
   "execution_count": null,
   "id": "813d5aaa",
   "metadata": {},
   "outputs": [],
   "source": [
    "llm_chain_c.run({'input': \"state\"})"
   ]
  },
  {
   "cell_type": "code",
   "execution_count": 14,
   "id": "003621b8",
   "metadata": {},
   "outputs": [
    {
     "name": "stdout",
     "output_type": "stream",
     "text": [
      "{'precision': [1.000000238418579, 0.8224340677261353], 'recall': [1.000000238418579, 0.8144457340240479], 'f1': [1.000000238418579, 0.81842041015625], 'hashcode': 'roberta-large_L17_no-idf_version=0.3.9(hug_trans=4.24.0)'}\n"
     ]
    }
   ],
   "source": [
    "bertscore = load(\"bertscore\")\n",
    "predictions = [\"hello there\", \"hello there\"]\n",
    "references = [\"hello there\", \"general kenobi\"]\n",
    "results = bertscore.compute(predictions=predictions, references=references, lang=\"en\")\n",
    "print(results)"
   ]
  },
  {
   "cell_type": "code",
   "execution_count": 86,
   "id": "12e1151a",
   "metadata": {},
   "outputs": [
    {
     "name": "stderr",
     "output_type": "stream",
     "text": [
      " 59%|█████▊    | 24/41 [03:34<02:53, 10.21s/it]"
     ]
    },
    {
     "name": "stdout",
     "output_type": "stream",
     "text": [
      "For test example 173 out of label space prediction: accommodation rating\n"
     ]
    },
    {
     "name": "stderr",
     "output_type": "stream",
     "text": [
      "100%|██████████| 41/41 [05:16<00:00,  7.71s/it]\n"
     ]
    }
   ],
   "source": [
    "def evaluation_new(preds, bert_threshold=0.85, topics=None):\n",
    "    ids, predictions, original_preds, top_5_predictions, highest_bertscores = [], [], [], [], []\n",
    "    i=0\n",
    "    for j, table_preds in enumerate(tqdm(preds)):\n",
    "        # How many columns does the table have? : To control cases when less/more classes are returned\n",
    "        table_number = len(test[j][2])\n",
    "        \n",
    "        if \"Semantic concepts:\" in table_preds:\n",
    "            table_preds = table_preds.split(\"Class:\")[1]\n",
    "        \n",
    "        #Break predictions into either \\n or ,\n",
    "        if \":\" in table_preds or \"-\" in table_preds:\n",
    "            if \":\" in table_preds:\n",
    "                separator = \":\"\n",
    "                start = 1\n",
    "                end = table_number+1\n",
    "            else:\n",
    "                separator = \"-\"  \n",
    "                start = 1\n",
    "                end = table_number+1\n",
    "        else:\n",
    "            separator = \",\"\n",
    "            start = 0\n",
    "            end = table_number\n",
    "            \n",
    "        col_preds = table_preds.split(separator)[start:end]\n",
    "        for pred in col_preds:\n",
    "            i+=1\n",
    "            \n",
    "            # Remove break lines\n",
    "            if \"\\n\" in pred:\n",
    "                pred = pred.split('\\n')[0].strip()\n",
    "            # Remove commas\n",
    "            if \",\" in pred:\n",
    "                pred = pred.split(\",\")[0].strip()\n",
    "            # Remove paranthesis\n",
    "            if '(' in pred:\n",
    "                pred = pred.split(\"(\")[0].strip()\n",
    "            #Remove points\n",
    "            if '.' in pred:\n",
    "                pred = pred.split(\".\")[0].strip()\n",
    "            # Lower-case prediction\n",
    "            pred = pred.strip().lower()\n",
    "            original_preds.append(pred)\n",
    "            ids.append(j)\n",
    "\n",
    "            classes = list(text_to_label.keys())\n",
    "            bertscores = np.array(bertscore.compute(predictions=[pred] * len(classes), references=classes, lang=\"en\")[\"f1\"])\n",
    "            index = np.argsort(bertscores)[-5:]\n",
    "            max_index = index[-1]\n",
    "            top_5_predictions.append([text_to_label[classes[i]] for i in index])\n",
    "            highest_bertscores.append(bertscores[index])\n",
    "\n",
    "            highest_score = bertscores[max_index]\n",
    "\n",
    "            if highest_score > bert_threshold:\n",
    "                predictions.append(text_to_label[classes[max_index]])\n",
    "            else:\n",
    "                print(f\"For test example {i} out of label space prediction: {pred}\")\n",
    "                predictions.append('-')\n",
    "            \n",
    "        # If more/less predictions for table\n",
    "        if len(col_preds) < table_number:\n",
    "            for m in range(0, table_number-len(col_preds)):\n",
    "                predictions.append('-')\n",
    "                i+=1\n",
    "    return ids, predictions, original_preds, highest_bertscores, top_5_predictions\n",
    "\n",
    "ids, class_predictions, original_preds, highest_bertscores, top_5_preds = evaluation_new(preds)"
   ]
  },
  {
   "cell_type": "code",
   "execution_count": 87,
   "id": "5c91b925",
   "metadata": {},
   "outputs": [],
   "source": [
    "df = pd.DataFrame({\"prompt_output_id\": ids, \n",
    "                   \"label\": labels, \n",
    "                   \"parsed_col_pred\": original_preds, \n",
    "                   \"class_pred_using_bert\": class_predictions, \n",
    "                   \"highest_bertscore\": highest_bertscores,\n",
    "                   \"top_5_preds\": top_5_preds})\n",
    "df.to_csv(\"predictions/preds_gpt35_with_inst_2.csv\")"
   ]
  },
  {
   "cell_type": "code",
   "execution_count": null,
   "id": "26702dcc",
   "metadata": {},
   "outputs": [],
   "source": [
    "# Map predictions to label space\n",
    "def evaluation_old():\n",
    "    predictions = []\n",
    "    i=0\n",
    "    for j, table_preds in enumerate(preds):\n",
    "        # How many columns does the table have? : To control cases when less/more classes are returned\n",
    "        table_number = len(test[j][2])\n",
    "        \n",
    "        if \"Class:\" in table_preds:\n",
    "            table_preds = table_preds.split(\"Class:\")[1]\n",
    "        \n",
    "        #Break predictions into either \\n or ,\n",
    "        if \":\" in table_preds or \"-\" in table_preds:\n",
    "            if \":\" in table_preds:\n",
    "                separator = \":\"\n",
    "                start = 1\n",
    "                end = table_number+1\n",
    "            else:\n",
    "                separator = \"-\"  \n",
    "                start = 1\n",
    "                end = table_number+1\n",
    "        else:\n",
    "            separator = \",\"\n",
    "            start = 0\n",
    "            end = table_number\n",
    "            \n",
    "        col_preds = table_preds.split(separator)[start:end]\n",
    "        \n",
    "        for pred in col_preds:\n",
    "            i+=1\n",
    "            \n",
    "            # Remove break lines\n",
    "            if \"\\n\" in pred:\n",
    "                pred = pred.split('\\n')[0].strip()\n",
    "            # Remove commas\n",
    "            if \",\" in pred:\n",
    "                pred = pred.split(\",\")[0].strip()\n",
    "            # Remove paranthesis\n",
    "            if '(' in pred:\n",
    "                pred = pred.split(\"(\")[0].strip()\n",
    "            #Remove points\n",
    "            if '.' in pred:\n",
    "                pred = pred.split(\".\")[0].strip()\n",
    "            # Lower-case prediction\n",
    "            pred = pred.strip().lower()\n",
    "            \n",
    "            if pred in text_to_label:\n",
    "                predictions.append(text_to_label[pred])\n",
    "            else:\n",
    "                print(f\"For test example {i} out of label space prediction: {pred}\")\n",
    "                predictions.append('-')\n",
    "            \n",
    "        # If more/less predictions for table\n",
    "        if len(col_preds) < table_number:\n",
    "            for m in range(0, table_number-len(col_preds)):\n",
    "                predictions.append('-')\n",
    "                i+=1\n",
    "\n",
    "evaluation_old()"
   ]
  },
  {
   "cell_type": "markdown",
   "id": "7ab2350d",
   "metadata": {},
   "source": [
    "### Calculate Precision, Recall, Macro-F1 and Micro-F1"
   ]
  },
  {
   "cell_type": "code",
   "execution_count": 90,
   "id": "d81907f0",
   "metadata": {},
   "outputs": [
    {
     "data": {
      "text/html": [
       "<div>\n",
       "<style scoped>\n",
       "    .dataframe tbody tr th:only-of-type {\n",
       "        vertical-align: middle;\n",
       "    }\n",
       "\n",
       "    .dataframe tbody tr th {\n",
       "        vertical-align: top;\n",
       "    }\n",
       "\n",
       "    .dataframe thead th {\n",
       "        text-align: right;\n",
       "    }\n",
       "</style>\n",
       "<table border=\"1\" class=\"dataframe\">\n",
       "  <thead>\n",
       "    <tr style=\"text-align: right;\">\n",
       "      <th></th>\n",
       "      <th>prompt_output_id</th>\n",
       "      <th>label</th>\n",
       "      <th>parsed_col_pred</th>\n",
       "      <th>class_pred_using_bert</th>\n",
       "      <th>highest_bertscore</th>\n",
       "      <th>top_5_preds</th>\n",
       "      <th>lionel_annot</th>\n",
       "    </tr>\n",
       "  </thead>\n",
       "  <tbody>\n",
       "    <tr>\n",
       "      <th>0</th>\n",
       "      <td>0</td>\n",
       "      <td>telephone</td>\n",
       "      <td>phone number</td>\n",
       "      <td>telephone</td>\n",
       "      <td>[0.90746641 0.91230839 0.91649085 0.9181211  0...</td>\n",
       "      <td>['Event/name', 'Date', 'faxNumber', 'priceRang...</td>\n",
       "      <td>telephone</td>\n",
       "    </tr>\n",
       "    <tr>\n",
       "      <th>1</th>\n",
       "      <td>0</td>\n",
       "      <td>Restaurant/name</td>\n",
       "      <td>restaurant name</td>\n",
       "      <td>Restaurant/name</td>\n",
       "      <td>[0.90765798 0.90860718 0.91736311 0.91822797 0...</td>\n",
       "      <td>['Restaurant/description', 'Hotel/name', 'Rest...</td>\n",
       "      <td>Restaurant/name</td>\n",
       "    </tr>\n",
       "    <tr>\n",
       "      <th>2</th>\n",
       "      <td>0</td>\n",
       "      <td>postalCode</td>\n",
       "      <td>zip code</td>\n",
       "      <td>postalCode</td>\n",
       "      <td>[0.85932994 0.86107123 0.8723675  0.8726126  0...</td>\n",
       "      <td>['Event/description', 'Duration', 'Event/name'...</td>\n",
       "      <td>postalCode</td>\n",
       "    </tr>\n",
       "    <tr>\n",
       "      <th>3</th>\n",
       "      <td>0</td>\n",
       "      <td>addressRegion</td>\n",
       "      <td>state</td>\n",
       "      <td>Country</td>\n",
       "      <td>[0.89595306 0.89995229 0.90346491 0.90814996 0...</td>\n",
       "      <td>['Time', 'Duration', 'currency', 'Date', 'Coun...</td>\n",
       "      <td>addressRegion</td>\n",
       "    </tr>\n",
       "    <tr>\n",
       "      <th>4</th>\n",
       "      <td>0</td>\n",
       "      <td>Country</td>\n",
       "      <td>country</td>\n",
       "      <td>Country</td>\n",
       "      <td>[0.91340989 0.91425383 0.9207198  0.93141145 0...</td>\n",
       "      <td>['Duration', 'currency', 'Time', 'Date', 'Coun...</td>\n",
       "      <td>Country</td>\n",
       "    </tr>\n",
       "  </tbody>\n",
       "</table>\n",
       "</div>"
      ],
      "text/plain": [
       "   prompt_output_id            label  parsed_col_pred class_pred_using_bert  \\\n",
       "0                 0        telephone     phone number             telephone   \n",
       "1                 0  Restaurant/name  restaurant name       Restaurant/name   \n",
       "2                 0       postalCode         zip code            postalCode   \n",
       "3                 0    addressRegion            state               Country   \n",
       "4                 0          Country          country               Country   \n",
       "\n",
       "                                   highest_bertscore  \\\n",
       "0  [0.90746641 0.91230839 0.91649085 0.9181211  0...   \n",
       "1  [0.90765798 0.90860718 0.91736311 0.91822797 0...   \n",
       "2  [0.85932994 0.86107123 0.8723675  0.8726126  0...   \n",
       "3  [0.89595306 0.89995229 0.90346491 0.90814996 0...   \n",
       "4  [0.91340989 0.91425383 0.9207198  0.93141145 0...   \n",
       "\n",
       "                                         top_5_preds     lionel_annot  \n",
       "0  ['Event/name', 'Date', 'faxNumber', 'priceRang...        telephone  \n",
       "1  ['Restaurant/description', 'Hotel/name', 'Rest...  Restaurant/name  \n",
       "2  ['Event/description', 'Duration', 'Event/name'...       postalCode  \n",
       "3  ['Time', 'Duration', 'currency', 'Date', 'Coun...    addressRegion  \n",
       "4  ['Duration', 'currency', 'Time', 'Date', 'Coun...          Country  "
      ]
     },
     "execution_count": 90,
     "metadata": {},
     "output_type": "execute_result"
    }
   ],
   "source": [
    "df = pd.read_csv(\"predictions/preds_gpt35_with_inst_2.csv\",index_col=0)\n",
    "labels, preds = df[\"label\"], df[\"lionel_annot\"]\n",
    "# top_5 = df[\"top_5_preds\"]\n",
    "df.head()"
   ]
  },
  {
   "cell_type": "code",
   "execution_count": 91,
   "id": "80edaecc",
   "metadata": {},
   "outputs": [
    {
     "name": "stdout",
     "output_type": "stream",
     "text": [
      "250\n",
      "140\n",
      "197\n"
     ]
    }
   ],
   "source": [
    "print(len(df))\n",
    "print(len(df[df[\"label\"] == df[\"class_pred_using_bert\"]]))\n",
    "df['label_in_top_5'] = df[['label','top_5_preds']].apply(\n",
    "    lambda row: row['label'] in row['top_5_preds'], axis=1\n",
    ")\n",
    "print(len(df[df[\"label_in_top_5\"] == True]))"
   ]
  },
  {
   "cell_type": "code",
   "execution_count": 58,
   "id": "e1a1bf30",
   "metadata": {},
   "outputs": [],
   "source": [
    "def calculate_f1_scores(y_tests, y_preds, num_classes):\n",
    "    types = list(set(labels))\n",
    "    types = types + [\"-\"]\n",
    "    \n",
    "    y_tests = [types.index(y) for y in y_tests]\n",
    "    y_preds = [types.index(y) for y in y_preds]\n",
    "    \n",
    "    #Confusion matrix\n",
    "    cm = np.zeros(shape=(num_classes,num_classes))\n",
    "    \n",
    "    for i in range(len(y_tests)):\n",
    "        cm[y_preds[i]][y_tests[i]] += 1\n",
    "        \n",
    "    report = {}\n",
    "    \n",
    "    for j in range(len(cm[0])):\n",
    "        report[j] = {}\n",
    "        report[j]['FN'] = 0\n",
    "        report[j]['FP'] = 0\n",
    "        report[j]['TP'] = cm[j][j]\n",
    "\n",
    "        for i in range(len(cm)):\n",
    "            if i != j:\n",
    "                report[j]['FN'] += cm[i][j]\n",
    "        for k in range(len(cm[0])):\n",
    "            if k != j:\n",
    "                report[j]['FP'] += cm[j][k]\n",
    "\n",
    "        precision = report[j]['TP'] / (report[j]['TP'] + report[j]['FP'])\n",
    "        recall = report[j]['TP'] / (report[j]['TP'] + report[j]['FN'])\n",
    "        f1 = 2*precision*recall / (precision + recall)\n",
    "        \n",
    "        if np.isnan(f1):\n",
    "            f1 = 0\n",
    "        if np.isnan(precision):\n",
    "            f1 = 0\n",
    "        if np.isnan(recall):\n",
    "            f1 = 0\n",
    "\n",
    "        report[j]['p'] =  precision\n",
    "        report[j]['r'] =  recall\n",
    "        report[j]['f1'] = f1\n",
    "    \n",
    "    all_fn = 0\n",
    "    all_tp = 0\n",
    "    all_fp = 0\n",
    "\n",
    "    for r in report:\n",
    "        if r != num_classes-1:\n",
    "            all_fn += report[r]['FN']\n",
    "            all_tp += report[r]['TP']\n",
    "            all_fp += report[r]['FP']\n",
    "        \n",
    "    class_f1s = [ report[class_]['f1'] for class_ in report]\n",
    "    class_p = [ 0 if np.isnan(report[class_]['p']) else report[class_]['p'] for class_ in report]\n",
    "    class_r = [ 0 if np.isnan(report[class_]['r']) else report[class_]['r'] for class_ in report]\n",
    "    macro_f1 = sum(class_f1s[:-1]) / (num_classes-1)\n",
    "    \n",
    "    p =  sum(class_p[:-1]) / (num_classes-1)\n",
    "    r =  sum(class_r[:-1]) / (num_classes-1)\n",
    "    micro_f1 = all_tp / ( all_tp + (1/2 * (all_fp + all_fn) )) \n",
    "    \n",
    "    per_class_eval = {}\n",
    "    for index, t in enumerate(types[:-1]):\n",
    "        per_class_eval[t] = {\"Precision\":class_p[index], \"Recall\": class_r[index], \"F1\": class_f1s[index]}\n",
    "    \n",
    "    evaluation = {\n",
    "        \"Micro-F1\": micro_f1,\n",
    "        \"Macro-F1\": macro_f1,\n",
    "        \"Precision\": p,\n",
    "        \"Recall\": r\n",
    "    }\n",
    "    \n",
    "    return evaluation, per_class_eval"
   ]
  },
  {
   "cell_type": "code",
   "execution_count": 92,
   "id": "b1770b52",
   "metadata": {
    "scrolled": true
   },
   "outputs": [
    {
     "name": "stdout",
     "output_type": "stream",
     "text": [
      "{'Micro-F1': 0.8824742268041237, 'Macro-F1': 0.8407250484059463, 'Precision': 0.916870716089466, 'Recall': 0.8131448412698412}\n",
      "{'EventStatusType': {'Precision': 1.0, 'Recall': 0.16666666666666666, 'F1': 0.2857142857142857}, 'Hotel/name': {'Precision': 1.0, 'Recall': 0.9, 'F1': 0.9473684210526316}, 'Review': {'Precision': 0.5, 'Recall': 0.25, 'F1': 0.3333333333333333}, 'EventAttendanceModeEnumeration': {'Precision': 0.8333333333333334, 'Recall': 0.7142857142857143, 'F1': 0.7692307692307692}, 'Event/description': {'Precision': 0.7272727272727273, 'Recall': 0.8888888888888888, 'F1': 0.7999999999999999}, 'Restaurant/name': {'Precision': 1.0, 'Recall': 1.0, 'F1': 1.0}, 'Event/name': {'Precision': 1.0, 'Recall': 0.9, 'F1': 0.9473684210526316}, 'faxNumber': {'Precision': 1.0, 'Recall': 0.3333333333333333, 'F1': 0.5}, 'Country': {'Precision': 0.9166666666666666, 'Recall': 0.9166666666666666, 'F1': 0.9166666666666666}, 'DayOfWeek': {'Precision': 1.0, 'Recall': 0.75, 'F1': 0.8571428571428571}, 'DateTime': {'Precision': 0.9, 'Recall': 0.9, 'F1': 0.9}, 'addressLocality': {'Precision': 0.9166666666666666, 'Recall': 0.9166666666666666, 'F1': 0.9166666666666666}, 'currency': {'Precision': 1.0, 'Recall': 0.75, 'F1': 0.8571428571428571}, 'MusicAlbum/name': {'Precision': 0.75, 'Recall': 0.42857142857142855, 'F1': 0.5454545454545454}, 'Hotel/description': {'Precision': 0.8888888888888888, 'Recall': 0.8888888888888888, 'F1': 0.8888888888888888}, 'Photograph': {'Precision': 1.0, 'Recall': 0.6666666666666666, 'F1': 0.8}, 'Date': {'Precision': 0.8571428571428571, 'Recall': 1.0, 'F1': 0.923076923076923}, 'addressRegion': {'Precision': 1.0, 'Recall': 1.0, 'F1': 1.0}, 'postalCode': {'Precision': 0.9090909090909091, 'Recall': 0.8333333333333334, 'F1': 0.8695652173913043}, 'telephone': {'Precision': 0.875, 'Recall': 0.9333333333333333, 'F1': 0.9032258064516129}, 'MusicRecording/name': {'Precision': 0.8181818181818182, 'Recall': 0.9, 'F1': 0.8571428571428572}, 'Rating': {'Precision': 1.0, 'Recall': 1.0, 'F1': 1.0}, 'Time': {'Precision': 0.8333333333333334, 'Recall': 0.8333333333333334, 'F1': 0.8333333333333334}, 'priceRange': {'Precision': 0.9, 'Recall': 1.0, 'F1': 0.9473684210526316}, 'Duration': {'Precision': 1.0, 'Recall': 1.0, 'F1': 1.0}, 'paymentAccepted': {'Precision': 1.0, 'Recall': 1.0, 'F1': 1.0}, 'Restaurant/description': {'Precision': 0.7142857142857143, 'Recall': 1.0, 'F1': 0.8333333333333333}, 'Organization': {'Precision': 1.0, 'Recall': 0.5, 'F1': 0.6666666666666666}, 'CoordinateAT': {'Precision': 1.0, 'Recall': 1.0, 'F1': 1.0}, 'MusicArtistAT': {'Precision': 1.0, 'Recall': 0.9, 'F1': 0.9473684210526316}, 'email': {'Precision': 1.0, 'Recall': 1.0, 'F1': 1.0}, 'LocationFeatureSpecification': {'Precision': 1.0, 'Recall': 0.75, 'F1': 0.8571428571428571}}\n"
     ]
    },
    {
     "name": "stderr",
     "output_type": "stream",
     "text": [
      "/tmp/ipykernel_107517/4141412260.py:30: RuntimeWarning: invalid value encountered in double_scalars\n",
      "  recall = report[j]['TP'] / (report[j]['TP'] + report[j]['FN'])\n"
     ]
    }
   ],
   "source": [
    "evaluation, per_class_eval = calculate_f1_scores(labels, preds, 33)\n",
    "print(evaluation)\n",
    "print(per_class_eval)"
   ]
  },
  {
   "cell_type": "code",
   "execution_count": 52,
   "id": "afd645fc",
   "metadata": {},
   "outputs": [
    {
     "data": {
      "text/plain": [
       "(0.328, 0.328, 0.328, None)"
      ]
     },
     "execution_count": 52,
     "metadata": {},
     "output_type": "execute_result"
    }
   ],
   "source": [
    "from sklearn.metrics import precision_recall_fscore_support\n",
    "precision_recall_fscore_support(labels, preds, average=\"micro\")"
   ]
  },
  {
   "cell_type": "markdown",
   "id": "0a4ba678",
   "metadata": {},
   "source": [
    "## Error Analysis"
   ]
  },
  {
   "cell_type": "code",
   "execution_count": null,
   "id": "af914f99",
   "metadata": {},
   "outputs": [],
   "source": [
    "# \"-\" means the model replied with out of label or with I don't know\n",
    "errors = 0\n",
    "for i in range(len(predictions)):\n",
    "    if predictions[i] != labels[i]:\n",
    "        errors += 1\n",
    "        print(f\"Predicted as {predictions[i]} when it was {labels[i]}\")\n",
    "errors"
   ]
  }
 ],
 "metadata": {
  "kernelspec": {
   "display_name": "Python 3 (ipykernel)",
   "language": "python",
   "name": "python3"
  },
  "language_info": {
   "codemirror_mode": {
    "name": "ipython",
    "version": 3
   },
   "file_extension": ".py",
   "mimetype": "text/x-python",
   "name": "python",
   "nbconvert_exporter": "python",
   "pygments_lexer": "ipython3",
   "version": "3.10.9"
  }
 },
 "nbformat": 4,
 "nbformat_minor": 5
}
