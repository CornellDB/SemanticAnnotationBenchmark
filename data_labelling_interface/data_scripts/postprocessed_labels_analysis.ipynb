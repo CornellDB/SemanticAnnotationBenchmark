{
 "cells": [
  {
   "cell_type": "code",
   "execution_count": null,
   "metadata": {},
   "outputs": [],
   "source": [
    "import pandas as pd\n",
    "import ast\n",
    "import itertools\n",
    "from collections import Counter\n",
    "import matplotlib.pyplot as plt\n",
    "from collections import defaultdict\n",
    "from utils import calculate_bertscore_f1, get_synonyms, preprocess_text\n",
    "import numpy as np"
   ]
  },
  {
   "cell_type": "code",
   "execution_count": null,
   "metadata": {},
   "outputs": [],
   "source": [
    "gt_labels = pd.read_csv(\"postprocessed_labels.csv\")\n",
    "gt_labels[\"most_granular_concept_synonyms\"] = gt_labels[\"most_granular_concept_synonyms\"].apply(ast.literal_eval)\n",
    "merged = list(itertools.chain(*gt_labels[\"most_granular_concept_synonyms\"].map(lambda row: [col[0] for col in row if col]).to_list()))"
   ]
  },
  {
   "cell_type": "code",
   "execution_count": null,
   "metadata": {},
   "outputs": [],
   "source": [
    "total_columns = 0\n",
    "for table in gt_labels[\"most_granular_concept_synonyms\"]:\n",
    "    for column in table:\n",
    "        if len(column) > 0:\n",
    "            total_columns += 1\n",
    "print(total_columns)"
   ]
  },
  {
   "cell_type": "code",
   "execution_count": null,
   "metadata": {},
   "outputs": [],
   "source": [
    "def identify_common_by_bertscore(current_word: str, all_words: list[str]) -> str | None:\n",
    "    bertscores = calculate_bertscore_f1(current_word, all_words)\n",
    "    max_index = np.argmax(bertscores)\n",
    "    if bertscores[max_index] > 0.8:\n",
    "        return all_words[max_index]\n",
    "    return None\n",
    "\n",
    "def identify_common_by_nltk(current_word: str, all_words: list[str]) -> str | None:\n",
    "    print(f\"attempting to match {current_word} with {all_words}\")\n",
    "    synonym_sets_of_current_word = get_synonyms(preprocess_text(current_word, True))\n",
    "    for word in all_words:\n",
    "        if len(word.split(\" \")) != 1:\n",
    "            continue\n",
    "        if any(\n",
    "            synonym_sets_of_current_word.intersection(get_synonyms(preprocess_text(word, True)))\n",
    "        ):\n",
    "            return word\n",
    "    return None\n",
    "    \n",
    "def group_common_words(labels: list[str]) -> dict[str, list[str]]:\n",
    "    tracker = defaultdict(list)\n",
    "    for label in labels:\n",
    "        # Initial start\n",
    "        if len(tracker) == 0:\n",
    "            tracker[label].append(label)\n",
    "        else:\n",
    "            current_root_concepts = list(tracker.keys())\n",
    "            if len(label.split(\" \")) == 1 and (\n",
    "                most_similar_word := identify_common_by_nltk(label, current_root_concepts)\n",
    "            ):\n",
    "                print(f\"identify match using nltk {label} with {most_similar_word}\")\n",
    "                tracker[most_similar_word].append(label)\n",
    "            elif most_similar_word := identify_common_by_bertscore(label, current_root_concepts):\n",
    "                print(f\"identify match using bertscore {label} with {most_similar_word}\")\n",
    "                tracker[most_similar_word].append(label)\n",
    "            else:\n",
    "                # Set label as a new root word if\n",
    "                tracker[label].append(label)\n",
    "    return tracker"
   ]
  },
  {
   "cell_type": "code",
   "execution_count": null,
   "metadata": {},
   "outputs": [],
   "source": [
    "tracker = group_common_words(merged)"
   ]
  },
  {
   "cell_type": "code",
   "execution_count": null,
   "metadata": {},
   "outputs": [],
   "source": [
    "sorted_concept_counts = sorted([(key, len(val)) for key, val in tracker.items()], key=lambda x: -x[1])\n",
    "keys, values = list(zip(*sorted_concept_counts))\n",
    "print(keys[:20], values[:20])\n",
    "ticks = range(20)\n",
    "plt.bar(ticks,values[:20], align='center')\n",
    "plt.xticks(ticks, keys[:20], rotation=90)"
   ]
  },
  {
   "cell_type": "code",
   "execution_count": null,
   "metadata": {},
   "outputs": [],
   "source": [
    "len(keys)"
   ]
  },
  {
   "cell_type": "code",
   "execution_count": null,
   "metadata": {},
   "outputs": [],
   "source": [
    "tracker"
   ]
  },
  {
   "cell_type": "code",
   "execution_count": null,
   "metadata": {},
   "outputs": [],
   "source": []
  }
 ],
 "metadata": {
  "kernelspec": {
   "display_name": "llm",
   "language": "python",
   "name": "python3"
  },
  "language_info": {
   "codemirror_mode": {
    "name": "ipython",
    "version": 3
   },
   "file_extension": ".py",
   "mimetype": "text/x-python",
   "name": "python",
   "nbconvert_exporter": "python",
   "pygments_lexer": "ipython3",
   "version": "3.10.9"
  }
 },
 "nbformat": 4,
 "nbformat_minor": 2
}
