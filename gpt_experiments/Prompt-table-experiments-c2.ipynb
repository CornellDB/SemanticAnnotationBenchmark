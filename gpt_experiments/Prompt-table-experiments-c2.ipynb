{
 "cells": [
  {
   "cell_type": "code",
   "execution_count": 1,
   "id": "307f1685",
   "metadata": {},
   "outputs": [],
   "source": [
    "import os\n",
    "import re\n",
    "import pickle\n",
    "import numpy as np\n",
    "from dotenv import dotenv_values\n",
    "from langchain import PromptTemplate, LLMChain, OpenAI\n",
    "from langchain.chat_models import ChatOpenAI\n",
    "from tqdm import tqdm\n",
    "from evaluate import load\n",
    "import pandas as pd"
   ]
  },
  {
   "cell_type": "code",
   "execution_count": 2,
   "id": "5ba1a34e",
   "metadata": {},
   "outputs": [],
   "source": [
    "# Load env file with API KEY using full path\n",
    "config = dotenv_values(\".env\")\n",
    "os.environ['OPENAI_API_KEY'] = config[\"OPENAI_API_KEY\"]"
   ]
  },
  {
   "cell_type": "markdown",
   "id": "c1b93f4d",
   "metadata": {},
   "source": [
    "## Load test set"
   ]
  },
  {
   "cell_type": "code",
   "execution_count": 3,
   "id": "23d0ba61",
   "metadata": {},
   "outputs": [
    {
     "name": "stdout",
     "output_type": "stream",
     "text": [
      "defaultdict(<class 'dict'>, {'world-freediving-records': {'2': ['human']}, 'bowl-subdivision-fbs-national-team-r': {'1': ['university']}, 'nen-counts-test': {'3': ['count']}, 'simplified-workload': {'3': ['frequency']}, 'photo_log_img_freqs': {'1': ['frequency']}, 'planet-mars-3': {'0': ['doi']}, 'planet-mars-2': {'0': ['doi']}, 'planet-mars-4': {'1': ['doi']}, 'planet-mars': {'1': ['doi']}, 'map-of-wing-commander-privateer': {'0': ['star system'], '1': ['star system']}, 'yeast-protein-protein-interaction-ne': {'0': ['protein'], '1': ['protein']}, 'social-network-data-depth-2': {'0': ['identifier', 'id']}, 'test2-6': {'0': ['human']}, 'test2-9': {'0': ['human']}, 'relationships-among-personages-in-a-': {'0': ['human']}, 'connections-between-geospatial-infor': {'0': ['organization']}, 'who-is-who-at-the-history-of-love-by': {'0': ['human']}, 'orens-network-diagram-take-2': {'0': ['fictional human']}, 'o-2': {'1': ['organization']}, 'sd': {'1': ['organization']}, 'yhu': {'1': ['organization']}, 'billionaires-2': {'1': ['age']}, 'titanic-noisy-survival-data': {'1': ['age group', 'age']}, 'hotel-survey-data': {'61': ['age group', 'age']}, 'percent-who-say-pop-vs-soda': {'1': ['population']}, 'walmart-presence-vs-votes-for-g-w-bu': {'3': ['population']}, 'mobile-phone-penetration-vs-internet': {'0': ['country']}, 'website-visits-to-india-based-school-2': {'0': ['country']}, 'worldwide-adult-smoking-population-p': {'0': ['country']}, 'lrp-data-zeroed-out': {'0': ['state of the United States', 'state']}, 'crime-rate-per-100k-pop-vs-rate-of': {'0': ['state of the United States', 'state']}, 'scores-by-state': {'0': ['state of the United States', 'state']}, 'earmarks-in-the-fy2008-senate-defens': {'1': ['political party of the United States', 'political party', 'party']}, 'earmark-funding-secured-senate-fy-20': {'1': ['political party of the United States', 'political party', 'party']}, 'us-locations': {'0': ['city']}, 'aa-7': {'0': ['city']}, 'aa-8': {'0': ['city']}, 'cs-courses-joseph-edit2': {'1': ['year']}, 'of-americans-who-would-vote-for-a-3': {'0': ['year']}, 'median-salaries-san-francisco-bay-': {'0': ['occupation', 'profession']}, '1st-parliament-of-canada-with-prov': {'2': ['occupation', 'profession'], '1': ['member of parliament of canada', 'member of parliament', 'politician']}, '2nd-parliament-occupations': {'0': ['occupation', 'profession']}, '19th-parliament-1917-1921': {'1': ['occupation', 'profession']}, 'business-by-zip-3': {'1': ['zip code', 'postal code']}, 'donations-to-either-hunter-or-tancre': {'5': ['postal code', 'zip code']}, 'xc-skiers-in-new-england-by-age-and-': {'3': ['postal code', 'zip code']}, 'forbes-global-2000-2007-ed': {'1': ['business']}, 'aiga-next-2007-attendees-from-colora': {'1': ['company']}, 'major-production-companies-vs-their-': {'0': ['company']}, 'email-received-2': {'0': ['email']}, 'emails-iii': {'0': ['email']}, 'world-languages-by-conversational-pr': {'0': ['language']}, 'internet-users-per-language-worldwid': {'0': ['language']}, 'airfares-boston-to-vegas': {'2': ['airline'], '5': ['date'], '6': ['time period', 'time'], '7': ['duration', 'time'], '8': ['travel class', 'class']}, 'catch-blocks-by-file': {'0': ['filepath', 'filename']}, 'catch-blocks-by-file-4': {'1': ['filename', 'filepath']}, 'use-of-nikon-digital-cameras-on-fl': {'0': ['camera model', 'camera']}, 'maryland-2005-06-mens-basketball-div': {'0': ['human']}, 'catch-blocks-by-file-3': {'1': ['filename', 'filepath']}, 'daily-use-of-nikon-digital-cameras': {'0': ['camera model', 'camera']}, 'staff-social-network-9': {'0': ['human']}, 'flickr-canon-v-nikon': {'1': ['camera model', 'camera']}, 'staff-social-network-3': {'0': ['human']}, 'dataloss': {'1': ['organization']}, 'staff-social-network-11': {'0': ['human']}, 'comprehensive-list-of-nyc-public-and': {'0': ['high school', 'school']}, 'staff-social-network-2': {'0': ['human']}, 'catch-blocks-by-file-2': {'0': ['filepath', 'filename']}, 'cml': {'0': ['human']}, 'hurricane': {'5': ['hurricane']}, 'top-25-mls-salaries-team-totals': {'1': ['association football player', 'football player']}, 'important-greek-figures-dates-are-al': {'0': ['greeks', 'greek person', 'greek']}, 'important-greek-figures-dates-are-al-7': {'0': ['greeks', 'greek person', 'greek']}, 'idtheft_usa': {'1': ['organization']}, 'ricorrenze-luoghi-biblici': {'0': ['biblical place', 'place']}, 'lunar-mons-nomenclature': {'0': ['lunar mountain']}, 'lunar-mare-nomenclature': {'0': ['lunar mare']}, 'lunar-lacus-nomenclature': {'0': ['lunar mare']}, 'lunar-crater-names-locations-diame': {'0': ['lunar crater']}, 'part-replacement-rates-by-age-of-par': {'0': ['motherboard']}, 'jim-ps-genealogy-surname-data-count-': {'0': ['surname']}, 'itunes-unrated-songs': {'0': ['song']}, 'itunes-library': {'0': ['song']}, 'plain-integers': {'0': ['song']}, 'social-networks-data': {'0': ['social network']}, 'name-states': {'0': ['enterprise']}, 'name-state-2': {'0': ['enterprise']}, 'data-losses-affected-users': {'1': ['country code', 'country']}, 'number-of-spending-and-saving-bills': {'0': ['senator', 'politician']}, 'spending-agendas-for-senators-in-the': {'0': ['senator', 'politician']}, 'itunes-library-9': {'0': ['song']}, 'house-net-spending-data-for-109th-co': {'0': ['member of the US House of Representatives', 'congressman', 'congressperson', 'politician']}, '1st-parliament-of-canada-enhanced': {'0': ['Member of Parliament of Canada', 'member of parliament', 'politician']}, 'net-worth-in-dollars-separate-city': {'1': ['billionaire']}, 'xbla-sales-data': {'0': ['video game']}, 'words-60': {'0': ['video game']}, 'alcohol-violations-of-liberal-arts-c-2': {'0': ['liberal arts college in the United States', 'congressman', 'congressperson', 'politician']}, 'words-61': {'0': ['liberal arts college in the United States', 'college', 'liberal arts college']}, 'net-cost-of-house-bills-introduced-i-5': {'0': ['congressperson', 'congressman', 'politician']}, 'arriv_varicam_telealta': {'2': ['percentage']}, '20_hd_blog_table': {'2': ['percentage']}, 'mlb-rosters-as-of-2-28-07': {'5': ['age']}, 'occupations-of-members-of-federal-': {'0': ['occupation', 'profession']}, '17th-parliament-quebec': {'0': ['occupation', 'profession']}, 'wylie-wigtownshire-1841-census-impro-3': {'5': ['occupation', 'profession']}, 'households-containing-wylies-or-phon-2': {'5': ['occupation', 'profession']}, 'news-coverage-for-my-portfolio': {'0': ['company']}, 'transposed-languages-on-wikipedia': {'0': ['language code', 'language']}, '17th-parliament': {'0': ['occupation']}})\n"
     ]
    }
   ],
   "source": [
    "from collections import defaultdict\n",
    "with open(\"c2_data/column_gt.txt\") as f:\n",
    "    column_gt = defaultdict(dict)\n",
    "    for line in f.readlines():\n",
    "        table_name_col, concepts = line.strip('\\n').split(',', 1)\n",
    "        concepts = [concept.strip('\"') for concept in concepts.split(\",\")]\n",
    "        table_name, col_idx = table_name_col.strip('\"').split(\" \")\n",
    "        column_gt[table_name][col_idx] = concepts\n",
    "print(column_gt)\n",
    "\n",
    "with open(\"c2_data/table_names.txt\") as f:\n",
    "    table_names = [line.strip('\\n').strip('\"') for line in f.readlines()]\n",
    "\n",
    "labels = []\n",
    "col_idxs = []\n",
    "examples_top_rows = []\n",
    "full_examples = []\n",
    "for table_name in table_names:\n",
    "    with open(f\"c2_data/tables/{table_name}\") as f:\n",
    "        lines = list(f.readlines())\n",
    "        lines = [line.strip(\"\\n\").replace(\"\\t\", \" || \") for line in lines]\n",
    "        columns_count = len(lines[0].split(\" || \"))\n",
    "        columns_row_count = len(lines[1].split(\" || \"))\n",
    "        if columns_row_count != columns_count:\n",
    "            if columns_row_count < columns_count:\n",
    "                for i in range(1, len(lines)):\n",
    "                    lines[i] += \" || \" * (columns_count - columns_row_count)\n",
    "            elif columns_row_count > columns_count:\n",
    "                for i in range(1, len(lines)):\n",
    "                    current = lines[i].split(\" || \")\n",
    "                    lines[i] = \" || \".join(current[:columns_count])\n",
    "        poss_labels = []\n",
    "        table_col_idx = []\n",
    "        if table_name in column_gt:\n",
    "            for idx, concepts in column_gt[table_name].items():\n",
    "                poss_labels.append(concepts[0])\n",
    "                table_col_idx.append(idx)\n",
    "        labels.append(poss_labels)\n",
    "        col_idxs.append(table_col_idx)\n",
    "        new_column_header = \" || \".join([f\"Column {i}\" for i in range(columns_count)]) + \"\\n\"\n",
    "        examples_top_rows.append(new_column_header + \"\\n\".join(lines[1:6]))\n",
    "        full_examples.append(new_column_header + \"\\n\".join(lines[1:]))"
   ]
  },
  {
   "cell_type": "code",
   "execution_count": 4,
   "id": "155be31b",
   "metadata": {},
   "outputs": [
    {
     "name": "stdout",
     "output_type": "stream",
     "text": [
      "nen-counts-test\n",
      "Column 0 || Column 1 || Column 2 || Column 3\n",
      "TX || 78412 || ADSL || 5\n",
      "WA || 98362 || IDSL || 12\n",
      "TX || 75701 || ADSL || 10\n",
      "TX || 79912 || ADSL || 5\n",
      "WA || 99362 || ADSL || 33\n",
      "['3']\n",
      "['count']\n"
     ]
    }
   ],
   "source": [
    "table_id = 88\n",
    "print(table_names[table_id])\n",
    "print(examples_top_rows[table_id])\n",
    "print(col_idxs[table_id])\n",
    "print(labels[table_id])"
   ]
  },
  {
   "cell_type": "markdown",
   "id": "b33eeece",
   "metadata": {},
   "source": [
    "## Choose prompt template: without or with instructions"
   ]
  },
  {
   "cell_type": "code",
   "execution_count": 5,
   "id": "8efc5cfa",
   "metadata": {},
   "outputs": [],
   "source": [
    "# Paper name: table\n",
    "original_template = \"\"\"\n",
    "\n",
    "Answer the question based on the task below. If the question cannot be answered using the information provided answer with \"I don't know\".\n",
    "\n",
    "Task: Classify the columns of a given table with only one of the following classes that are separated with comma: description of event, description of restaurant, locality of address, postal code, region of address, country, price range, telephone, date, name of restaurant, payment accepted, day of week, review, organization, date and time, coordinate, name of event, event attendance mode, event status, currency, time, description of hotel, name of hotel, location feature, rating, fax number, email, photograph, name of music recording, music artist, name of album, duration.\n",
    "\n",
    "Table: {input}\n",
    "\n",
    "Class:\n",
    "\n",
    "\"\"\"\n",
    "\n",
    "# Paper name: table + instructions\n",
    "original_inst_template = \"\"\"\n",
    "\n",
    "Answer the question based on the task and instructions below. If the question cannot be answered using the information provided answer with \"I don't know\".\n",
    "\n",
    "Task: Classify the columns of a given table with only one of the following classes that are separated with comma: description of event, description of restaurant, locality of address, postal code, region of address, country, price range, telephone, date, name of restaurant, payment accepted, day of week, review, organization, date and time, coordinate, name of event, event attendance mode, event status, currency, time, description of hotel, name of hotel, location feature, rating, fax number, email, photograph, name of music recording, music artist, name of album, duration.\n",
    "\n",
    "Instructions: 1. Look at the input given to you and make a table out of it. 2. Look at the cell values in detail. 3. For each column, select a class that best represents the meaning of all cells in the column. 4. Answer with the selected class for each columns with the format Column1: class.\n",
    "\n",
    "Table:\n",
    "{input}\n",
    "\n",
    "Class:\n",
    "\n",
    "\"\"\""
   ]
  },
  {
   "cell_type": "code",
   "execution_count": 6,
   "id": "d704f16f",
   "metadata": {},
   "outputs": [],
   "source": [
    "# New prompt\n",
    "semantic_concept_template = \"\"\"\n",
    "\n",
    "Answer the question based on the task below. If the question cannot be answered using the information provided answer with \"I don't know\".\n",
    "\n",
    "Task: Suggest a semantic concept for each column of a given table. Answer with the semantic concept for each column with the format Column1: semantic concept.\n",
    "\n",
    "Table: {input}\n",
    "\n",
    "Semantic concepts:\n",
    "\n",
    "\"\"\""
   ]
  },
  {
   "cell_type": "code",
   "execution_count": 7,
   "id": "27bc61f6",
   "metadata": {},
   "outputs": [],
   "source": [
    "# Paper name: table + instructions\n",
    "inst_template = \"\"\"\n",
    "\n",
    "Answer the question based on the task and instructions below. If the question cannot be answered using the information provided answer with \"I don't know\".\n",
    "\n",
    "Task: Suggest a semantic concept for each column of a given table.\n",
    "\n",
    "Instructions: 1. Look at the input given to you and make a table out of it. 2. Look at the cell values in detail. 3. For each column, suggest a semantic concept that best represents the meaning of all cells in the column. 4. Answer with the semantic concept for each column with the format Column1: semantic concept.\n",
    "\n",
    "Table:\n",
    "{input}\n",
    "\n",
    "Semantic concepts:\n",
    "\n",
    "\"\"\""
   ]
  },
  {
   "cell_type": "code",
   "execution_count": 8,
   "id": "69280f83",
   "metadata": {},
   "outputs": [],
   "source": [
    "# prompt to ask gpt to classify labels \n",
    "classify_label_template = \"\"\"\n",
    "\n",
    "Task: Classify the semantic concept {input} with only one of the following classes that are separated with comma: description of event, description of restaurant, locality of address, postal code, region of address, country, price range, telephone, date, name of restaurant, payment accepted, day of week, review, organization, date and time, coordinate, name of event, event attendance mode, event status, currency, time, description of hotel, name of hotel, location feature, rating, fax number, email, photograph, name of music recording, music artist, name of album, duration.\n",
    "\n",
    "Class:\n",
    "\n",
    "\"\"\""
   ]
  },
  {
   "cell_type": "code",
   "execution_count": 9,
   "id": "2c9cc367",
   "metadata": {},
   "outputs": [],
   "source": [
    "debug_template = \"\"\"\n",
    "\n",
    "Answer the question based on the task below. If the question cannot be answered using the information provided answer with \"I don't know\".\n",
    "\n",
    "Task: Suggest a semantic concept for each column of a given table. Answer with the semantic concept for each column with the format Column1: semantic concept.\n",
    "\n",
    "Table: {input}\n",
    "\n",
    "Semantic concepts:\n",
    "\n",
    "\"\"\"\n",
    "\n",
    "debug_template_top_5 = \"\"\"\n",
    "\n",
    "Answer the question based on the task below. If the question cannot be answered using the information provided answer with \"I don't know\".\n",
    "\n",
    "Task: Suggest 5 possible semantic concept for each column of a given table. Answer with the semantic concept for each column with the format Column1: possible semantic concept 1, possible semantic concept 2, possible semantic concept 3, possible semantic concept 4, possible semantic concept 5. \n",
    "\n",
    "Table: {input}\n",
    "\n",
    "Semantic concepts:\n",
    "\n",
    "\"\"\"\n",
    "\n",
    "debug_template_album = \"\"\"\n",
    "\n",
    "Could this column be about music albums?\n",
    "\n",
    "Table: {input}\n",
    "\n",
    "\"\"\"\n",
    "\n",
    "check_template = \"\"\"\n",
    "\n",
    "Critique whether these semantic concepts matches their respective columns in the given table and improve on them. If there is no further improvements to be made, just say 'It's good'.\n",
    "\n",
    "Semantic concepts: {prev_output}\n",
    "\n",
    "Table: {input}\n",
    "\n",
    "Answer with the semantic concept for each column with the format Column1: semantic concept. \n",
    "\n",
    "Semantic concepts:\n",
    "\n",
    "\"\"\"\n",
    "\n",
    "check_template_best_of_5 = \"\"\"\n",
    "\n",
    "Critique whether these semantic concepts matches their respective columns in the given table and improve on them. Choose the best semantic concept for each column.\n",
    "\n",
    "Semantic concepts: {prev_output}\n",
    "\n",
    "Table: {input}\n",
    "\n",
    "Answer with the semantic concept for each column with the format Column1: semantic concept. \n",
    "\n",
    "Semantic concepts:\n",
    "\n",
    "\"\"\""
   ]
  },
  {
   "cell_type": "markdown",
   "id": "19177971",
   "metadata": {},
   "source": [
    "## Load LLM and run model"
   ]
  },
  {
   "cell_type": "code",
   "execution_count": 10,
   "id": "9940af79",
   "metadata": {
    "scrolled": true
   },
   "outputs": [],
   "source": [
    "gpt_3_turbo = ChatOpenAI(model_name='gpt-3.5-turbo-0301', temperature=0)\n",
    "gpt_4 = ChatOpenAI(model_name='gpt-4-0613', temperature=0)"
   ]
  },
  {
   "cell_type": "code",
   "execution_count": 11,
   "id": "eca67e77",
   "metadata": {},
   "outputs": [],
   "source": [
    "prompt_type = \"semantic_concept\"\n",
    "if prompt_type == \"original_template\":\n",
    "    prompt = PromptTemplate(template=original_template, input_variables=['input'])\n",
    "    llm_chain = LLMChain(prompt=prompt, llm=gpt_3_turbo)\n",
    "    llm_chain_4 = LLMChain(prompt=prompt, llm=gpt_4)\n",
    "elif prompt_type == \"semantic_concept\":\n",
    "    prompt = PromptTemplate(template=semantic_concept_template, input_variables=['input'])\n",
    "    llm_chain = LLMChain(prompt=prompt, llm=gpt_3_turbo)\n",
    "    llm_chain_4 = LLMChain(prompt=prompt, llm=gpt_4)\n",
    "elif prompt_type == \"with_inst\":\n",
    "    prompt = PromptTemplate(template=inst_template, input_variables=['input'])\n",
    "    llm_chain = LLMChain(prompt=prompt, llm=gpt_3_turbo)\n",
    "    llm_chain_4 = LLMChain(prompt=prompt, llm=gpt_4)\n",
    "elif prompt_type == \"debug_template\":\n",
    "    prompt = PromptTemplate(template=debug_template, input_variables=['input'])\n",
    "    llm_chain = LLMChain(prompt=prompt, llm=gpt_3_turbo)\n",
    "    llm_chain_4 = LLMChain(prompt=prompt, llm=gpt_4)\n",
    "elif prompt_type == \"debug_template_top_5\":\n",
    "    prompt = PromptTemplate(template=debug_template_top_5, input_variables=['input'])\n",
    "    llm_chain = LLMChain(prompt=prompt, llm=gpt_3_turbo)\n",
    "    llm_chain_4 = LLMChain(prompt=prompt, llm=gpt_4)"
   ]
  },
  {
   "cell_type": "code",
   "execution_count": 12,
   "id": "f083a53e",
   "metadata": {},
   "outputs": [
    {
     "name": "stdout",
     "output_type": "stream",
     "text": [
      "Column 0: F , F , F , F , F , \n",
      "Column 1:  Meredith ,  Lyme ,  Cumberland ,  Marlborough ,  Scarborough , \n",
      "Column 2:  NH ,  NH ,  ME ,  MA ,  ME , \n",
      "Column 3:  03253,  03768,  04110,  00000,  04074, \n"
     ]
    }
   ],
   "source": [
    "def convert_to_column_major(example: str) -> str:\n",
    "    lines = example.split(\"\\n\")\n",
    "    col_major = [col.strip() + \": \" for col in lines[0].split(\"||\")]\n",
    "    for line in lines[1:]:\n",
    "        for i, val in enumerate(line.split(\"||\")):\n",
    "            col_major[i] += val + \", \"\n",
    "    debug_eg = \"\\n\".join(col_major) # Not needed to remove last row like when handling sotab\n",
    "    return debug_eg\n",
    "\n",
    "print(convert_to_column_major(examples_top_rows[5]))"
   ]
  },
  {
   "cell_type": "code",
   "execution_count": 13,
   "id": "a5f9a001",
   "metadata": {},
   "outputs": [],
   "source": [
    "def save_preds(preds: list[str], file_name: str):\n",
    "    #Save predictions in a file:\n",
    "    with open(file_name,'wb') as f:\n",
    "        pickle.dump(preds,f)\n",
    "\n",
    "def load_preds(file_name: str):\n",
    "    #Save predictions in a file:\n",
    "    with open(file_name,'rb') as f:\n",
    "        preds = pickle.load(f)\n",
    "    return preds"
   ]
  },
  {
   "cell_type": "code",
   "execution_count": 14,
   "id": "0e985602",
   "metadata": {},
   "outputs": [
    {
     "name": "stderr",
     "output_type": "stream",
     "text": [
      "  5%|████▋                                                                                                  | 5/109 [00:22<08:18,  4.79s/it]Retrying langchain.chat_models.openai.ChatOpenAI.completion_with_retry.<locals>._completion_with_retry in 4.0 seconds as it raised Timeout: Request timed out: HTTPSConnectionPool(host='api.openai.com', port=443): Read timed out. (read timeout=60).\n",
      "100%|█████████████████████████████████████████████████████████████████████████████████████████████████████| 109/109 [12:23<00:00,  6.82s/it]\n"
     ]
    }
   ],
   "source": [
    "#Zero-shot prediction\n",
    "preds_gpt_4 = []\n",
    "for example in tqdm(examples_top_rows):\n",
    "    preds_gpt_4.append(llm_chain_4.run({'input': example}))\n",
    "save_preds(preds_gpt_4, \"predictions_c2/gpt4-prompt-table-without-instructions.pkl\")"
   ]
  },
  {
   "cell_type": "code",
   "execution_count": 15,
   "id": "fa1d64ec",
   "metadata": {},
   "outputs": [
    {
     "name": "stderr",
     "output_type": "stream",
     "text": [
      "100%|█████████████████████████████████████████████████████████████████████████████████████████████████████| 109/109 [10:55<00:00,  6.01s/it]\n"
     ]
    }
   ],
   "source": [
    "#Zero-shot prediction\n",
    "preds_gpt_4 = []\n",
    "for example in tqdm(examples_top_rows):\n",
    "    preds_gpt_4.append(llm_chain_4.run({'input': convert_to_column_major(example)}))\n",
    "save_preds(preds_gpt_4, \"predictions_c2/gpt4-prompt-table-without-instructions-col-major.pkl\")"
   ]
  },
  {
   "cell_type": "code",
   "execution_count": 16,
   "id": "59acb9b2",
   "metadata": {},
   "outputs": [
    {
     "name": "stdout",
     "output_type": "stream",
     "text": [
      "['Column 0: Website Name, Column 1: Website Theme, Column 2: User Count, Column 3: Access Type, Column 4: Target Audience', 'Column 0: U.S. State Abbreviations, Column 1: Numeric Value', 'Column 0: Keyword, Column 1: Frequency, Column 2: Percentage, Column 3: Rank', 'Column 0: Occupation, Column 1: Political Affiliation', 'Column 0: Camera Model, Column 1: Total Sales, Column 2: Total Reviews, Column 3: Star Rating, Column 4: Camera Type, Column 5: Stock Remaining', 'Column 0: Gender, Column 1: City Name, Column 2: State Abbreviation, Column 3: Zip Code', 'Column 0: School Name, Column 1: School Address, Column 2: Zip Code, Column 3: School Phone Number, Column 4: School Grade Levels, Column 5: Class Size, Column 6: Total Students, Column 7: Unknown, Column 8: Unknown, Column 9: Unknown, Column 10: Unknown, Column 11: School Rating, Column 12: Unknown, Column 13: Unknown, Column 14: Unknown, Column 15: Unknown, Column 16: Unknown, Column 17: Unknown, Column 18: Unknown, Column 19: School Quality Rating, Column 20: Unknown, Column 21: School District, Column 22: School Type, Column 23: Unknown, Column 24: Unknown, Column 25: Unknown, Column 26: Unknown.', 'Column 0: Author/Writer, Column 1: Year of Birth/Activity, Column 2: Unknown, Column 3: Unknown', \"Column 0: Person's Name, Column 1: Associated Person or Occupation, Column 2: Location\", 'Column 0: Lake Name in Latin, Column 1: Latitude, Column 2: Longitude, Column 3: Diameter, Column 4: Lake Name in English', 'Column 0: First Name\\nColumn 1: Corresponding Name', 'Column 0: Name, Column 1: Company, Column 2: Location', 'Column 0: Email Address, Column 1: Day of Week, Column 2: Month, Column 3: Date, Column 4: Time', 'Column 0: Player Name, Column 1: Class Year, Column 2: Year of Data, Column 3: Position, Column 4: Height, Column 5: Games Played, Column 6: Field Goals Made, Column 7: Field Goals Attempted, Column 8: Field Goal Percentage, Column 9: Three-Point Field Goals Made, Column 10: Three-Point Field Goals Attempted, Column 11: Three-Point Field Goal Percentage, Column 12: Free Throws Made, Column 13: Free Throws Attempted, Column 14: Free Throw Percentage, Column 15: Total Rebounds, Column 16: Average Rebounds per Game, Column 17: Assists, Column 18: Average Assists per Game, Column 19: Blocks, Column 20: Average Blocks per Game, Column 21: Steals, Column 22: Average Steals per Game, Column 23: Total Points, Column 24: Average Points per Game.', 'Column 0: Digital Object Identifier, Column 1: Astronomical Object Type', 'Column 0: Company Name, Column 1: Product or Campaign Name', 'Column 0: Date of Incident\\nColumn 1: Affected Entity\\nColumn 2: Country of Entity\\nColumn 3: Entity Type\\nColumn 4: Entity Industry\\nColumn 5: Type of Incident\\nColumn 6: Type of Data Compromised\\nColumn 7: Data Sensitivity\\nColumn 8: Incident Source\\nColumn 9: Incident Response\\nColumn 10: Additional Information\\nColumn 11: Number of Records Affected\\nColumn 12: Incident Report Source\\nColumn 13: Report ID\\nColumn 14: Additional Report Details\\nColumn 15: Entity Response\\nColumn 16: Legal Action\\nColumn 17: Financial Impact\\nColumn 18: Reputational Impact', 'Column 0: Song Title, Column 1: Artist Name, Column 2: Played Status', 'Column 0: State Name, Column 1: Unidentified Numerical Data, Column 2: Unidentified Ratio or Percentage, Column 3: Population Count', 'Column 0: Production Company, Column 1: Average Rating, Column 2: Total Votes', 'Column 0: Diving Category, Column 1: Gender, Column 2: Diver Name, Column 3: Year, Column 4: Country, Column 5: Depth Achieved', 'Column 0: Date of Incident\\nColumn 1: Affected Organization\\nColumn 2: Country of Organization\\nColumn 3: Organization Type\\nColumn 4: Industry of Organization\\nColumn 5: Type of Incident\\nColumn 6: Type of Data Compromised\\nColumn 7: Data Sensitivity Level\\nColumn 8: Source of Incident\\nColumn 9: Was Data Encrypted?\\nColumn 10: Additional Information\\nColumn 11: Number of Records Compromised\\nColumn 12: Incident Report Source\\nColumn 13: Report ID\\nColumn 14: Additional Information\\nColumn 15: Was Data Sold?\\nColumn 16: Was Data Published?\\nColumn 17: Was Data Altered?\\nColumn 18: Was Data Destroyed?', 'Column 0: College Name, Column 1: Year, Column 2: Value 1, Column 3: Value 2, Column 4: Value 3, Column 5: Value 4', 'Column 0: State Abbreviation, Column 1: Year 1 Unemployment Rate, Column 2: Year 2 Unemployment Rate, Column 3: Year 3 Unemployment Rate, Column 4: Year 4 Unemployment Rate, Column 5: Year 5 Unemployment Rate, Column 6: Year 6 Unemployment Rate, Column 7: Year 7 Unemployment Rate, Column 8: Year 1 GDP, Column 9: Year 2 GDP, Column 10: Year 3 GDP, Column 11: Year 4 GDP, Column 12: Year 5 GDP, Column 13: Year 6 GDP.', 'Column 0: Name, Column 1: Score on 11/02/06, Column 2: Score on 11/30/06, Column 3: Score on 01/04/07, Column 4: Score on 02/08/07, Column 5: Score on 03/15/07, Column 6: Total Score', 'Column 0: Occupation, Column 1: Place of Origin, Column 2: Political Affiliation, Column 3: Place of Residence', 'Column 0: Security Company, Column 1: Number of Branches', 'Column 0: Location, Column 1: Occupation, Column 2: Political Affiliation, Column 3: Constituency', 'Column 0: First Name, Column 1: Second Name', 'Column 0: Occupation, Column 1: Hourly Wage, Column 2: Annual Salary', 'Column 0: Candidate Name, Column 1: Political Affiliation, Column 2: State, Column 3: Value 1, Column 4: Value 2, Column 5: Value 3', 'Column 0: Location, Column 1: Identifier/Name', 'Column 0: Company Name, Column 1: Product or Campaign Name', \"Column 0: Person's Name, Column 1: Occupation/Role\", 'Column 0: Media Type, Column 1: Quantity, Column 2: Percentage, Column 3: Duration', 'Column 0: Full Name, Column 1: Age, Column 2: Gender, Column 3: Residence, Column 4: Parish, Column 5: Occupation, Column 6: Birthplace', 'Column 0: Full Name, Column 1: Political Affiliation, Column 2: State, Column 3: Initial Count, Column 4: Count Adjustment, Column 5: Final Count', 'Column 0: Digital Object Identifier, Column 1: Research Topic', 'Column 0: Province of Origin, Column 1: Full Name, Column 2: Occupation, Column 3: Birthplace, Column 4: Political Affiliation, Column 5: Electoral District', 'Column 0: Country, Column 1: Numeric Value', 'Column 0: Lunar Mare Name, Column 1: Latitude, Column 2: Longitude, Column 3: Area (in square kilometers), Column 4: Translation/Description', 'Column 0: Language, Column 1: Number of Speakers', 'Column 0: Rank\\nColumn 1: Company Name\\nColumn 2: Country of Origin\\nColumn 3: Industry\\nColumn 4: Revenue (in billions)\\nColumn 5: Profit (in billions)\\nColumn 6: Assets (in billions)\\nColumn 7: Market Value (in billions)', 'Column 0: Index Number, Column 1: Player Name, Column 2: Team Location, Column 3: Salary Amount', 'Column 0: ID Number, Column 1: Full Name, Column 2: Net Worth, Column 3: Age, Column 4: City of Residence, Column 5: State of Residence, Column 6: Source of Wealth', 'Column 0: Flight Details\\nColumn 1: Flight Price\\nColumn 2: Airline\\nColumn 3: Flight Route\\nColumn 4: Flight Type\\nColumn 5: Flight Date\\nColumn 6: Flight Time\\nColumn 7: Flight Duration\\nColumn 8: Seat Class\\nColumn 9: Special Flight Features\\nColumn 10: Additional Information\\nColumn 11: Extra Details', 'Column 0: Longitude, Column 1: Latitude, Column 2: Address Line 1, Column 3: City, Column 4: State, Column 5: Zip Code, Column 6: Company Name, Column 7: Job Title, Column 8: Salary, Column 9: Bonus, Column 10: First Name, Column 11: Last Name', \"Column 0: Person's Name, Column 1: Occupation/Role\", 'Column 0: Date of Incident\\nColumn 1: Affected Entity\\nColumn 2: Country of Entity\\nColumn 3: Entity Type\\nColumn 4: Entity Industry\\nColumn 5: Incident Type\\nColumn 6: Data Compromised\\nColumn 7: Data Sensitivity\\nColumn 8: Incident Source\\nColumn 9: Incident Response\\nColumn 10: Additional Information\\nColumn 11: Number of Records Affected\\nColumn 12: Incident Report Source\\nColumn 13: Report ID\\nColumn 14: Additional Report Details\\nColumn 15: Entity Response\\nColumn 16: Legal Action\\nColumn 17: Financial Impact\\nColumn 18: Reputational Impact\\nColumn 19: Operational Impact', 'Column 0: Year, Column 1: Data Value 1, Column 2: Unknown, Column 3: Unknown, Column 4: Unknown, Column 5: Data Value 2, Column 6: Unknown, Column 7: Unknown', 'Column 0: Class Rank, Column 1: Age Group, Column 2: Gender, Column 3: Confirmation Status', \"Column 0: Person's Name, Column 1: Occupation/Role\", 'Column 0: Email Address, Column 1: Month, Column 2: Day of the Month', 'Column 0: Mountain Name, Column 1: Latitude, Column 2: Longitude, Column 3: Elevation Rank', 'Column 0: Song/Track Title, Column 1: Artist/Band, Column 2: Album/Location, Column 3: Duration in Seconds', 'Column 0: Survey ID\\nColumn 1: City\\nColumn 2: Consent to Participate\\nColumn 3: Completed Survey\\nColumns 4-49: Survey Response Scores\\nColumn 50: Completed All Questions\\nColumns 51-54: Final Survey Scores\\nColumn 55: Number of Surveys Completed\\nColumn 56: Country of Residence\\nColumn 57: Unknown\\nColumn 58: Unknown\\nColumn 59: Unknown\\nColumn 60: Gender\\nColumn 61: Age Range\\nColumn 62: Education Level\\nColumn 63: Income Range', 'Column 0: Occupation, Column 1: Political Affiliation, Column 2: Location', 'Column 0: City, Column 1: State', 'Column 0: Author/Writer, Column 1: Year of Birth/Activity, Column 2: Unknown, Column 3: Unknown', 'Column 0: Industry Type, Column 1: Industry Code, Column 2: Count/Quantity', 'Column 0: Company Name, Column 1: Product/Project Name', 'Column 0: City, Column 1: State/Province, Column 2: Country', 'Column 0: Age, Column 1: Score, Column 2: Region', 'Column 0: Country, Column 1: Value 1, Column 2: Value 2', 'Column 0: Name of Politician, Column 1: Political Affiliation, Column 2: State Represented, Column 3: Monetary Value, Column 4: Rank', 'Column 0: Astronomical Objects, Column 1: Corresponding Research DOI', 'Column 0: Code Identifier, Column 1: Code Identifier', 'Column 0: Location, Column 1: Population, Column 2: Statistic 1, Column 3: Statistic 2, Column 4: Statistic 3, Column 5: Statistic 4, Column 6: Percentage 1, Column 7: Percentage 2, Column 8: Percentage 3, Column 9: Percentage 4', 'Column 0: Names, Column 1: Latitude, Column 2: Longitude, Column 3: Altitude', 'Column 0: Full Name, Column 1: Age, Column 2: Gender, Column 3: Residence, Column 4: Parish, Column 5: Occupation, Column 6: Birthplace', 'Column 0: Organization Name, Column 1: Subsidiary or Affiliated Group Name', 'Column 0: Table Type, Column 1: Table Name, Column 2: Record Count, Column 3: Field Count', 'Column 0: Name or Month, Column 1: Count or Frequency', \"Column 0: Senator's Name, Column 1: Political Affiliation, Column 2: State Represented, Column 3: Age, Column 4: Term Number\", 'Column 0: Song Title\\nColumn 1: Artist\\nColumn 2: Album Artist\\nColumn 3: Album Title\\nColumn 4: Unknown\\nColumn 5: Genre\\nColumn 6: File Size\\nColumn 7: Duration\\nColumn 8: Disc Number\\nColumn 9: Disc Count\\nColumn 10: Track Number\\nColumn 11: Track Count\\nColumn 12: Year\\nColumn 13: Date Added\\nColumn 14: Last Played\\nColumn 15: Bit Rate\\nColumn 16: Sample Rate\\nColumn 17: Unknown\\nColumn 18: File Type\\nColumn 19: Unknown\\nColumn 20: Unknown\\nColumn 21: Unknown\\nColumn 22: Unknown\\nColumn 23: Unknown\\nColumn 24: Unknown\\nColumn 25: Unknown\\nColumn 26: File Path', 'Column 0: Image File Path, Column 1: Image Rating', 'Column 0: Employee Name, Column 1: Customer Name', 'Column 0: Company Name, Column 1: State Abbreviation', 'Column 0: Camera Model, Column 1: Total Sales, Column 2: Total Reviews, Column 3: Star Rating, Column 4: Camera Type, Column 5: Stock Remaining', 'Column 0: Year, Column 1: Month, Column 2: Day, Column 3: Score, Column 4: Percentage, Column 5: Name', 'Column 0: Occupation, Column 1: Province, Column 2: Political Affiliation, Column 3: Gender', 'Column 0: File Path, Column 1: Number of Instances', 'Column 0: Game Title, Column 1: Total Units Sold, Column 2: Rating, Column 3: Total Rating Points, Column 4: Release Date, Column 5: Total Players, Column 6: Total Player Points, Column 7: Game Genre 1, Column 8: Game Genre 2', 'Column 0: Language Codes, Column 1: Number of Speakers', \"Column 0: Person's Name, Column 1: Occupation/Role\", 'Column 0: Country, Column 1: Percentage Rate', 'Column 0: Player Name, Column 1: Team, Column 2: Height (inches), Column 3: Position, Column 4: Weight (lbs), Column 5: Age', 'Column 0: File Path, Column 1: File Name, Column 2: File Count', 'Column 0: State Abbreviation, Column 1: Zip Code, Column 2: Internet Connection Type, Column 3: Quantity or Count', \"Column 0: Person's Name, Column 1: Associate's Name, Column 2: Location\", 'Column 0: Nationality, Column 1: Population (in millions)', 'Column 0: Camera Brand, Column 1: Camera Model, Column 2: Total Units Sold, Column 3: Number of Reviews, Column 4: Product Availability Status, Column 5: Customer Satisfaction Rating', 'Column 0: Project Directory Path, Column 1: File Name, Column 2: File Count', 'Column 0: U.S. States, Column 1: Percentage Change', 'Column 0: Biblical Locations, Column 1: Bible Verses References', 'Column 0: Astronomical Objects, Column 1: Digital Object Identifier', 'Column 0: Last Name, Column 1: Political Affiliation, Column 2: State, Column 3: Budget Allocation, Column 4: Department', 'Column 0: Course Code\\nColumn 1: Year\\nColumn 2: Semester\\nColumn 3: Student Count\\nColumn 4: Average Grade\\nColumn 5: Pass Count\\nColumn 6: Fail Count\\nColumn 7: Withdraw Count\\nColumn 8: A Grade Count\\nColumn 9: B Grade Count\\nColumn 10: C Grade Count\\nColumn 11: Professor Name', 'Column 0: City, Column 1: State/Province, Column 2: Country', 'Column 0: Rank\\nColumn 1: University Name\\nColumn 2: Games Played\\nColumn 3: Pass Attempts\\nColumn 4: Pass Completions\\nColumn 5: Completion Percentage\\nColumn 6: Average Yards per Completion\\nColumn 7: Touchdowns\\nColumn 8: Touchdown Percentage\\nColumn 9: Total Passing Yards\\nColumn 10: Average Yards per Attempt\\nColumn 11: Interceptions\\nColumn 12: Quarterback Rating\\nColumn 13: Fumbles\\nColumn 14: Sacks\\nColumn 15: Wins\\nColumn 16: Losses', 'Column 0: Constant Value, Column 1: Sequential Numbers', 'Column 0: Song Title, Column 1: Artist, Column 2: Album, Column 3: Duration in Seconds', 'Column 0: Full Name, Column 1: Political Affiliation, Column 2: State, Column 3: Initial Value, Column 4: Adjustment, Column 5: Final Value', 'Column 0: File Path, Column 1: Number of Instances', 'Column 0: Security Company Names, Column 1: Numeric Value', \"Column 0: Person's Name, Column 1: Occupation, Column 2: Place of Birth, Column 3: Political Affiliation, Column 4: Place of Residence, Column 5: Current Location\", 'Column 0: Stock Ticker Symbols, Column 1: Stock Prices', 'Column 0: Company Name, Column 1: State Abbreviation', 'Column 0: Model Name, Column 1: Number of Cores, Column 2: Clock Speed (GHz), Column 3: Benchmark Score']\n"
     ]
    }
   ],
   "source": [
    "preds = load_preds(\"predictions_c2/gpt4-prompt-table-without-instructions.pkl\")\n",
    "print(preds)"
   ]
  },
  {
   "cell_type": "code",
   "execution_count": 26,
   "id": "75ddeda5",
   "metadata": {},
   "outputs": [
    {
     "name": "stdout",
     "output_type": "stream",
     "text": [
      "['Column 0: Website Name, Column 1: Website Focus, Column 2: User Count, Column 3: Access Type, Column 4: Target Audience', 'Column 0: U.S. State Abbreviations, Column 1: Numeric Values', 'Column 0: Item/Entity, Column 1: Quantity, Column 2: Percentage, Column 3: Category/Group Number', 'Column 0: Occupation, Column 1: Political Affiliation', 'Column 0: Camera Model, Column 1: Total Sales, Column 2: Stock Remaining, Column 3: Number of Lenses, Column 4: Camera Type, Column 5: Days on Shelf', 'Column 0: Gender,\\nColumn 1: City Name,\\nColumn 2: State Abbreviation,\\nColumn 3: Zip Code', 'Column 0: School Name, \\nColumn 1: School Address, \\nColumn 2: Zip Code, \\nColumn 3: School Phone Number, \\nColumn 4: School Grade Levels, \\nColumn 5: Unknown, \\nColumn 6: Unknown, \\nColumn 7: Unknown, \\nColumn 8: Unknown, \\nColumn 9: Unknown, \\nColumn 10: Unknown, \\nColumn 11: Unknown, \\nColumn 12: Unknown, \\nColumn 13: Unknown, \\nColumn 14: Unknown, \\nColumn 15: Unknown, \\nColumn 16: Unknown, \\nColumn 17: Unknown, \\nColumn 18: Unknown, \\nColumn 19: School Status, \\nColumn 20: Unknown, \\nColumn 21: Neighborhood, \\nColumn 22: School Type, \\nColumn 23: Unknown, \\nColumn 24: Unknown, \\nColumn 25: Unknown, \\nColumn 26: Unknown.', 'Column 0: Author/Writer, Column 1: Year of Birth/Activity, Column 2: Unknown, Column 3: Unknown', \"Column 0: Person's Name, Column 1: Associated Person's Name/Profession, Column 2: Location\", 'Column 0: Lake Names in Latin, Column 1: Latitude, Column 2: Longitude, Column 3: Diameter, Column 4: Lake Names in English.', 'Column 0: First Names, Column 1: First Names', \"Column 0: Person's Name, Column 1: Company Name, Column 2: Company Location\", 'Column 0: Email Addresses, Column 1: Day of the Week, Column 2: Month, Column 3: Date, Column 4: Time', 'Column 0: Player Name, \\nColumn 1: Class Standing, \\nColumn 2: Year, \\nColumn 3: Position, \\nColumn 4: Date, \\nColumn 5: Games Played, \\nColumn 6: Field Goals Made, \\nColumn 7: Field Goals Attempted, \\nColumn 8: Field Goal Percentage, \\nColumn 9: Three-Point Field Goals Made, \\nColumn 10: Three-Point Field Goals Attempted, \\nColumn 11: Three-Point Field Goal Percentage, \\nColumn 12: Free Throws Made, \\nColumn 13: Free Throws Attempted, \\nColumn 14: Free Throw Percentage, \\nColumn 15: Total Rebounds, \\nColumn 16: Rebounds Per Game, \\nColumn 17: Assists, \\nColumn 18: Assists Per Game, \\nColumn 19: Steals, \\nColumn 20: Steals Per Game, \\nColumn 21: Blocks, \\nColumn 22: Blocks Per Game, \\nColumn 23: Total Points, \\nColumn 24: Points Per Game.', 'Column 0: Digital Object Identifier, Column 1: Astronomical Objects', 'Column 0: Brand Name, Column 1: Product Name/Service', 'Column 0: Date,\\nColumn 1: Organization,\\nColumn 2: Country,\\nColumn 3: Organization Type,\\nColumn 4: Industry,\\nColumn 5: Incident Type,\\nColumn 6: Data Type Compromised,\\nColumn 7: Unknown,\\nColumn 8: Incident Origin,\\nColumn 9: Unknown,\\nColumn 10: Empty,\\nColumn 11: Number of Records Compromised,\\nColumn 12: Source Document,\\nColumn 13: Document ID,\\nColumn 14: Empty,\\nColumn 15: Unknown,\\nColumn 16: Unknown,\\nColumn 17: Unknown,\\nColumn 18: Unknown.', 'Column 0: Song Title, Column 1: Artist Name, Column 2: Album Number', 'Column 0: U.S. States, Column 1: Unspecified Numeric Data, Column 2: Unspecified Numeric Data, Column 3: Population Numbers', 'Column 0: Production Company, Column 1: Average Rating, Column 2: Number of Ratings', 'Column 0: Game Type, \\nColumn 1: Gender, \\nColumn 2: Player Name, \\nColumn 3: Year, \\nColumn 4: Country, \\nColumn 5: Score', 'Column 0: Date,\\nColumn 1: Organization,\\nColumn 2: Country,\\nColumn 3: Organization Type,\\nColumn 4: Industry,\\nColumn 5: Incident Type,\\nColumn 6: Data Sensitivity,\\nColumn 7: Data Protection,\\nColumn 8: Incident Source,\\nColumn 9: Incident Response,\\nColumn 10: Unknown,\\nColumn 11: Number of Records Affected,\\nColumn 12: Incident Report,\\nColumn 13: Incident ID,\\nColumn 14: Unknown,\\nColumn 15: Incident Impact,\\nColumn 16: Incident Mitigation,\\nColumn 17: Incident Prevention,\\nColumn 18: Incident Resolution.', 'Column 0: College Name, Column 1: Year, Column 2: Unknown Numeric Value, Column 3: Unknown Numeric Value, Column 4: Unknown Numeric Value, Column 5: Unknown Numeric Value', 'Column 0: US State Abbreviations, \\nColumn 1: Data Point 1, \\nColumn 2: Data Point 2, \\nColumn 3: Data Point 3, \\nColumn 4: Data Point 4, \\nColumn 5: Data Point 5, \\nColumn 6: Data Point 6, \\nColumn 7: Data Point 7, \\nColumn 8: Data Point 8, \\nColumn 9: Data Point 9, \\nColumn 10: Data Point 10, \\nColumn 11: Data Point 11, \\nColumn 12: Data Point 12, \\nColumn 13: Data Point 13.', 'Column 0: Name, Column 1: Date of Event 1, Column 2: Score of Event 1, Column 3: Date of Event 2, Column 4: Score of Event 2, Column 5: Date of Event 3, Column 6: Total Score.', 'Column 0: Occupation, Column 1: Location, Column 2: Political Affiliation, Column 3: Specific Location', 'Column 0: Security Companies, Column 1: Numeric Value', 'Column 0: Location, Column 1: Occupation, Column 2: Political Affiliation, Column 3: Constituency', 'Column 0: First Names, Column 1: First Names', 'Column 0: Job Titles, Column 1: Hourly Wage, Column 2: Annual Salary', 'Column 0: Politician Name, Column 1: Political Party Affiliation, Column 2: State Represented, Column 3: Positive Votes, Column 4: Negative Votes, Column 5: Net Votes.', 'Column 0: Location, Column 1: Name', 'Column 0: Brand Name, Column 1: Product Name', \"Column 0: Person's Name, Column 1: Job Title\", 'Column 0: Media Type, Column 1: Quantity, Column 2: Percentage of Total, Column 3: Ranking', 'Column 0: Full Name, Column 1: Age, Column 2: Gender, Column 3: Residence, Column 4: City, Column 5: Occupation, Column 6: Birthplace', 'Column 0: Politician Name, Column 1: Political Party Affiliation, Column 2: State Represented, Column 3: Initial Votes, Column 4: Vote Change, Column 5: Final Votes.', 'Column 0: Digital Object Identifier, Column 1: Astronomical Objects', 'Column 0: Place of Birth, \\nColumn 1: Full Name, \\nColumn 2: Occupation, \\nColumn 3: Place of Origin, \\nColumn 4: Political Affiliation, \\nColumn 5: Electoral District', 'Column 0: Country, Column 1: Numeric Value', 'Column 0: Lunar Mare Names, Column 1: Latitude, Column 2: Longitude, Column 3: Area (in square kilometers), Column 4: English Translation/Description', 'Column 0: Language, Column 1: Number of Speakers', 'Column 0: Index,\\nColumn 1: Company Name,\\nColumn 2: Country of Origin,\\nColumn 3: Industry,\\nColumn 4: Stock Price (in USD),\\nColumn 5: Dividend Yield (in %),\\nColumn 6: Market Capitalization (in billion USD),\\nColumn 7: Total Assets (in billion USD)', 'Column 0: Index,\\nColumn 1: Player Name,\\nColumn 2: Team Location,\\nColumn 3: Salary', 'Column 0: Serial Number, Column 1: Full Name, Column 2: Net Worth in Dollars, Column 3: Age, Column 4: City of Residence, Column 5: State of Residence, Column 6: Source of Wealth', 'Column 0: Flight Details\\nColumn 1: Flight Cost\\nColumn 2: Airline\\nColumn 3: Flight Route\\nColumn 4: Flight Type\\nColumn 5: Flight Date\\nColumn 6: Flight Time\\nColumn 7: Flight Duration\\nColumn 8: Seat Class\\nColumn 9: Special Flight Features\\nColumn 10: Unspecified Information\\nColumn 11: Unspecified Information', 'Column 0: Longitude,\\nColumn 1: Latitude,\\nColumn 2: Street Address,\\nColumn 3: City,\\nColumn 4: State,\\nColumn 5: Zip Code,\\nColumn 6: Company Name,\\nColumn 7: Job Title,\\nColumn 8: Salary,\\nColumn 9: Bonus,\\nColumn 10: Last Name,\\nColumn 11: First Name.', \"Column 0: Person's Name, Column 1: Occupation\", 'Column 0: Date, \\nColumn 1: Organization, \\nColumn 2: Country, \\nColumn 3: Organization Type, \\nColumn 4: Industry, \\nColumn 5: Breach Type, \\nColumn 6: Data Sensitivity, \\nColumn 7: Data Protection, \\nColumn 8: Breach Source, \\nColumn 9: Breach Discovery, \\nColumn 10: Unknown, \\nColumn 11: Number of Records Breached, \\nColumn 12: Incident Report, \\nColumn 13: Incident Code, \\nColumn 14: Unknown, \\nColumn 15: Organization Response, \\nColumn 16: Legal Action, \\nColumn 17: Regulatory Action, \\nColumn 18: Media Coverage, \\nColumn 19: Unknown.', 'Column 0: Year, Column 1: Value 1, Column 2: Unknown, Column 3: Unknown, Column 4: Unknown, Column 5: Value 2, Column 6: Unknown, Column 7: Unknown', 'Column 0: Order,\\nColumn 1: Age Group,\\nColumn 2: Gender,\\nColumn 3: Confirmation Status', \"Column 0: Person's Name, Column 1: Job Title\", 'Column 0: Email Addresses, Column 1: Month, Column 2: Day of the Month', 'Column 0: Mountain Names, Column 1: Latitude, Column 2: Longitude, Column 3: Elevation', 'Column 0: Song/Attraction Title, Column 1: Artist/Location, Column 2: Album/Park, Column 3: Play Count', 'Column 0: Identifier,\\nColumn 1: City,\\nColumn 2: Yes/No Indicator 1,\\nColumn 3: Yes/No Indicator 2,\\nColumn 4-50: Numeric Rating,\\nColumn 51-52: Numeric Rating,\\nColumn 53-54: Numeric Rating,\\nColumn 55: Age Range,\\nColumn 56: Nationality,\\nColumn 57: Missing Data,\\nColumn 58: Country of Residence,\\nColumn 59: Missing Data,\\nColumn 60: Gender,\\nColumn 61: Age Group,\\nColumn 62: Education Level,\\nColumn 63: Income Range.', 'Column 0: Occupation, Column 1: Political Affiliation, Column 2: Location', 'Column 0: City Names, Column 1: State Names', 'Column 0: Ancient Greek Authors, Column 1: Estimated Year of Birth, Column 2: Unknown, Column 3: Unknown', 'Column 0: Industry Type, Column 1: Industry Code, Column 2: Count of Enterprises', 'Column 0: Brand Name, Column 1: Product/Service Name', 'Column 0: City, Column 1: State/Province, Column 2: Country', 'Column 0: Age, Column 1: Score, Column 2: Region', 'Column 0: Country Names, Column 1: Numeric Data (possibly representing a certain statistic or measurement), Column 2: Numeric Data (possibly representing a different statistic or measurement)', 'Column 0: Politician Name, Column 1: Political Affiliation, Column 2: State Represented, Column 3: Funding Amount, Column 4: Ranking Order', 'Column 0: Astronomical Objects, Column 1: Digital Object Identifier (DOI)', 'Column 0: Code Names, Column 1: Code Names', 'Column 0: U.S. States/Territories, Column 1: Population, Column 2: Unknown, Column 3: Unknown, Column 4: Unknown, Column 5: Unknown, Column 6: Unknown, Column 7: Unknown, Column 8: Unknown, Column 9: Unknown.', 'Column 0: Names, Column 1: Numeric Value 1, Column 2: Numeric Value 2, Column 3: Numeric Value 3', 'Column 0: Full Name, Column 1: Age, Column 2: Gender, Column 3: Residence, Column 4: City, Column 5: Occupation, Column 6: Birthplace', 'Column 0: Organization Name, Column 1: Subsidiary or Affiliated Group', 'Column 0: Table Type,\\nColumn 1: Table Name,\\nColumn 2: Record Count,\\nColumn 3: Field Count', 'Column 0: Names, \\nColumn 1: Count', 'Column 0: Politician Name, Column 1: Political Affiliation, Column 2: State Represented, Column 3: Age, Column 4: Term Count', 'Column 0: Song Title, \\nColumn 1: Artist/Ensemble, \\nColumn 2: Album Artist, \\nColumn 3: Album Title, \\nColumn 4: Unknown, \\nColumn 5: Music Genre, \\nColumn 6: Song ID, \\nColumn 7: Play Count, \\nColumn 8: Disc Number, \\nColumn 9: Disc Count, \\nColumn 10: Track Number, \\nColumn 11: Track Count, \\nColumn 12: Year of Release, \\nColumn 13: Date Added, \\nColumn 14: Last Played, \\nColumn 15: Bit Rate, \\nColumn 16: Sample Rate, \\nColumn 17: Unknown, \\nColumn 18: File Type, \\nColumn 19: Unknown, \\nColumn 20: Unknown, \\nColumn 21: Unknown, \\nColumn 22: Unknown, \\nColumn 23: Unknown, \\nColumn 24: Unknown, \\nColumn 25: Unknown, \\nColumn 26: File Path.', 'Column 0: Image File Path, Column 1: Image Identifier Number', 'Column 0: Employee Name, Column 1: Customer Name', 'Column 0: Company Names, Column 1: State Abbreviations', 'Column 0: Camera Model, Column 1: Total Sales, Column 2: Number of Features, Column 3: Number of Lenses, Column 4: Camera Type, Column 5: Number of Accessories.', 'Column 0: Year, \\nColumn 1: Score, \\nColumn 2: Rank, \\nColumn 3: Points, \\nColumn 4: Percentage, \\nColumn 5: Name', 'Column 0: Occupation, Column 1: Province, Column 2: Political Affiliation, Column 3: Gender', 'Column 0: File Path, Column 1: File Count', 'Column 0: Video Game Title, Column 1: Unique User Count, Column 2: User Rating, Column 3: Total Playtime (in hours), Column 4: Release Date, Column 5: Total Downloads, Column 6: Total Revenue (in cents), Column 7: Game Genre, Column 8: Game Sub-genre', 'Column 0: Language Codes, Column 1: Population Count', \"Column 0: Person's Name, Column 1: Occupation\", 'Column 0: Country Names, Column 1: Percentage Rates', 'Column 0: Player Name, Column 1: Team, Column 2: Height (inches), Column 3: Position, Column 4: Weight (lbs), Column 5: Age', 'Column 0: File Path, Column 1: File Name, Column 2: File Count', 'Column 0: State Abbreviations, Column 1: Zip Codes, Column 2: Internet Connection Types, Column 3: Quantity or Count', \"Column 0: Person's Name, Column 1: Associated Person's Name/Profession, Column 2: Location\", 'Column 0: Nationality, Column 1: Population (in millions)', 'Column 0: Camera Brand, Column 1: Camera Model, Column 2: Shutter Count, Column 3: Battery Life (in hours), Column 4: Quantity, Column 5: User Rating', 'Column 0: File Path, Column 1: File Name, Column 2: File Count', 'Column 0: U.S. States, Column 1: Percentage Change', 'Column 0: Biblical Locations, Column 1: Bible Verses', 'Column 0: Astronomical Objects, Column 1: Digital Object Identifier', 'Column 0: Last Name, Column 1: Political Affiliation, Column 2: State Represented, Column 3: Budget Allocation, Column 4: Department', 'Column 0: Identifier,\\nColumn 1: Year,\\nColumn 2: Zero Value Placeholder,\\nColumn 3: Age,\\nColumn 4: Rating,\\nColumn 5: Score 1,\\nColumn 6: Score 2,\\nColumn 7: Score 3,\\nColumn 8: Score 4,\\nColumn 9: Score 5,\\nColumn 10: Total Score,\\nColumn 11: Author Name', 'Column 0: City, Column 1: State/Province, Column 2: Country', 'Column 0: Index,\\nColumn 1: University Name,\\nColumn 2: Number of Games,\\nColumn 3: Total Yards,\\nColumn 4: Total First Downs,\\nColumn 5: Average Yards per Game,\\nColumn 6: Average First Downs per Game,\\nColumn 7: Total Touchdowns,\\nColumn 8: Average Touchdowns per Game,\\nColumn 9: Total Points Scored,\\nColumn 10: Average Points per Game,\\nColumn 11: Total Losses,\\nColumn 12: Average Points Against per Game,\\nColumn 13: Playoff Appearances,\\nColumn 14: Total Wins,\\nColumn 15: Conference Wins,\\nColumn 16: Conference Losses.', 'Column 0: Constant Value, Column 1: Age', 'Column 0: Song Title, Column 1: Artist, Column 2: Album, Column 3: Duration in Seconds', 'Column 0: Politician Name, Column 1: Political Party, Column 2: State Represented, Column 3: Numeric Value 1, Column 4: Numeric Value 2, Column 5: Numeric Value 3.', 'Column 0: File Path, Column 1: File Count', 'Column 0: Security Company Names, Column 1: Numeric Values', 'Column 0: Full Name, Column 1: Occupation, Column 2: Place of Birth, Column 3: Political Affiliation, Column 4: Electoral District, Column 5: Province of Electoral District', 'Column 0: Stock Ticker Symbols, Column 1: Stock Prices', 'Column 0: Company Names, Column 1: State Abbreviations', 'Column 0: Model Name, Column 1: Version Number, Column 2: Performance Rating, Column 3: Serial Number']\n"
     ]
    }
   ],
   "source": [
    "preds = load_preds(\"predictions_c2/gpt4-prompt-table-without-instructions-col-major.pkl\")\n",
    "print(preds)"
   ]
  },
  {
   "cell_type": "code",
   "execution_count": null,
   "id": "3521a886",
   "metadata": {},
   "outputs": [],
   "source": [
    "df = pd.DataFrame(data={\"raw_prompt_output\": preds})\n",
    "df.to_csv(\"predictions/gpt4-prompt-table-without-instructions.csv\")"
   ]
  },
  {
   "cell_type": "markdown",
   "id": "6ab6cab8",
   "metadata": {},
   "source": [
    "## Evaluation"
   ]
  },
  {
   "cell_type": "code",
   "execution_count": 17,
   "id": "003621b8",
   "metadata": {},
   "outputs": [],
   "source": [
    "bertscore = load(\"bertscore\")"
   ]
  },
  {
   "cell_type": "code",
   "execution_count": 27,
   "id": "12e1151a",
   "metadata": {},
   "outputs": [
    {
     "name": "stderr",
     "output_type": "stream",
     "text": [
      " 10%|██████████▎                                                                                           | 11/109 [00:01<00:14,  6.98it/s]"
     ]
    },
    {
     "name": "stdout",
     "output_type": "stream",
     "text": [
      "For test example 9 out of label space prediction: column 0, true label: ['lunar mare']\n"
     ]
    },
    {
     "name": "stderr",
     "output_type": "stream",
     "text": [
      " 39%|███████████████████████████████████████▎                                                              | 42/109 [00:05<00:10,  6.62it/s]"
     ]
    },
    {
     "name": "stdout",
     "output_type": "stream",
     "text": [
      "For test example 40 out of label space prediction: column 0, true label: ['lunar mare']\n"
     ]
    },
    {
     "name": "stderr",
     "output_type": "stream",
     "text": [
      " 41%|██████████████████████████████████████████                                                            | 45/109 [00:06<00:08,  7.43it/s]"
     ]
    },
    {
     "name": "stdout",
     "output_type": "stream",
     "text": [
      "For test example 44 out of label space prediction: serial number, true label: ['billionaire']\n"
     ]
    },
    {
     "name": "stderr",
     "output_type": "stream",
     "text": [
      " 61%|█████████████████████████████████████████████████████████████▊                                        | 66/109 [00:09<00:05,  7.93it/s]"
     ]
    },
    {
     "name": "stdout",
     "output_type": "stream",
     "text": [
      "For test example 65 out of label space prediction: astronomical objects, true label: ['doi']\n"
     ]
    },
    {
     "name": "stderr",
     "output_type": "stream",
     "text": [
      " 63%|████████████████████████████████████████████████████████████████▌                                     | 69/109 [00:09<00:05,  6.87it/s]"
     ]
    },
    {
     "name": "stdout",
     "output_type": "stream",
     "text": [
      "For test example 67 out of label space prediction: u, true label: ['population']\n",
      "For test example 68 out of label space prediction: column 0, true label: ['lunar crater']\n"
     ]
    },
    {
     "name": "stderr",
     "output_type": "stream",
     "text": [
      " 71%|████████████████████████████████████████████████████████████████████████                              | 77/109 [00:10<00:04,  7.37it/s]"
     ]
    },
    {
     "name": "stdout",
     "output_type": "stream",
     "text": [
      "For test example 75 out of label space prediction: image file path, true label: ['frequency']\n"
     ]
    },
    {
     "name": "stderr",
     "output_type": "stream",
     "text": [
      " 89%|██████████████████████████████████████████████████████████████████████████████████████████▊           | 97/109 [00:13<00:01,  7.06it/s]"
     ]
    },
    {
     "name": "stdout",
     "output_type": "stream",
     "text": [
      "For test example 95 out of label space prediction: astronomical objects, true label: ['doi']\n",
      "For test example 96 out of label space prediction: last name, true label: ['political party of the United States', 'political party', 'party']\n"
     ]
    },
    {
     "name": "stderr",
     "output_type": "stream",
     "text": [
      "100%|█████████████████████████████████████████████████████████████████████████████████████████████████████| 109/109 [00:15<00:00,  7.00it/s]"
     ]
    },
    {
     "name": "stdout",
     "output_type": "stream",
     "text": [
      "For test example 108 out of label space prediction: column 0, true label: ['motherboard']\n"
     ]
    },
    {
     "name": "stderr",
     "output_type": "stream",
     "text": [
      "\n"
     ]
    }
   ],
   "source": [
    "def evaluation_new(preds, col_idxs, bert_threshold=0.85):\n",
    "    ids, predictions, original_preds, highest_bertscores = [], [], [], []\n",
    "    for j, table_preds in enumerate(tqdm(preds)):\n",
    "        if \"Semantic concepts:\" in table_preds:\n",
    "            table_preds = table_preds.split(\"Class:\")[1]\n",
    "        \n",
    "        #Break predictions into either \\n or ,\n",
    "        if \":\" in table_preds:\n",
    "            separator = \":\"\n",
    "        elif \"-\" in table_preds:\n",
    "            separator = \"-\"  \n",
    "        else:\n",
    "            separator = \",\"\n",
    "            \n",
    "        col_preds = table_preds.split(separator)\n",
    "        i=0\n",
    "\n",
    "        table_name = table_names[j]\n",
    "        columns_to_eval = column_gt[table_name]\n",
    "        for col_idx in col_idxs[j]:\n",
    "            # print(idx, gt)\n",
    "            gt = columns_to_eval[col_idx]\n",
    "            ids.append(j)\n",
    "            original_preds.append(table_preds)\n",
    "            if int(col_idx) >= len(col_preds):\n",
    "                predictions.append('-')\n",
    "                highest_bertscores.append(0)\n",
    "            else:\n",
    "                pred = col_preds[int(col_idx)]\n",
    "                # Remove break lines\n",
    "                if \"\\n\" in pred:\n",
    "                    pred = pred.split('\\n')[0].strip()\n",
    "                # Remove commas\n",
    "                if \",\" in pred:\n",
    "                    pred = pred.split(\",\")[0].strip()\n",
    "                # Remove paranthesis\n",
    "                if '(' in pred:\n",
    "                    pred = pred.split(\"(\")[0].strip()\n",
    "                #Remove points\n",
    "                if '.' in pred:\n",
    "                    pred = pred.split(\".\")[0].strip()\n",
    "                # Lower-case prediction\n",
    "                pred = pred.strip().lower()\n",
    "                # print(pred, gt)\n",
    "                bertscores = np.array(bertscore.compute(predictions=[pred]*len(gt), references=gt, lang=\"en\")[\"f1\"])\n",
    "                highest_score = max(bertscores)\n",
    "                highest_bertscores.append(highest_score)\n",
    "\n",
    "                if highest_score > bert_threshold:\n",
    "                    predictions.append(gt[0])\n",
    "                else:\n",
    "                    print(f\"For test example {j} out of label space prediction: {pred}, true label: {gt}\")\n",
    "                    predictions.append('-')\n",
    "            i+=1\n",
    "            \n",
    "    return ids, predictions, original_preds, highest_bertscores\n",
    "\n",
    "ids, class_predictions, original_preds, highest_bertscores = evaluation_new(preds, col_idxs, bert_threshold=0.85)"
   ]
  },
  {
   "cell_type": "code",
   "execution_count": 28,
   "id": "748dfbf0",
   "metadata": {},
   "outputs": [
    {
     "data": {
      "text/plain": [
       "(116, 116, 116, 116)"
      ]
     },
     "execution_count": 28,
     "metadata": {},
     "output_type": "execute_result"
    }
   ],
   "source": [
    "len(ids), len(class_predictions), len(original_preds), len(highest_bertscores)"
   ]
  },
  {
   "cell_type": "code",
   "execution_count": 29,
   "id": "5c91b925",
   "metadata": {},
   "outputs": [],
   "source": [
    "flattened_labels = [label for table in labels for label in table]\n",
    "flattened_col_idxs = [idx for table in col_idxs for idx in table]\n",
    "df = pd.DataFrame({\"prompt_output_id\": ids, \n",
    "                   \"col_idx\": flattened_col_idxs,\n",
    "                   \"label\": flattened_labels, \n",
    "                   \"original_pred\": original_preds, \n",
    "                   \"class_pred_using_bert\": class_predictions, \n",
    "                   \"highest_bertscore\": highest_bertscores})\n",
    "df.to_csv(\"predictions_c2/preds_gpt4_without_inst_col_major.csv\")"
   ]
  },
  {
   "cell_type": "markdown",
   "id": "7ab2350d",
   "metadata": {},
   "source": [
    "### Calculate Precision, Recall, Macro-F1 and Micro-F1"
   ]
  },
  {
   "cell_type": "code",
   "execution_count": 43,
   "id": "d81907f0",
   "metadata": {},
   "outputs": [
    {
     "data": {
      "text/html": [
       "<div>\n",
       "<style scoped>\n",
       "    .dataframe tbody tr th:only-of-type {\n",
       "        vertical-align: middle;\n",
       "    }\n",
       "\n",
       "    .dataframe tbody tr th {\n",
       "        vertical-align: top;\n",
       "    }\n",
       "\n",
       "    .dataframe thead th {\n",
       "        text-align: right;\n",
       "    }\n",
       "</style>\n",
       "<table border=\"1\" class=\"dataframe\">\n",
       "  <thead>\n",
       "    <tr style=\"text-align: right;\">\n",
       "      <th></th>\n",
       "      <th>prompt_output_id</th>\n",
       "      <th>col_idx</th>\n",
       "      <th>label</th>\n",
       "      <th>original_pred</th>\n",
       "      <th>class_pred_using_bert</th>\n",
       "      <th>highest_bertscore</th>\n",
       "    </tr>\n",
       "  </thead>\n",
       "  <tbody>\n",
       "    <tr>\n",
       "      <th>0</th>\n",
       "      <td>0</td>\n",
       "      <td>0</td>\n",
       "      <td>social network</td>\n",
       "      <td>Column 0: Website Name, Column 1: Website Focu...</td>\n",
       "      <td>social network</td>\n",
       "      <td>0.881512</td>\n",
       "    </tr>\n",
       "    <tr>\n",
       "      <th>1</th>\n",
       "      <td>1</td>\n",
       "      <td>0</td>\n",
       "      <td>state of the United States</td>\n",
       "      <td>Column 0: U.S. State Abbreviations, Column 1: ...</td>\n",
       "      <td>state of the United States</td>\n",
       "      <td>0.866246</td>\n",
       "    </tr>\n",
       "    <tr>\n",
       "      <th>2</th>\n",
       "      <td>2</td>\n",
       "      <td>2</td>\n",
       "      <td>percentage</td>\n",
       "      <td>Column 0: Item/Entity, Column 1: Quantity, Col...</td>\n",
       "      <td>percentage</td>\n",
       "      <td>0.927097</td>\n",
       "    </tr>\n",
       "    <tr>\n",
       "      <th>3</th>\n",
       "      <td>3</td>\n",
       "      <td>0</td>\n",
       "      <td>occupation</td>\n",
       "      <td>Column 0: Occupation, Column 1: Political Affi...</td>\n",
       "      <td>occupation</td>\n",
       "      <td>0.883645</td>\n",
       "    </tr>\n",
       "    <tr>\n",
       "      <th>4</th>\n",
       "      <td>4</td>\n",
       "      <td>0</td>\n",
       "      <td>camera model</td>\n",
       "      <td>Column 0: Camera Model, Column 1: Total Sales,...</td>\n",
       "      <td>camera model</td>\n",
       "      <td>0.888923</td>\n",
       "    </tr>\n",
       "  </tbody>\n",
       "</table>\n",
       "</div>"
      ],
      "text/plain": [
       "   prompt_output_id  col_idx                       label  \\\n",
       "0                 0        0              social network   \n",
       "1                 1        0  state of the United States   \n",
       "2                 2        2                  percentage   \n",
       "3                 3        0                  occupation   \n",
       "4                 4        0                camera model   \n",
       "\n",
       "                                       original_pred  \\\n",
       "0  Column 0: Website Name, Column 1: Website Focu...   \n",
       "1  Column 0: U.S. State Abbreviations, Column 1: ...   \n",
       "2  Column 0: Item/Entity, Column 1: Quantity, Col...   \n",
       "3  Column 0: Occupation, Column 1: Political Affi...   \n",
       "4  Column 0: Camera Model, Column 1: Total Sales,...   \n",
       "\n",
       "        class_pred_using_bert  highest_bertscore  \n",
       "0              social network           0.881512  \n",
       "1  state of the United States           0.866246  \n",
       "2                  percentage           0.927097  \n",
       "3                  occupation           0.883645  \n",
       "4                camera model           0.888923  "
      ]
     },
     "execution_count": 43,
     "metadata": {},
     "output_type": "execute_result"
    }
   ],
   "source": [
    "df = pd.read_csv(\"predictions_c2/preds_gpt4_without_inst_col_major.csv\",index_col=0)\n",
    "eval_labels, eval_preds = df[\"label\"], df[\"class_pred_using_bert\"]\n",
    "df.head()"
   ]
  },
  {
   "cell_type": "code",
   "execution_count": null,
   "id": "80edaecc",
   "metadata": {},
   "outputs": [],
   "source": [
    "print(len(df))\n",
    "print(len(df[df[\"label\"] == df[\"class_pred_using_bert\"]]))\n",
    "df['label_in_top_5'] = df[['label','top_5_preds']].apply(\n",
    "    lambda row: row['label'] in row['top_5_preds'], axis=1\n",
    ")\n",
    "print(len(df[df[\"label_in_top_5\"] == True]))"
   ]
  },
  {
   "cell_type": "code",
   "execution_count": 24,
   "id": "e1a1bf30",
   "metadata": {},
   "outputs": [],
   "source": [
    "def calculate_f1_scores(y_tests, y_preds):\n",
    "    types = list(set(y_tests))\n",
    "    types = types + [\"-\"]\n",
    "    num_classes = len(types)\n",
    "    \n",
    "    y_tests = [types.index(y) for y in y_tests]\n",
    "    y_preds = [types.index(y) for y in y_preds]\n",
    "    \n",
    "    #Confusion matrix\n",
    "    cm = np.zeros(shape=(num_classes,num_classes))\n",
    "    \n",
    "    for i in range(len(y_tests)):\n",
    "        cm[y_preds[i]][y_tests[i]] += 1\n",
    "        \n",
    "    report = {}\n",
    "    \n",
    "    for j in range(len(cm[0])):\n",
    "        report[j] = {}\n",
    "        report[j]['FN'] = 0\n",
    "        report[j]['FP'] = 0\n",
    "        report[j]['TP'] = cm[j][j]\n",
    "\n",
    "        for i in range(len(cm)):\n",
    "            if i != j:\n",
    "                report[j]['FN'] += cm[i][j]\n",
    "        for k in range(len(cm[0])):\n",
    "            if k != j:\n",
    "                report[j]['FP'] += cm[j][k]\n",
    "\n",
    "        precision = report[j]['TP'] / (report[j]['TP'] + report[j]['FP'])\n",
    "        recall = report[j]['TP'] / (report[j]['TP'] + report[j]['FN'])\n",
    "        f1 = 2*precision*recall / (precision + recall)\n",
    "        \n",
    "        if np.isnan(f1):\n",
    "            f1 = 0\n",
    "        if np.isnan(precision):\n",
    "            f1 = 0\n",
    "        if np.isnan(recall):\n",
    "            f1 = 0\n",
    "\n",
    "        report[j]['p'] =  precision\n",
    "        report[j]['r'] =  recall\n",
    "        report[j]['f1'] = f1\n",
    "    \n",
    "    all_fn = 0\n",
    "    all_tp = 0\n",
    "    all_fp = 0\n",
    "\n",
    "    for r in report:\n",
    "        if r != num_classes-1:\n",
    "            all_fn += report[r]['FN']\n",
    "            all_tp += report[r]['TP']\n",
    "            all_fp += report[r]['FP']\n",
    "        \n",
    "    class_f1s = [ report[class_]['f1'] for class_ in report]\n",
    "    class_p = [ 0 if np.isnan(report[class_]['p']) else report[class_]['p'] for class_ in report]\n",
    "    class_r = [ 0 if np.isnan(report[class_]['r']) else report[class_]['r'] for class_ in report]\n",
    "    macro_f1 = sum(class_f1s[:-1]) / (num_classes-1)\n",
    "    \n",
    "    p =  sum(class_p[:-1]) / (num_classes-1)\n",
    "    r =  sum(class_r[:-1]) / (num_classes-1)\n",
    "    micro_f1 = all_tp / ( all_tp + (1/2 * (all_fp + all_fn) )) \n",
    "    \n",
    "    per_class_eval = {}\n",
    "    for index, t in enumerate(types[:-1]):\n",
    "        per_class_eval[t] = {\"Precision\":class_p[index], \"Recall\": class_r[index], \"F1\": class_f1s[index]}\n",
    "    \n",
    "    evaluation = {\n",
    "        \"Micro-F1\": micro_f1,\n",
    "        \"Macro-F1\": macro_f1,\n",
    "        \"Precision\": p,\n",
    "        \"Recall\": r\n",
    "    }\n",
    "    \n",
    "    return evaluation, per_class_eval"
   ]
  },
  {
   "cell_type": "code",
   "execution_count": 44,
   "id": "b1770b52",
   "metadata": {
    "scrolled": true
   },
   "outputs": [
    {
     "name": "stdout",
     "output_type": "stream",
     "text": [
      "{'Micro-F1': 0.9502262443438914, 'Macro-F1': 0.9005847953216374, 'Precision': 0.9298245614035088, 'Recall': 0.8859649122807017}\n",
      "{'university': {'Precision': 1.0, 'Recall': 1.0, 'F1': 1.0}, 'company': {'Precision': 1.0, 'Recall': 1.0, 'F1': 1.0}, 'country': {'Precision': 1.0, 'Recall': 1.0, 'F1': 1.0}, 'biblical place': {'Precision': 1.0, 'Recall': 1.0, 'F1': 1.0}, 'year': {'Precision': 1.0, 'Recall': 1.0, 'F1': 1.0}, 'postal code': {'Precision': 1.0, 'Recall': 1.0, 'F1': 1.0}, 'organization': {'Precision': 1.0, 'Recall': 1.0, 'F1': 1.0}, 'filepath': {'Precision': 1.0, 'Recall': 1.0, 'F1': 1.0}, 'association football player': {'Precision': 1.0, 'Recall': 1.0, 'F1': 1.0}, 'star system': {'Precision': 1.0, 'Recall': 1.0, 'F1': 1.0}, 'high school': {'Precision': 1.0, 'Recall': 1.0, 'F1': 1.0}, 'occupation': {'Precision': 1.0, 'Recall': 1.0, 'F1': 1.0}, 'identifier': {'Precision': 1.0, 'Recall': 1.0, 'F1': 1.0}, 'enterprise': {'Precision': 1.0, 'Recall': 1.0, 'F1': 1.0}, 'business': {'Precision': 1.0, 'Recall': 1.0, 'F1': 1.0}, 'age': {'Precision': 1.0, 'Recall': 1.0, 'F1': 1.0}, 'social network': {'Precision': 1.0, 'Recall': 1.0, 'F1': 1.0}, 'song': {'Precision': 1.0, 'Recall': 1.0, 'F1': 1.0}, 'human': {'Precision': 1.0, 'Recall': 1.0, 'F1': 1.0}, 'congressperson': {'Precision': 1.0, 'Recall': 1.0, 'F1': 1.0}, 'airline': {'Precision': 1.0, 'Recall': 1.0, 'F1': 1.0}, 'date': {'Precision': 1.0, 'Recall': 1.0, 'F1': 1.0}, 'percentage': {'Precision': 1.0, 'Recall': 1.0, 'F1': 1.0}, 'language': {'Precision': 1.0, 'Recall': 1.0, 'F1': 1.0}, 'surname': {'Precision': 1.0, 'Recall': 1.0, 'F1': 1.0}, 'video game': {'Precision': 1.0, 'Recall': 1.0, 'F1': 1.0}, 'email': {'Precision': 1.0, 'Recall': 1.0, 'F1': 1.0}, 'duration': {'Precision': 1.0, 'Recall': 1.0, 'F1': 1.0}, 'political party of the United States': {'Precision': 1.0, 'Recall': 0.5, 'F1': 0.6666666666666666}, 'fictional human': {'Precision': 1.0, 'Recall': 1.0, 'F1': 1.0}, 'state of the United States': {'Precision': 1.0, 'Recall': 1.0, 'F1': 1.0}, 'filename': {'Precision': 1.0, 'Recall': 1.0, 'F1': 1.0}, 'motherboard': {'Precision': 0, 'Recall': 0.0, 'F1': 0}, 'time period': {'Precision': 1.0, 'Recall': 1.0, 'F1': 1.0}, 'Member of Parliament of Canada': {'Precision': 1.0, 'Recall': 1.0, 'F1': 1.0}, 'doi': {'Precision': 1.0, 'Recall': 0.5, 'F1': 0.6666666666666666}, 'member of parliament of canada': {'Precision': 1.0, 'Recall': 1.0, 'F1': 1.0}, 'language code': {'Precision': 1.0, 'Recall': 1.0, 'F1': 1.0}, 'member of the US House of Representatives': {'Precision': 1.0, 'Recall': 1.0, 'F1': 1.0}, 'frequency': {'Precision': 1.0, 'Recall': 0.5, 'F1': 0.6666666666666666}, 'lunar mare': {'Precision': 0, 'Recall': 0.0, 'F1': 0}, 'liberal arts college in the United States': {'Precision': 1.0, 'Recall': 1.0, 'F1': 1.0}, 'country code': {'Precision': 1.0, 'Recall': 1.0, 'F1': 1.0}, 'senator': {'Precision': 1.0, 'Recall': 1.0, 'F1': 1.0}, 'greeks': {'Precision': 1.0, 'Recall': 1.0, 'F1': 1.0}, 'age group': {'Precision': 1.0, 'Recall': 0.5, 'F1': 0.6666666666666666}, 'lunar mountain': {'Precision': 1.0, 'Recall': 1.0, 'F1': 1.0}, 'zip code': {'Precision': 1.0, 'Recall': 1.0, 'F1': 1.0}, 'count': {'Precision': 1.0, 'Recall': 1.0, 'F1': 1.0}, 'billionaire': {'Precision': 0, 'Recall': 0.0, 'F1': 0}, 'protein': {'Precision': 1.0, 'Recall': 1.0, 'F1': 1.0}, 'population': {'Precision': 1.0, 'Recall': 0.5, 'F1': 0.6666666666666666}, 'travel class': {'Precision': 1.0, 'Recall': 1.0, 'F1': 1.0}, 'city': {'Precision': 1.0, 'Recall': 1.0, 'F1': 1.0}, 'lunar crater': {'Precision': 0, 'Recall': 0.0, 'F1': 0}, 'camera model': {'Precision': 1.0, 'Recall': 1.0, 'F1': 1.0}, 'hurricane': {'Precision': 1.0, 'Recall': 1.0, 'F1': 1.0}}\n"
     ]
    },
    {
     "name": "stderr",
     "output_type": "stream",
     "text": [
      "/tmp/ipykernel_31976/3674965194.py:30: RuntimeWarning: invalid value encountered in double_scalars\n",
      "  precision = report[j]['TP'] / (report[j]['TP'] + report[j]['FP'])\n",
      "/tmp/ipykernel_31976/3674965194.py:31: RuntimeWarning: invalid value encountered in double_scalars\n",
      "  recall = report[j]['TP'] / (report[j]['TP'] + report[j]['FN'])\n"
     ]
    }
   ],
   "source": [
    "evaluation, per_class_eval = calculate_f1_scores(eval_labels, eval_preds)\n",
    "print(evaluation)\n",
    "print(per_class_eval)"
   ]
  },
  {
   "cell_type": "code",
   "execution_count": null,
   "id": "afd645fc",
   "metadata": {},
   "outputs": [],
   "source": [
    "from sklearn.metrics import precision_recall_fscore_support\n",
    "precision_recall_fscore_support(labels, preds, average=\"micro\")"
   ]
  },
  {
   "cell_type": "markdown",
   "id": "0a4ba678",
   "metadata": {},
   "source": [
    "## Error Analysis"
   ]
  },
  {
   "cell_type": "code",
   "execution_count": null,
   "id": "489a8a66",
   "metadata": {},
   "outputs": [],
   "source": [
    "df = pd.read_csv(\"predictions/preds_gpt35_without_inst.csv\",index_col=0)\n",
    "df.head()"
   ]
  },
  {
   "cell_type": "code",
   "execution_count": null,
   "id": "b17d8fbe",
   "metadata": {},
   "outputs": [],
   "source": [
    "error_df = df[df[\"lionel_annot\"] != df[\"label\"]]\n",
    "error_df[\"table\"] = error_df.apply(lambda row: examples[row[\"prompt_output_id\"]], axis=1)\n",
    "error_df[\"all_labels\"] = error_df.apply(lambda row: test[row[\"prompt_output_id\"]][2], axis=1)"
   ]
  },
  {
   "cell_type": "code",
   "execution_count": null,
   "id": "ca33b5c4",
   "metadata": {},
   "outputs": [],
   "source": [
    "error_df.reset_index(inplace=True, drop=True)\n",
    "error_df.head()"
   ]
  },
  {
   "cell_type": "code",
   "execution_count": null,
   "id": "ead582c2",
   "metadata": {},
   "outputs": [],
   "source": [
    "for idx in range(len(error_df)):\n",
    "    print(\"=\"*10)\n",
    "    print(f\"Table {error_df.loc[idx, 'prompt_output_id']}\")\n",
    "    print(error_df.loc[idx,\"table\"])\n",
    "    print(error_df.loc[idx,\"all_labels\"])\n",
    "    \n",
    "    print(f\"Ground truth: {error_df.loc[idx,'label']}\")\n",
    "    print(f\"Raw output: {error_df.loc[idx,'parsed_col_pred']}\")\n",
    "    print(f\"Annot: {error_df.loc[idx,'lionel_annot']}\")"
   ]
  },
  {
   "cell_type": "code",
   "execution_count": null,
   "id": "af914f99",
   "metadata": {},
   "outputs": [],
   "source": [
    "# \"-\" means the model replied with out of label or with I don't know\n",
    "errors = 0\n",
    "for i in range(len(predictions)):\n",
    "    if predictions[i] != labels[i]:\n",
    "        errors += 1\n",
    "        print(f\"Predicted as {predictions[i]} when it was {labels[i]}\")\n",
    "errors"
   ]
  }
 ],
 "metadata": {
  "kernelspec": {
   "display_name": "Python 3 (ipykernel)",
   "language": "python",
   "name": "python3"
  },
  "language_info": {
   "codemirror_mode": {
    "name": "ipython",
    "version": 3
   },
   "file_extension": ".py",
   "mimetype": "text/x-python",
   "name": "python",
   "nbconvert_exporter": "python",
   "pygments_lexer": "ipython3",
   "version": "3.10.9"
  }
 },
 "nbformat": 4,
 "nbformat_minor": 5
}
