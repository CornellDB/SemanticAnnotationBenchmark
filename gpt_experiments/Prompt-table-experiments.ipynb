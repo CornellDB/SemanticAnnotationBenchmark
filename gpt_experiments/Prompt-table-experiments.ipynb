{
 "cells": [
  {
   "cell_type": "code",
   "execution_count": 1,
   "id": "307f1685",
   "metadata": {},
   "outputs": [],
   "source": [
    "import os\n",
    "import re\n",
    "import pickle\n",
    "import numpy as np\n",
    "from dotenv import dotenv_values\n",
    "from langchain import PromptTemplate, LLMChain, OpenAI\n",
    "from langchain.chat_models import ChatOpenAI\n",
    "from tqdm import tqdm\n",
    "from evaluate import load\n",
    "import pandas as pd"
   ]
  },
  {
   "cell_type": "code",
   "execution_count": 2,
   "id": "5ba1a34e",
   "metadata": {},
   "outputs": [],
   "source": [
    "# Load env file with API KEY using full path\n",
    "config = dotenv_values(\".env\")\n",
    "os.environ['OPENAI_API_KEY'] = config[\"OPENAI_API_KEY\"]"
   ]
  },
  {
   "cell_type": "code",
   "execution_count": 3,
   "id": "806f5b40",
   "metadata": {},
   "outputs": [],
   "source": [
    "labels_to_text = {\n",
    "    \"I dont'know\": \"I dont'know\",\n",
    "    \"addressLocality\": \"locality of address\",\n",
    "    \"postalCode\": \"postal code\",\n",
    "    \"addressRegion\": \"region of address\",\n",
    "    \"Country\": \"country\",\n",
    "    \"priceRange\": \"price range\",\n",
    "    \"Hotel/name\": \"name of hotel\",\n",
    "    \"telephone\": \"telephone\",\n",
    "    \"faxNumber\": \"fax number\",\n",
    "    \"Date\": \"date\",\n",
    "    \"Restaurant/name\": \"name of restaurant\",\n",
    "    \"paymentAccepted\": \"payment accepted\",\n",
    "    \"DayOfWeek\": \"day of week\",\n",
    "    \"Review\": \"review\",\n",
    "    \"Organization\": \"organization\",\n",
    "    \"DateTime\": \"date and time\",\n",
    "    \"MusicAlbum/name\": \"name of music album\",\n",
    "    \"MusicArtistAT\": \"music artist\",\n",
    "    \"MusicRecording/name\": \"name of music recording\",\n",
    "    \"Photograph\": \"photograph\",\n",
    "    \"CoordinateAT\": \"coordinate\",\n",
    "    \"Event/name\": \"name of event\",\n",
    "    \"EventAttendanceModeEnumeration\": \"event attendance mode\",\n",
    "    \"EventStatusType\": \"event status\",\n",
    "    \"currency\": \"currency\",\n",
    "    \"email\": \"email\",\n",
    "    \"Time\": \"time\",\n",
    "    \"LocationFeatureSpecification\": \"location feature\",\n",
    "    \"Duration\": \"duration\",\n",
    "    \"Event/description\": \"description of event\",\n",
    "    \"Restaurant/description\": \"description of restaurant\",\n",
    "    \"Rating\": \"rating\",\n",
    "    \"Hotel/description\": \"description of hotel\"\n",
    "}"
   ]
  },
  {
   "cell_type": "code",
   "execution_count": 4,
   "id": "e2f6e994",
   "metadata": {},
   "outputs": [],
   "source": [
    "# Dictionary to map ChatGPT answers to label set: synonyms can be added here\n",
    "text_to_label = {\n",
    "    \"locality of address\": \"addressLocality\",\n",
    "    \"postal code\": \"postalCode\",\n",
    "    \"region of address\": \"addressRegion\",\n",
    "    \"country\": \"Country\",\n",
    "    \"price range\": \"priceRange\",\n",
    "    \"name of hotel\": \"Hotel/name\",\n",
    "    \"telephone\": \"telephone\",\n",
    "    \"fax number\": \"faxNumber\",\n",
    "    \"date\": \"Date\",\n",
    "    \"name of restaurant\": \"Restaurant/name\",\n",
    "    \"payment accepted\": \"paymentAccepted\",\n",
    "    \"day of week\": \"DayOfWeek\",\n",
    "    \"review\": \"Review\",\n",
    "    \"organization\": \"Organization\",\n",
    "    \"date and time\": \"DateTime\",\n",
    "    \"music artist\": \"MusicArtistAT\",\n",
    "    \"music album\": \"MusicAlbum/name\",\n",
    "    \"name of music recording\": \"MusicRecording/name\",\n",
    "    \"photograph\": \"Photograph\",\n",
    "    \"coordinate\": \"CoordinateAT\",\n",
    "    \"name of event\": \"Event/name\",\n",
    "    \"event attendance mode\": \"EventAttendanceModeEnumeration\",\n",
    "    \"event status\": \"EventStatusType\",\n",
    "    \"currency\": \"currency\",\n",
    "    \"email\": \"email\",\n",
    "    \"time\": \"Time\",\n",
    "    \"location feature\": \"LocationFeatureSpecification\",\n",
    "    \"duration\": \"Duration\",\n",
    "    \"description of event\": \"Event/description\",\n",
    "    \"description of restaurant\": \"Restaurant/description\",\n",
    "    \"description of hotel\": \"Hotel/description\",\n",
    "    \"rating\": \"Rating\",\n",
    "    #Added\n",
    "    \"description of restaurants\": \"Restaurant/description\",\n",
    "    \"name of music artist\": \"MusicArtistAT\",\n",
    "    \"description of hotel amenities\": \"LocationFeatureSpecification\",\n",
    "    \"amenities\": \"LocationFeatureSpecification\",\n",
    "    \"name of album\": \"MusicAlbum/name\",\n",
    "    \"i don't know\": \"-\",\n",
    "    \"name of music album\": \"MusicAlbum/name\",\n",
    "    \"music recording\": \"MusicRecording/name\",\n",
    "    \"event name\": \"Event/name\",\n",
    "    \"description of hotels\": \"Hotel/description\",\n",
    "    \"name of hotels\": \"Hotel/name\",\n",
    "    \"duration of music recording or video\": \"Duration\",\n",
    "    \"name of organization\": \"Organization\",\n",
    "    \"hotel amenities\": \"LocationFeatureSpecification\",\n",
    "    \"amenities of hotel room\": \"LocationFeatureSpecification\",\n",
    "    \"check-in time\": \"Time\",\n",
    "    \"check-out time\": \"Time\",\n",
    "    \"time of check-in\": \"Time\",\n",
    "    \"time of check-out\": \"Time\",\n",
    "    \"hotel features\": \"LocationFeatureSpecification\",\n",
    "    \"name of aparthotel\": \"Hotel/name\",\n",
    "    \"event description\": \"Event/description\",\n",
    "    \"email address\": \"email\",\n",
    "    \"room amenities\": \"LocationFeatureSpecification\",\n",
    "    \"end date\": \"Date\",\n",
    "    \"descriptions of events\": \"Event/description\",\n",
    "    \"mode of attendance\": \"EventAttendanceModeEnumeration\",\n",
    "    \"name of song\": \"MusicRecording/name\"\n",
    "}\n",
    "\n",
    "topic_to_label = {\n",
    "    \"Music\": [\"name of music recording\", \"name of song\", \"music recording\", \"duration\", \"duration of music recording or video\", \n",
    "              \"music artist\", \"name of music artist\", \"music album\", \"name of album\", \"name of music album\"],\n",
    "    \"Restaurants\" : [\"name of restaurant\", \"price range\", \"region of address\", \"country\", \"telephone\", \n",
    "                     \"payment accepted\", \"postal code\",\n",
    "                     \"coordinate\", \"day of week\", \"time\", \"check-in time\", \"check-out time\", \"time of check-in\", \"time of check-out\",\n",
    "                     \"description of restaurants\", \"description of restaurant\", \"review\"],\n",
    "    \"Hotels\" : [\"HotelName\", \"PriceRange\", \"Telephone\",\n",
    "                \"FaxNumber\", \"Country\", \"Time\",\n",
    "                \"PostalCode\", \"AddressLocality\", \"email\",\n",
    "                \"LocationFeatureSpecification\",\n",
    "                \"HotelDescription\", \"review\", \"Rating\",\n",
    "                \"payment accepted\", \"Photograph\"],\n",
    "    \"Events\" : [\"EventName\", \"Date\", \"DateTime\",\n",
    "                \"event status\", \"description of event\", \"description of events\", \"event description\",\n",
    "                \"EventAttendanceModeEnumeration\",\n",
    "                \"Organization\", \"Currency\", \"Telephone\"]\n",
    "}"
   ]
  },
  {
   "cell_type": "markdown",
   "id": "c1b93f4d",
   "metadata": {},
   "source": [
    "## Load test set"
   ]
  },
  {
   "cell_type": "code",
   "execution_count": 5,
   "id": "80cd0f30",
   "metadata": {},
   "outputs": [],
   "source": [
    "with open('data/cta-test-table-wise.pkl', \"rb\") as f:\n",
    "    test = pickle.load(f)\n",
    "\n",
    "examples = [example[1] for example in test]\n",
    "labels = [l for example in test for l in example[2]]\n",
    "topics = [example[3] for example in test]"
   ]
  },
  {
   "cell_type": "code",
   "execution_count": 6,
   "id": "e5235a7e",
   "metadata": {},
   "outputs": [
    {
     "name": "stdout",
     "output_type": "stream",
     "text": [
      "41\n",
      "250\n"
     ]
    }
   ],
   "source": [
    "print(len(examples))\n",
    "print(len(labels))"
   ]
  },
  {
   "cell_type": "markdown",
   "id": "b33eeece",
   "metadata": {},
   "source": [
    "## Choose prompt template: without or with instructions"
   ]
  },
  {
   "cell_type": "code",
   "execution_count": 7,
   "id": "8efc5cfa",
   "metadata": {},
   "outputs": [],
   "source": [
    "# Paper name: table\n",
    "original_template = \"\"\"\n",
    "\n",
    "Answer the question based on the task below. If the question cannot be answered using the information provided answer with \"I don't know\".\n",
    "\n",
    "Task: Classify the columns of a given table with only one of the following classes that are separated with comma: description of event, description of restaurant, locality of address, postal code, region of address, country, price range, telephone, date, name of restaurant, payment accepted, day of week, review, organization, date and time, coordinate, name of event, event attendance mode, event status, currency, time, description of hotel, name of hotel, location feature, rating, fax number, email, photograph, name of music recording, music artist, name of album, duration.\n",
    "\n",
    "Table: {input}\n",
    "\n",
    "Class:\n",
    "\n",
    "\"\"\"\n",
    "\n",
    "# Paper name: table + instructions\n",
    "original_inst_template = \"\"\"\n",
    "\n",
    "Answer the question based on the task and instructions below. If the question cannot be answered using the information provided answer with \"I don't know\".\n",
    "\n",
    "Task: Classify the columns of a given table with only one of the following classes that are separated with comma: description of event, description of restaurant, locality of address, postal code, region of address, country, price range, telephone, date, name of restaurant, payment accepted, day of week, review, organization, date and time, coordinate, name of event, event attendance mode, event status, currency, time, description of hotel, name of hotel, location feature, rating, fax number, email, photograph, name of music recording, music artist, name of album, duration.\n",
    "\n",
    "Instructions: 1. Look at the input given to you and make a table out of it. 2. Look at the cell values in detail. 3. For each column, select a class that best represents the meaning of all cells in the column. 4. Answer with the selected class for each columns with the format Column1: class.\n",
    "\n",
    "Table:\n",
    "{input}\n",
    "\n",
    "Class:\n",
    "\n",
    "\"\"\""
   ]
  },
  {
   "cell_type": "code",
   "execution_count": 8,
   "id": "4590de9b",
   "metadata": {},
   "outputs": [],
   "source": [
    "# Modified original\n",
    "modified_original_template = \"\"\"\n",
    "\n",
    "Answer the question based on the task below. If the question cannot be answered using the information provided answer with \"I don't know\".\n",
    "\n",
    "Task: Classify the columns of a given table with only one of the following classes that are separated with comma: description of event, description of restaurant, locality of address, postal code, region of address, country, price range, telephone, date, name of restaurant, payment accepted, day of week, review, organization, date and time, coordinate, name of event, event attendance mode, event status, currency, time, description of hotel, name of hotel, location feature, rating, fax number, email, photograph, name of music recording, music artist, name of album, duration. Answer with the semantic concept for each column with the format Column1: semantic concept.\n",
    "\n",
    "Table: {input}\n",
    "\n",
    "Class:\n",
    "\n",
    "\"\"\""
   ]
  },
  {
   "cell_type": "code",
   "execution_count": 9,
   "id": "d704f16f",
   "metadata": {},
   "outputs": [],
   "source": [
    "# New prompt\n",
    "semantic_concept_template = \"\"\"\n",
    "\n",
    "Answer the question based on the task below. If the question cannot be answered using the information provided answer with \"I don't know\".\n",
    "\n",
    "Task: Suggest a semantic concept for each column of a given table. Answer with the semantic concept for each column with the format Column1: semantic concept.\n",
    "\n",
    "Table: {input}\n",
    "\n",
    "Semantic concepts:\n",
    "\n",
    "\"\"\""
   ]
  },
  {
   "cell_type": "code",
   "execution_count": 10,
   "id": "27bc61f6",
   "metadata": {},
   "outputs": [],
   "source": [
    "# Paper name: table + instructions\n",
    "inst_template = \"\"\"\n",
    "\n",
    "Answer the question based on the task and instructions below. If the question cannot be answered using the information provided answer with \"I don't know\".\n",
    "\n",
    "Task: Suggest a semantic concept for each column of a given table.\n",
    "\n",
    "Instructions: 1. Look at the input given to you and make a table out of it. 2. Look at the cell values in detail. 3. For each column, suggest a semantic concept that best represents the meaning of all cells in the column. 4. Answer with the semantic concept for each column with the format Column1: semantic concept.\n",
    "\n",
    "Table:\n",
    "{input}\n",
    "\n",
    "Semantic concepts:\n",
    "\n",
    "\"\"\""
   ]
  },
  {
   "cell_type": "code",
   "execution_count": 11,
   "id": "69280f83",
   "metadata": {},
   "outputs": [],
   "source": [
    "# prompt to ask gpt to classify labels \n",
    "classify_label_template = \"\"\"\n",
    "\n",
    "Task: Classify the semantic concept {input} with only one of the following classes that are separated with comma: description of event, description of restaurant, locality of address, postal code, region of address, country, price range, telephone, date, name of restaurant, payment accepted, day of week, review, organization, date and time, coordinate, name of event, event attendance mode, event status, currency, time, description of hotel, name of hotel, location feature, rating, fax number, email, photograph, name of music recording, music artist, name of album, duration.\n",
    "\n",
    "Class:\n",
    "\n",
    "\"\"\""
   ]
  },
  {
   "cell_type": "code",
   "execution_count": 12,
   "id": "2c9cc367",
   "metadata": {},
   "outputs": [],
   "source": [
    "debug_template = \"\"\"\n",
    "\n",
    "Answer the question based on the task below. If the question cannot be answered using the information provided answer with \"I don't know\".\n",
    "\n",
    "Task: Suggest a semantic concept for each column of a given table. Answer with the semantic concept for each column with the format Column1: semantic concept.\n",
    "\n",
    "Table: {input}\n",
    "\n",
    "Semantic concepts:\n",
    "\n",
    "\"\"\"\n",
    "\n",
    "debug_template_top_5 = \"\"\"\n",
    "\n",
    "Answer the question based on the task below. If the question cannot be answered using the information provided answer with \"I don't know\".\n",
    "\n",
    "Task: Suggest 5 possible semantic concept for each column of a given table. Answer with the semantic concept for each column with the format Column1: possible semantic concept 1, possible semantic concept 2, possible semantic concept 3, possible semantic concept 4, possible semantic concept 5. \n",
    "\n",
    "Table: {input}\n",
    "\n",
    "Semantic concepts:\n",
    "\n",
    "\"\"\"\n",
    "\n",
    "debug_template_album = \"\"\"\n",
    "\n",
    "Could this column be about music albums?\n",
    "\n",
    "Table: {input}\n",
    "\n",
    "\"\"\"\n",
    "\n",
    "check_template = \"\"\"\n",
    "\n",
    "Critique whether these semantic concepts matches their respective columns in the given table and improve on them. If there is no further improvements to be made, just say 'It's good'.\n",
    "\n",
    "Semantic concepts: {prev_output}\n",
    "\n",
    "Table: {input}\n",
    "\n",
    "Answer with the semantic concept for each column with the format Column1: semantic concept. \n",
    "\n",
    "Semantic concepts:\n",
    "\n",
    "\"\"\"\n",
    "\n",
    "check_template_best_of_5 = \"\"\"\n",
    "\n",
    "Critique whether these semantic concepts matches their respective columns in the given table and improve on them. Choose the best semantic concept for each column.\n",
    "\n",
    "Semantic concepts: {prev_output}\n",
    "\n",
    "Table: {input}\n",
    "\n",
    "Answer with the semantic concept for each column with the format Column1: semantic concept. \n",
    "\n",
    "Semantic concepts:\n",
    "\n",
    "\"\"\""
   ]
  },
  {
   "cell_type": "markdown",
   "id": "19177971",
   "metadata": {},
   "source": [
    "## Load LLM and run model"
   ]
  },
  {
   "cell_type": "code",
   "execution_count": 13,
   "id": "9940af79",
   "metadata": {
    "scrolled": true
   },
   "outputs": [],
   "source": [
    "gpt_3_turbo = ChatOpenAI(model_name='gpt-3.5-turbo-0301', temperature=0)\n",
    "gpt_4 = ChatOpenAI(model_name='gpt-4-0613', temperature=0)"
   ]
  },
  {
   "cell_type": "code",
   "execution_count": 14,
   "id": "eca67e77",
   "metadata": {},
   "outputs": [],
   "source": [
    "prompt_type = \"modified_original_template\"\n",
    "if prompt_type == \"original_template\":\n",
    "    prompt = PromptTemplate(template=original_template, input_variables=['input'])\n",
    "    llm_chain = LLMChain(prompt=prompt, llm=gpt_3_turbo)\n",
    "    llm_chain_4 = LLMChain(prompt=prompt, llm=gpt_4)\n",
    "elif prompt_type == \"modified_original_template\":\n",
    "    prompt = PromptTemplate(template=modified_original_template, input_variables=['input'])\n",
    "    llm_chain = LLMChain(prompt=prompt, llm=gpt_3_turbo)\n",
    "    llm_chain_4 = LLMChain(prompt=prompt, llm=gpt_4)\n",
    "elif prompt_type == \"semantic_concept\":\n",
    "    prompt = PromptTemplate(template=semantic_concept_template, input_variables=['input'])\n",
    "    llm_chain = LLMChain(prompt=prompt, llm=gpt_3_turbo)\n",
    "    llm_chain_4 = LLMChain(prompt=prompt, llm=gpt_4)\n",
    "elif prompt_type == \"with_inst\":\n",
    "    prompt = PromptTemplate(template=inst_template, input_variables=['input'])\n",
    "    llm_chain = LLMChain(prompt=prompt, llm=gpt_3_turbo)\n",
    "    llm_chain_4 = LLMChain(prompt=prompt, llm=gpt_4)\n",
    "elif prompt_type == \"debug_template\":\n",
    "    prompt = PromptTemplate(template=debug_template, input_variables=['input'])\n",
    "    llm_chain = LLMChain(prompt=prompt, llm=gpt_3_turbo)\n",
    "    llm_chain_4 = LLMChain(prompt=prompt, llm=gpt_4)\n",
    "elif prompt_type == \"debug_template_top_5\":\n",
    "    prompt = PromptTemplate(template=debug_template_top_5, input_variables=['input'])\n",
    "    llm_chain = LLMChain(prompt=prompt, llm=gpt_3_turbo)\n",
    "    llm_chain_4 = LLMChain(prompt=prompt, llm=gpt_4)"
   ]
  },
  {
   "cell_type": "code",
   "execution_count": null,
   "id": "82446d4e",
   "metadata": {},
   "outputs": [],
   "source": [
    "improve_prompt = PromptTemplate(template=check_template_best_of_5, input_variables=['input', 'prev_output'])\n",
    "llm_chain_improve = LLMChain(prompt=improve_prompt, llm=gpt_3_turbo)"
   ]
  },
  {
   "cell_type": "code",
   "execution_count": null,
   "id": "1d281dc5",
   "metadata": {},
   "outputs": [],
   "source": [
    "lines = examples[21].split(\"\\n\")\n",
    "# debug_eg = \"\\n\".join([lines[0], lines[1], lines[4]])\n",
    "debug_eg = \"\\n\".join(lines[:-1])\n",
    "print(debug_eg)"
   ]
  },
  {
   "cell_type": "code",
   "execution_count": null,
   "id": "f083a53e",
   "metadata": {},
   "outputs": [],
   "source": [
    "def convert_to_column_major(example: str) -> str:\n",
    "    lines = example.split(\"\\n\")\n",
    "    col_major = [col + \": \" for col in lines[0].split(\"||\")]\n",
    "    for line in lines[1:]:\n",
    "        for i, val in enumerate(line.split(\"||\")):\n",
    "            col_major[i] += val + \", \"\n",
    "    debug_eg = \"\\n\".join(col_major[:-1])\n",
    "    return debug_eg\n",
    "\n",
    "print(convert_to_column_major(examples[40]))"
   ]
  },
  {
   "cell_type": "code",
   "execution_count": null,
   "id": "b8a18f72",
   "metadata": {},
   "outputs": [],
   "source": [
    "examples[40]"
   ]
  },
  {
   "cell_type": "code",
   "execution_count": null,
   "id": "bb79e5f0",
   "metadata": {},
   "outputs": [],
   "source": [
    "first_input = llm_chain.run({'input': debug_eg})\n",
    "print(first_input)\n",
    "print(\"=\" * 10)\n",
    "next_output = llm_chain_improve.run({'input': debug_eg, 'prev_output': first_input})\n",
    "print(next_output)"
   ]
  },
  {
   "cell_type": "code",
   "execution_count": 15,
   "id": "a5f9a001",
   "metadata": {},
   "outputs": [],
   "source": [
    "def save_preds(preds: list[str], file_name: str):\n",
    "    #Save predictions in a file:\n",
    "    with open(file_name,'wb') as f:\n",
    "        pickle.dump(preds,f)\n",
    "\n",
    "def load_preds(file_name: str):\n",
    "    #Save predictions in a file:\n",
    "    with open(file_name,'rb') as f:\n",
    "        preds = pickle.load(f)\n",
    "    return preds"
   ]
  },
  {
   "cell_type": "code",
   "execution_count": 16,
   "id": "0e985602",
   "metadata": {},
   "outputs": [],
   "source": [
    "#Zero-shot prediction\n",
    "preds_gpt35 = [llm_chain.run({'input': example}) for example in examples]\n",
    "save_preds(preds_gpt35, \"predictions/gpt35-prompt-table-without-instructions-og-modified.pkl\")"
   ]
  },
  {
   "cell_type": "code",
   "execution_count": null,
   "id": "fa1d64ec",
   "metadata": {},
   "outputs": [],
   "source": [
    "#Zero-shot prediction\n",
    "preds_gpt35 = [llm_chain.run({'input': convert_to_column_major(example)}) for example in examples]\n",
    "save_preds(preds_gpt35, \"predictions/gpt35-prompt-table-without-instructions-col-major.pkl\")"
   ]
  },
  {
   "cell_type": "code",
   "execution_count": null,
   "id": "0feaa26c",
   "metadata": {},
   "outputs": [],
   "source": [
    "preds_gpt4 = [llm_chain_4.run({'input': example}) for example in examples]\n",
    "save_preds(preds_gpt4, \"predictions/gpt4-prompt-table-with-instructions.pkl\")"
   ]
  },
  {
   "cell_type": "code",
   "execution_count": 17,
   "id": "59acb9b2",
   "metadata": {
    "collapsed": true,
    "jupyter": {
     "outputs_hidden": true
    },
    "tags": []
   },
   "outputs": [
    {
     "name": "stdout",
     "output_type": "stream",
     "text": [
      "['Column 1: Telephone\\nColumn 2: Name of restaurant\\nColumn 3: Postal code\\nColumn 4: Region of address\\nColumn 5: Country\\nColumn 6: Coordinate\\nColumn 7: Date and time\\nColumn 8: Day of week\\nColumn 9: NONE (cannot be classified with the given classes)', 'Column 1: telephone\\nColumn 2: name of restaurant\\nColumn 3: description of restaurant\\nColumn 4: locality of address\\nColumn 5: day of week\\nColumn 6: time', 'Column 1: Name of restaurant\\nColumn 2: Postal code\\nColumn 3: Payment accepted\\nColumn 4: Region of address\\nColumn 5: Locality of address', 'Column 1: name of restaurant\\nColumn 2: telephone\\nColumn 3: description of restaurant\\nColumn 4: locality of address\\nColumn 5: region of address\\nColumn 6: payment accepted\\nColumn 7: postal code\\nColumn 8: coordinate\\nColumn 9: coordinate\\nColumn 10: day of week\\nColumn 11: day of week', 'Column 1: Name of restaurant\\nColumn 2: Price range\\nColumn 3: Telephone', \"Column 1: Name of restaurant\\nColumn 2: Telephone\\nColumn 3: Price range\\nColumn 4: Country\\nColumn 5: Region of address\\nColumn 6: Postal code\\nColumn 7: Coordinate\\nColumn 8: Locality of address\\nColumn 9: Description of restaurant\\nColumn 10: I don't know\", 'Column 1: name of restaurant\\nColumn 2: telephone\\nColumn 3: locality of address\\nColumn 4: postal code', 'Column 1: name of restaurant\\nColumn 2: telephone\\nColumn 3: description of restaurant\\nColumn 4: region of address\\nColumn 5: price range\\nColumn 6: country\\nColumn 7: locality of address\\nColumn 8: postal code', 'Column 1: Name of restaurant\\nColumn 2: Telephone\\nColumn 3: Description of restaurant\\nColumn 4: Price range\\nColumn 5: Postal code\\nColumn 6: Coordinate\\nColumn 7: Region of address\\nColumn 8: Country', \"Column 1: telephone\\nColumn 2: name of restaurant\\nColumn 3: price range\\nColumn 4: locality of address\\nColumn 5: postal code\\nColumn 6: coordinate\\nColumn 7: country\\nColumn 8: description of restaurant\\nColumn 9: I don't know\", 'Column 1: Name of restaurant\\nColumn 2: Telephone\\nColumn 3: Description of restaurant\\nColumn 4: Price range\\nColumn 5: Country\\nColumn 6: Locality of address\\nColumn 7: Payment accepted\\nColumn 8: Coordinate\\nColumn 9: Date and time\\nColumn 10: Day of week\\nColumn 11: Review\\nColumn 12: None', 'Column 1: date and time\\nColumn 2: name of event\\nColumn 3: description of event\\nColumn 4: date and time\\nColumn 5: event status', 'Column 1: date and time\\nColumn 2: description of event\\nColumn 3: event status\\nColumn 4: date and time\\nColumn 5: event attendance mode', 'Column 1: date and time\\nColumn 2: name of event\\nColumn 3: description of event\\nColumn 4: date and time\\nColumn 5: event status\\nColumn 6: event attendance mode\\nColumn 7: currency\\nColumn 8: name of organization', 'Column 1: date and time\\nColumn 2: description of event\\nColumn 3: description of event\\nColumn 4: date and time\\nColumn 5: currency', 'Column 1: name of event\\nColumn 2: date and time\\nColumn 3: description of event\\nColumn 4: telephone\\nColumn 5: locality of address', 'Column 1: date\\nColumn 2: name of event\\nColumn 3: description of event\\nColumn 4: date\\nColumn 5: event attendance mode\\nColumn 6: event status', 'Column 1: description of event\\nColumn 2: date and time\\nColumn 3: description of event\\nColumn 4: locality of address\\nColumn 5: event attendance mode', 'Column 1: date\\nColumn 2: name of event\\nColumn 3: date\\nColumn 4: event attendance mode\\nColumn 5: currency\\nColumn 6: description of event', 'Column 1: date\\nColumn 2: name of event\\nColumn 3: date\\nColumn 4: description of event\\nColumn 5: event attendance mode\\nColumn 6: currency\\nColumn 7: event status', 'Column 1: Name of event\\nColumn 2: Description of event\\nColumn 3: Description of event\\nColumn 4: Description of event\\nColumn 5: Event attendance mode\\nColumn 6: Date and time\\nColumn 7: Organization\\nColumn 8: Telephone', 'Column 1: Name of hotel\\nColumn 2: Telephone\\nColumn 3: Email\\nColumn 4: Fax number\\nColumn 5: Description of event\\nColumn 6: Postal code\\nColumn 7: Country', 'Column 1: Name of hotel\\nColumn 2: Telephone\\nColumn 3: Description of hotel\\nColumn 4: Telephone\\nColumn 5: Locality of address\\nColumn 6: Postal code\\nColumn 7: Time\\nColumn 8: Country\\nColumn 9: Payment accepted\\nColumn 10: NONE', 'Column 1: Name of hotel\\nColumn 2: Telephone\\nColumn 3: Description of hotel\\nColumn 4: Time (check-in time)\\nColumn 5: Time (check-out time)\\nColumn 6: Postal code\\nColumn 7: Locality of address\\nColumn 8: Country\\nColumn 9: Price range\\nColumn 10: Location feature (amenities)', 'Column 1: Name of hotel\\nColumn 2: Description of hotel\\nColumn 3: Rating\\nColumn 4: Price range', 'Column 1: Name of hotel\\nColumn 2: Description of hotel\\nColumn 3: Photograph\\nColumn 4: Check-in time\\nColumn 5: Price range\\nColumn 6: Rating\\nColumn 7: Check-out time\\nColumn 8: Amenities', 'Column 1: locality of address\\nColumn 2: name of hotel\\nColumn 3: rating\\nColumn 4: country\\nColumn 5: review', 'Column 1: Name of hotel\\nColumn 2: Email\\nColumn 3: Photograph\\nColumn 4: Country\\nColumn 5: Region of address\\nColumn 6: Rating\\nColumn 7: Description of hotel', 'Column 1: Name of hotel\\nColumn 2: Description of hotel\\nColumn 3: NONE\\nColumn 4: NONE\\nColumn 5: Postal code\\nColumn 6: Locality of address\\nColumn 7: Country\\nColumn 8: Rating\\nColumn 9: Description of hotel amenities\\nColumn 10: Payment accepted', 'Column 1: Name of restaurant/amusement park/hotel\\nColumn 2: Email\\nColumn 3: Description of event/attraction/health policy/cancellation policy\\nColumn 4: Photograph/URL', 'Column 1: Name of hotel\\nColumn 2: Description of hotel\\nColumn 3: Payment accepted\\nColumn 4: Rating\\nColumn 5: Fax number', 'Column 1: Name of music recording\\nColumn 2: Duration\\nColumn 3: Miscellaneous\\nColumn 4: Music artist', 'Column 1: Name of music recording\\nColumn 2: Duration\\nColumn 3: Name of album\\nColumn 4: Music artist', 'Column 1: Name of music recording\\nColumn 2: Duration\\nColumn 3: Music artist', 'Column 1: name of music recording\\nColumn 2: duration\\nColumn 3: price range', \"I don't know.\", 'Column 1: duration\\nColumn 2: name of music recording\\nColumn 3: name of album\\nColumn 4: music artist', 'Column 1: name of music recording\\nColumn 2: duration\\nColumn 3: music artist\\nColumn 4: name of album', 'Column 1: Name of music recording\\nColumn 2: Duration\\nColumn 3: Music artist', 'Column 1: name of music recording\\nColumn 2: duration\\nColumn 3: name of album\\nColumn 4: music artist', 'Column 1: Name of music recording\\nColumn 2: Duration\\nColumn 3: Name of music recording\\nColumn 4: Name of artist/band']\n"
     ]
    }
   ],
   "source": [
    "preds = load_preds(\"predictions/gpt35-prompt-table-without-instructions-og-modified.pkl\")\n",
    "print(preds)"
   ]
  },
  {
   "cell_type": "markdown",
   "id": "6ab6cab8",
   "metadata": {},
   "source": [
    "## Evaluation"
   ]
  },
  {
   "cell_type": "code",
   "execution_count": null,
   "id": "c14a5709",
   "metadata": {},
   "outputs": [],
   "source": [
    "prompt_classify = PromptTemplate(template=classify_label_template, input_variables=['input'])\n",
    "llm_chain_c = LLMChain(prompt=prompt_classify, llm=gpt_3_turbo)\n",
    "llm_chain_4_c = LLMChain(prompt=prompt_classify, llm=gpt_4)"
   ]
  },
  {
   "cell_type": "code",
   "execution_count": null,
   "id": "813d5aaa",
   "metadata": {},
   "outputs": [],
   "source": [
    "llm_chain_c.run({'input': \"state\"})"
   ]
  },
  {
   "cell_type": "code",
   "execution_count": 18,
   "id": "003621b8",
   "metadata": {},
   "outputs": [],
   "source": [
    "bertscore = load(\"bertscore\")"
   ]
  },
  {
   "cell_type": "code",
   "execution_count": 19,
   "id": "12e1151a",
   "metadata": {},
   "outputs": [
    {
     "name": "stderr",
     "output_type": "stream",
     "text": [
      "100%|██████████████████████████████████████████████████████████████████████████████████████████████████████████████████████| 41/41 [04:50<00:00,  7.08s/it]\n"
     ]
    }
   ],
   "source": [
    "def evaluation_new(preds, bert_threshold=0.85):\n",
    "    ids, predictions, original_preds, parsed_preds, top_5_predictions, highest_bertscores = [], [], [], [], [], []\n",
    "    i=0\n",
    "    for j, table_preds in enumerate(tqdm(preds)):\n",
    "        # How many columns does the table have? : To control cases when less/more classes are returned\n",
    "        table_number = len(test[j][2])\n",
    "        \n",
    "        if \"Semantic concepts:\" in table_preds:\n",
    "            table_preds = table_preds.split(\"Class:\")[1]\n",
    "        \n",
    "        #Break predictions into either \\n or ,\n",
    "        if \":\" in table_preds or \"-\" in table_preds:\n",
    "            if \":\" in table_preds:\n",
    "                separator = \":\"\n",
    "                start = 1\n",
    "                end = table_number+1\n",
    "            else:\n",
    "                separator = \"-\"  \n",
    "                start = 1\n",
    "                end = table_number+1\n",
    "        else:\n",
    "            separator = \",\"\n",
    "            start = 0\n",
    "            end = table_number\n",
    "            \n",
    "        col_preds = table_preds.split(separator)[start:end]\n",
    "        for pred in col_preds:\n",
    "            i+=1\n",
    "            \n",
    "            # Remove break lines\n",
    "            if \"\\n\" in pred:\n",
    "                pred = pred.split('\\n')[0].strip()\n",
    "            # Remove commas\n",
    "            if \",\" in pred:\n",
    "                pred = pred.split(\",\")[0].strip()\n",
    "            # Remove paranthesis\n",
    "            if '(' in pred:\n",
    "                pred = pred.split(\"(\")[0].strip()\n",
    "            #Remove points\n",
    "            if '.' in pred:\n",
    "                pred = pred.split(\".\")[0].strip()\n",
    "            # Lower-case prediction\n",
    "            pred = pred.strip().lower()\n",
    "            parsed_preds.append(pred)\n",
    "            original_preds.append(table_preds)\n",
    "            ids.append(j)\n",
    "\n",
    "            classes = list(text_to_label.keys())\n",
    "            bertscores = np.array(bertscore.compute(predictions=[pred] * len(classes), references=classes, lang=\"en\")[\"f1\"])\n",
    "            index = np.argsort(bertscores)[-5:]\n",
    "            max_index = index[-1]\n",
    "            top_5_predictions.append([text_to_label[classes[i]] for i in index])\n",
    "            highest_bertscores.append(bertscores[index])\n",
    "\n",
    "            highest_score = bertscores[max_index]\n",
    "\n",
    "            if highest_score > bert_threshold:\n",
    "                predictions.append(text_to_label[classes[max_index]])\n",
    "            else:\n",
    "                print(f\"For test example {i} out of label space prediction: {pred}\")\n",
    "                predictions.append('-')\n",
    "            \n",
    "        # If more/less predictions for table\n",
    "        if len(col_preds) < table_number:\n",
    "            for m in range(0, table_number-len(col_preds)):\n",
    "                original_preds.append(table_preds)\n",
    "                ids.append(j)\n",
    "                predictions.append(\"-\")\n",
    "                parsed_preds.append(\"-\")\n",
    "                top_5_predictions.append([])\n",
    "                highest_bertscores.append(0)\n",
    "                i+=1\n",
    "    return ids, predictions, original_preds, parsed_preds, highest_bertscores, top_5_predictions\n",
    "\n",
    "ids, class_predictions, original_preds, parsed_preds, highest_bertscores, top_5_preds = evaluation_new(preds)"
   ]
  },
  {
   "cell_type": "code",
   "execution_count": 20,
   "id": "92b3db8a",
   "metadata": {},
   "outputs": [
    {
     "data": {
      "text/plain": [
       "(250, 250, 250, 250)"
      ]
     },
     "execution_count": 20,
     "metadata": {},
     "output_type": "execute_result"
    }
   ],
   "source": [
    "len(ids), len(class_predictions), len(original_preds), len(highest_bertscores)"
   ]
  },
  {
   "cell_type": "code",
   "execution_count": 21,
   "id": "5c91b925",
   "metadata": {},
   "outputs": [],
   "source": [
    "df = pd.DataFrame({\"prompt_output_id\": ids, \n",
    "                   \"label\": labels, \n",
    "                   \"original_pred\": original_preds, \n",
    "                   \"parsed_col_pred\": parsed_preds, \n",
    "                   \"class_pred_using_bert\": class_predictions, \n",
    "                   \"highest_bertscore\": highest_bertscores,\n",
    "                   \"top_5_preds\": top_5_preds})\n",
    "df.to_csv(\"predictions/preds_gpt35_with_inst_og_modified.csv\")"
   ]
  },
  {
   "cell_type": "code",
   "execution_count": null,
   "id": "26702dcc",
   "metadata": {},
   "outputs": [],
   "source": [
    "# Map predictions to label space\n",
    "def evaluation_old(preds):\n",
    "    # Map predictions to label space\n",
    "    predictions = []\n",
    "    i=0\n",
    "    for j, table_preds in enumerate(preds):\n",
    "        # How many columns does the table have? : To control cases when less/more classes are returned\n",
    "        table_number = len(test[j][2])\n",
    "        \n",
    "        if \"Class:\" in table_preds:\n",
    "            table_preds = table_preds.split(\"Class:\")[1]\n",
    "        \n",
    "        #Break predictions into either \\n or ,\n",
    "        if \":\" in table_preds or \"-\" in table_preds:\n",
    "            if \":\" in table_preds:\n",
    "                separator = \":\"\n",
    "                start = 1\n",
    "                end = table_number+1\n",
    "            else:\n",
    "                separator = \"-\"  \n",
    "                start = 1\n",
    "                end = table_number+1\n",
    "        else:\n",
    "            separator = \",\"\n",
    "            start = 0\n",
    "            end = table_number\n",
    "            \n",
    "        col_preds = table_preds.split(separator)[start:end]\n",
    "        \n",
    "        for pred in col_preds:\n",
    "            i+=1\n",
    "            \n",
    "            # Remove break lines\n",
    "            if \"\\n\" in pred:\n",
    "                pred = pred.split('\\n')[0].strip()\n",
    "            # Remove commas\n",
    "            if \",\" in pred:\n",
    "                pred = pred.split(\",\")[0].strip()\n",
    "            # Remove paranthesis\n",
    "            if '(' in pred:\n",
    "                pred = pred.split(\"(\")[0].strip()\n",
    "            #Remove points\n",
    "            if '.' in pred:\n",
    "                pred = pred.split(\".\")[0].strip()\n",
    "            # Lower-case prediction\n",
    "            pred = pred.strip().lower()\n",
    "            \n",
    "            if pred in text_to_label:\n",
    "                predictions.append(text_to_label[pred])\n",
    "            else:\n",
    "                print(f\"For test example {i} out of label space prediction: {pred}\")\n",
    "                predictions.append('-')\n",
    "            \n",
    "        # If more/less predictions for table\n",
    "        if len(col_preds) < table_number:\n",
    "            for m in range(0, table_number-len(col_preds)):\n",
    "                predictions.append('-')\n",
    "                i+=1\n",
    "    return predictions\n",
    "\n",
    "old_preds = evaluation_old(preds)"
   ]
  },
  {
   "cell_type": "markdown",
   "id": "7ab2350d",
   "metadata": {},
   "source": [
    "### Calculate Precision, Recall, Macro-F1 and Micro-F1"
   ]
  },
  {
   "cell_type": "code",
   "execution_count": 25,
   "id": "d81907f0",
   "metadata": {},
   "outputs": [
    {
     "data": {
      "text/html": [
       "<div>\n",
       "<style scoped>\n",
       "    .dataframe tbody tr th:only-of-type {\n",
       "        vertical-align: middle;\n",
       "    }\n",
       "\n",
       "    .dataframe tbody tr th {\n",
       "        vertical-align: top;\n",
       "    }\n",
       "\n",
       "    .dataframe thead th {\n",
       "        text-align: right;\n",
       "    }\n",
       "</style>\n",
       "<table border=\"1\" class=\"dataframe\">\n",
       "  <thead>\n",
       "    <tr style=\"text-align: right;\">\n",
       "      <th></th>\n",
       "      <th>prompt_output_id</th>\n",
       "      <th>label</th>\n",
       "      <th>original_pred</th>\n",
       "      <th>parsed_col_pred</th>\n",
       "      <th>class_pred_using_bert</th>\n",
       "      <th>highest_bertscore</th>\n",
       "      <th>top_5_preds</th>\n",
       "      <th>lionel_annot</th>\n",
       "    </tr>\n",
       "  </thead>\n",
       "  <tbody>\n",
       "    <tr>\n",
       "      <th>0</th>\n",
       "      <td>0</td>\n",
       "      <td>telephone</td>\n",
       "      <td>Column 1: Telephone\\nColumn 2: Name of restaur...</td>\n",
       "      <td>telephone</td>\n",
       "      <td>telephone</td>\n",
       "      <td>[0.89243859 0.89333737 0.89716375 0.90874869 0...</td>\n",
       "      <td>['priceRange', 'MusicRecording/name', 'Date', ...</td>\n",
       "      <td>telephone</td>\n",
       "    </tr>\n",
       "    <tr>\n",
       "      <th>1</th>\n",
       "      <td>0</td>\n",
       "      <td>Restaurant/name</td>\n",
       "      <td>Column 1: Telephone\\nColumn 2: Name of restaur...</td>\n",
       "      <td>name of restaurant</td>\n",
       "      <td>Restaurant/name</td>\n",
       "      <td>[0.96583289 0.96584755 0.96740007 0.97968745 0...</td>\n",
       "      <td>['Hotel/name', 'Event/name', 'Organization', '...</td>\n",
       "      <td>Restaurant/name</td>\n",
       "    </tr>\n",
       "    <tr>\n",
       "      <th>2</th>\n",
       "      <td>0</td>\n",
       "      <td>postalCode</td>\n",
       "      <td>Column 1: Telephone\\nColumn 2: Name of restaur...</td>\n",
       "      <td>postal code</td>\n",
       "      <td>postalCode</td>\n",
       "      <td>[0.88954216 0.88961637 0.8896479  0.89414907 0...</td>\n",
       "      <td>['Restaurant/name', 'Hotel/name', 'Organizatio...</td>\n",
       "      <td>postalCode</td>\n",
       "    </tr>\n",
       "    <tr>\n",
       "      <th>3</th>\n",
       "      <td>0</td>\n",
       "      <td>addressRegion</td>\n",
       "      <td>Column 1: Telephone\\nColumn 2: Name of restaur...</td>\n",
       "      <td>region of address</td>\n",
       "      <td>addressRegion</td>\n",
       "      <td>[0.91913378 0.92036927 0.92133033 0.94633704 0...</td>\n",
       "      <td>['Organization', 'Event/name', 'EventAttendanc...</td>\n",
       "      <td>addressRegion</td>\n",
       "    </tr>\n",
       "    <tr>\n",
       "      <th>4</th>\n",
       "      <td>0</td>\n",
       "      <td>Country</td>\n",
       "      <td>Column 1: Telephone\\nColumn 2: Name of restaur...</td>\n",
       "      <td>country</td>\n",
       "      <td>Country</td>\n",
       "      <td>[0.91340989 0.91425383 0.9207198  0.93141145 0...</td>\n",
       "      <td>['Duration', 'currency', 'Time', 'Date', 'Coun...</td>\n",
       "      <td>Country</td>\n",
       "    </tr>\n",
       "  </tbody>\n",
       "</table>\n",
       "</div>"
      ],
      "text/plain": [
       "   prompt_output_id            label  \\\n",
       "0                 0        telephone   \n",
       "1                 0  Restaurant/name   \n",
       "2                 0       postalCode   \n",
       "3                 0    addressRegion   \n",
       "4                 0          Country   \n",
       "\n",
       "                                       original_pred     parsed_col_pred  \\\n",
       "0  Column 1: Telephone\\nColumn 2: Name of restaur...           telephone   \n",
       "1  Column 1: Telephone\\nColumn 2: Name of restaur...  name of restaurant   \n",
       "2  Column 1: Telephone\\nColumn 2: Name of restaur...         postal code   \n",
       "3  Column 1: Telephone\\nColumn 2: Name of restaur...   region of address   \n",
       "4  Column 1: Telephone\\nColumn 2: Name of restaur...             country   \n",
       "\n",
       "  class_pred_using_bert                                  highest_bertscore  \\\n",
       "0             telephone  [0.89243859 0.89333737 0.89716375 0.90874869 0...   \n",
       "1       Restaurant/name  [0.96583289 0.96584755 0.96740007 0.97968745 0...   \n",
       "2            postalCode  [0.88954216 0.88961637 0.8896479  0.89414907 0...   \n",
       "3         addressRegion  [0.91913378 0.92036927 0.92133033 0.94633704 0...   \n",
       "4               Country  [0.91340989 0.91425383 0.9207198  0.93141145 0...   \n",
       "\n",
       "                                         top_5_preds     lionel_annot  \n",
       "0  ['priceRange', 'MusicRecording/name', 'Date', ...        telephone  \n",
       "1  ['Hotel/name', 'Event/name', 'Organization', '...  Restaurant/name  \n",
       "2  ['Restaurant/name', 'Hotel/name', 'Organizatio...       postalCode  \n",
       "3  ['Organization', 'Event/name', 'EventAttendanc...    addressRegion  \n",
       "4  ['Duration', 'currency', 'Time', 'Date', 'Coun...          Country  "
      ]
     },
     "execution_count": 25,
     "metadata": {},
     "output_type": "execute_result"
    }
   ],
   "source": [
    "df = pd.read_csv(\"predictions/preds_gpt35_without_inst_og_modified.csv\",index_col=0)\n",
    "labels, preds = df[\"label\"], df[\"class_pred_using_bert\"]\n",
    "df.head()"
   ]
  },
  {
   "cell_type": "code",
   "execution_count": null,
   "id": "80edaecc",
   "metadata": {},
   "outputs": [],
   "source": [
    "print(len(df))\n",
    "print(len(df[df[\"label\"] == df[\"class_pred_using_bert\"]]))\n",
    "df['label_in_top_5'] = df[['label','top_5_preds']].apply(\n",
    "    lambda row: row['label'] in row['top_5_preds'], axis=1\n",
    ")\n",
    "print(len(df[df[\"label_in_top_5\"] == True]))"
   ]
  },
  {
   "cell_type": "code",
   "execution_count": 23,
   "id": "e1a1bf30",
   "metadata": {},
   "outputs": [],
   "source": [
    "def calculate_f1_scores(y_tests, y_preds, num_classes):\n",
    "    types = list(set(labels))\n",
    "    types = types + [\"-\"]\n",
    "    \n",
    "    y_tests = [types.index(y) for y in y_tests]\n",
    "    y_preds = [types.index(y) for y in y_preds]\n",
    "    \n",
    "    #Confusion matrix\n",
    "    cm = np.zeros(shape=(num_classes,num_classes))\n",
    "    \n",
    "    for i in range(len(y_tests)):\n",
    "        cm[y_preds[i]][y_tests[i]] += 1\n",
    "        \n",
    "    report = {}\n",
    "    \n",
    "    for j in range(len(cm[0])):\n",
    "        report[j] = {}\n",
    "        report[j]['FN'] = 0\n",
    "        report[j]['FP'] = 0\n",
    "        report[j]['TP'] = cm[j][j]\n",
    "\n",
    "        for i in range(len(cm)):\n",
    "            if i != j:\n",
    "                report[j]['FN'] += cm[i][j]\n",
    "        for k in range(len(cm[0])):\n",
    "            if k != j:\n",
    "                report[j]['FP'] += cm[j][k]\n",
    "\n",
    "        precision = report[j]['TP'] / (report[j]['TP'] + report[j]['FP'])\n",
    "        recall = report[j]['TP'] / (report[j]['TP'] + report[j]['FN'])\n",
    "        f1 = 2*precision*recall / (precision + recall)\n",
    "        \n",
    "        if np.isnan(f1):\n",
    "            f1 = 0\n",
    "        if np.isnan(precision):\n",
    "            f1 = 0\n",
    "        if np.isnan(recall):\n",
    "            f1 = 0\n",
    "\n",
    "        report[j]['p'] =  precision\n",
    "        report[j]['r'] =  recall\n",
    "        report[j]['f1'] = f1\n",
    "    \n",
    "    all_fn = 0\n",
    "    all_tp = 0\n",
    "    all_fp = 0\n",
    "\n",
    "    for r in report:\n",
    "        if r != num_classes-1:\n",
    "            all_fn += report[r]['FN']\n",
    "            all_tp += report[r]['TP']\n",
    "            all_fp += report[r]['FP']\n",
    "        \n",
    "    class_f1s = [ report[class_]['f1'] for class_ in report]\n",
    "    class_p = [ 0 if np.isnan(report[class_]['p']) else report[class_]['p'] for class_ in report]\n",
    "    class_r = [ 0 if np.isnan(report[class_]['r']) else report[class_]['r'] for class_ in report]\n",
    "    macro_f1 = sum(class_f1s[:-1]) / (num_classes-1)\n",
    "    \n",
    "    p =  sum(class_p[:-1]) / (num_classes-1)\n",
    "    r =  sum(class_r[:-1]) / (num_classes-1)\n",
    "    micro_f1 = all_tp / ( all_tp + (1/2 * (all_fp + all_fn) )) \n",
    "    \n",
    "    per_class_eval = {}\n",
    "    for index, t in enumerate(types[:-1]):\n",
    "        per_class_eval[t] = {\"Precision\":class_p[index], \"Recall\": class_r[index], \"F1\": class_f1s[index]}\n",
    "    \n",
    "    evaluation = {\n",
    "        \"Micro-F1\": micro_f1,\n",
    "        \"Macro-F1\": macro_f1,\n",
    "        \"Precision\": p,\n",
    "        \"Recall\": r\n",
    "    }\n",
    "    \n",
    "    return evaluation, per_class_eval"
   ]
  },
  {
   "cell_type": "code",
   "execution_count": 26,
   "id": "b1770b52",
   "metadata": {
    "scrolled": true
   },
   "outputs": [
    {
     "name": "stdout",
     "output_type": "stream",
     "text": [
      "{'Micro-F1': 0.8218623481781376, 'Macro-F1': 0.812061423245884, 'Precision': 0.8641011332417583, 'Recall': 0.8043650793650794}\n",
      "{'Restaurant/description': {'Precision': 0.7142857142857143, 'Recall': 1.0, 'F1': 0.8333333333333333}, 'DayOfWeek': {'Precision': 0.4, 'Recall': 0.5, 'F1': 0.4444444444444445}, 'Hotel/name': {'Precision': 1.0, 'Recall': 0.9, 'F1': 0.9473684210526316}, 'Event/name': {'Precision': 1.0, 'Recall': 0.7, 'F1': 0.8235294117647058}, 'MusicRecording/name': {'Precision': 0.9, 'Recall': 0.9, 'F1': 0.9}, 'faxNumber': {'Precision': 1.0, 'Recall': 0.6666666666666666, 'F1': 0.8}, 'addressLocality': {'Precision': 0.6428571428571429, 'Recall': 0.75, 'F1': 0.6923076923076924}, 'priceRange': {'Precision': 0.9, 'Recall': 1.0, 'F1': 0.9473684210526316}, 'currency': {'Precision': 1.0, 'Recall': 1.0, 'F1': 1.0}, 'addressRegion': {'Precision': 0.7142857142857143, 'Recall': 0.8333333333333334, 'F1': 0.7692307692307692}, 'email': {'Precision': 1.0, 'Recall': 1.0, 'F1': 1.0}, 'CoordinateAT': {'Precision': 1.0, 'Recall': 0.5833333333333334, 'F1': 0.7368421052631579}, 'Country': {'Precision': 0.75, 'Recall': 0.75, 'F1': 0.75}, 'telephone': {'Precision': 0.875, 'Recall': 0.9333333333333333, 'F1': 0.9032258064516129}, 'Time': {'Precision': 0.8333333333333334, 'Recall': 0.4166666666666667, 'F1': 0.5555555555555556}, 'Duration': {'Precision': 0.6428571428571429, 'Recall': 0.9, 'F1': 0.75}, 'Photograph': {'Precision': 1.0, 'Recall': 1.0, 'F1': 1.0}, 'postalCode': {'Precision': 0.9166666666666666, 'Recall': 0.9166666666666666, 'F1': 0.9166666666666666}, 'Hotel/description': {'Precision': 1.0, 'Recall': 0.7777777777777778, 'F1': 0.8750000000000001}, 'Date': {'Precision': 1.0, 'Recall': 1.0, 'F1': 1.0}, 'MusicAlbum/name': {'Precision': 1.0, 'Recall': 0.5714285714285714, 'F1': 0.7272727272727273}, 'MusicArtistAT': {'Precision': 1.0, 'Recall': 0.8, 'F1': 0.888888888888889}, 'Review': {'Precision': 0.5, 'Recall': 0.25, 'F1': 0.3333333333333333}, 'paymentAccepted': {'Precision': 0.8333333333333334, 'Recall': 1.0, 'F1': 0.9090909090909091}, 'Rating': {'Precision': 1.0, 'Recall': 1.0, 'F1': 1.0}, 'EventStatusType': {'Precision': 1.0, 'Recall': 0.8333333333333334, 'F1': 0.9090909090909091}, 'Restaurant/name': {'Precision': 0.9166666666666666, 'Recall': 1.0, 'F1': 0.9565217391304348}, 'Organization': {'Precision': 1.0, 'Recall': 0.25, 'F1': 0.4}, 'Event/description': {'Precision': 0.5625, 'Recall': 1.0, 'F1': 0.72}, 'DateTime': {'Precision': 0.6923076923076923, 'Recall': 0.9, 'F1': 0.7826086956521738}, 'EventAttendanceModeEnumeration': {'Precision': 0.8571428571428571, 'Recall': 0.8571428571428571, 'F1': 0.8571428571428571}, 'LocationFeatureSpecification': {'Precision': 1.0, 'Recall': 0.75, 'F1': 0.8571428571428571}}\n"
     ]
    },
    {
     "name": "stderr",
     "output_type": "stream",
     "text": [
      "/tmp/ipykernel_7649/4141412260.py:30: RuntimeWarning: invalid value encountered in double_scalars\n",
      "  recall = report[j]['TP'] / (report[j]['TP'] + report[j]['FN'])\n"
     ]
    }
   ],
   "source": [
    "evaluation, per_class_eval = calculate_f1_scores(labels, preds, 33)\n",
    "print(evaluation)\n",
    "print(per_class_eval)"
   ]
  },
  {
   "cell_type": "code",
   "execution_count": null,
   "id": "afd645fc",
   "metadata": {},
   "outputs": [],
   "source": [
    "from sklearn.metrics import precision_recall_fscore_support\n",
    "precision_recall_fscore_support(labels, preds, average=\"micro\")"
   ]
  },
  {
   "cell_type": "markdown",
   "id": "0a4ba678",
   "metadata": {},
   "source": [
    "## Error Analysis"
   ]
  },
  {
   "cell_type": "code",
   "execution_count": null,
   "id": "489a8a66",
   "metadata": {},
   "outputs": [],
   "source": [
    "df = pd.read_csv(\"predictions/preds_gpt35_without_inst.csv\",index_col=0)\n",
    "df.head()"
   ]
  },
  {
   "cell_type": "code",
   "execution_count": null,
   "id": "b17d8fbe",
   "metadata": {},
   "outputs": [],
   "source": [
    "error_df = df[df[\"lionel_annot\"] != df[\"label\"]]\n",
    "error_df[\"table\"] = error_df.apply(lambda row: examples[row[\"prompt_output_id\"]], axis=1)\n",
    "error_df[\"all_labels\"] = error_df.apply(lambda row: test[row[\"prompt_output_id\"]][2], axis=1)"
   ]
  },
  {
   "cell_type": "code",
   "execution_count": null,
   "id": "ca33b5c4",
   "metadata": {},
   "outputs": [],
   "source": [
    "error_df.reset_index(inplace=True, drop=True)\n",
    "error_df.head()"
   ]
  },
  {
   "cell_type": "code",
   "execution_count": null,
   "id": "f492f7ca",
   "metadata": {},
   "outputs": [],
   "source": [
    "for idx in range(len(error_df)):\n",
    "    print(\"=\"*10)\n",
    "    print(f\"Table {error_df.loc[idx, 'prompt_output_id']}\")\n",
    "    print(error_df.loc[idx,\"table\"])\n",
    "    print(error_df.loc[idx,\"all_labels\"])\n",
    "    \n",
    "    print(f\"Ground truth: {error_df.loc[idx,'label']}\")\n",
    "    print(f\"Raw output: {error_df.loc[idx,'parsed_col_pred']}\")\n",
    "    print(f\"Annot: {error_df.loc[idx,'lionel_annot']}\")"
   ]
  },
  {
   "cell_type": "code",
   "execution_count": null,
   "id": "af914f99",
   "metadata": {},
   "outputs": [],
   "source": [
    "# \"-\" means the model replied with out of label or with I don't know\n",
    "errors = 0\n",
    "for i in range(len(predictions)):\n",
    "    if predictions[i] != labels[i]:\n",
    "        errors += 1\n",
    "        print(f\"Predicted as {predictions[i]} when it was {labels[i]}\")\n",
    "errors"
   ]
  }
 ],
 "metadata": {
  "kernelspec": {
   "display_name": "Python 3 (ipykernel)",
   "language": "python",
   "name": "python3"
  },
  "language_info": {
   "codemirror_mode": {
    "name": "ipython",
    "version": 3
   },
   "file_extension": ".py",
   "mimetype": "text/x-python",
   "name": "python",
   "nbconvert_exporter": "python",
   "pygments_lexer": "ipython3",
   "version": "3.10.9"
  }
 },
 "nbformat": 4,
 "nbformat_minor": 5
}
