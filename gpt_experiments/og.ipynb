{
 "cells": [
  {
   "cell_type": "code",
   "execution_count": 1,
   "id": "307f1685",
   "metadata": {},
   "outputs": [],
   "source": [
    "import os\n",
    "import re\n",
    "import pickle\n",
    "import numpy as np\n",
    "from dotenv import dotenv_values\n",
    "from langchain import PromptTemplate, LLMChain, OpenAI\n",
    "from langchain.chat_models import ChatOpenAI"
   ]
  },
  {
   "cell_type": "code",
   "execution_count": 2,
   "id": "5ba1a34e",
   "metadata": {},
   "outputs": [],
   "source": [
    "# Load env file with API KEY using full path\n",
    "config = dotenv_values(\".env\")\n",
    "os.environ['OPENAI_API_KEY'] = config[\"OPENAI_API_KEY\"]"
   ]
  },
  {
   "cell_type": "code",
   "execution_count": 3,
   "id": "806f5b40",
   "metadata": {},
   "outputs": [],
   "source": [
    "labels_to_text = {\n",
    "    \"I dont'know\": \"I dont'know\",\n",
    "    \"addressLocality\": \"locality of address\",\n",
    "    \"postalCode\": \"postal code\",\n",
    "    \"addressRegion\": \"region of address\",\n",
    "    \"Country\": \"country\",\n",
    "    \"priceRange\": \"price range\",\n",
    "    \"Hotel/name\": \"name of hotel\",\n",
    "    \"telephone\": \"telephone\",\n",
    "    \"faxNumber\": \"fax number\",\n",
    "    \"Date\": \"date\",\n",
    "    \"Restaurant/name\": \"name of restaurant\",\n",
    "    \"paymentAccepted\": \"payment accepted\",\n",
    "    \"DayOfWeek\": \"day of week\",\n",
    "    \"Review\": \"review\",\n",
    "    \"Organization\": \"organization\",\n",
    "    \"DateTime\": \"date and time\",\n",
    "    \"MusicAlbum/name\": \"name of music album\",\n",
    "    \"MusicArtistAT\": \"music artist\",\n",
    "    \"MusicRecording/name\": \"name of music recording\",\n",
    "    \"Photograph\": \"photograph\",\n",
    "    \"CoordinateAT\": \"coordinate\",\n",
    "    \"Event/name\": \"name of event\",\n",
    "    \"EventAttendanceModeEnumeration\": \"event attendance mode\",\n",
    "    \"EventStatusType\": \"event status\",\n",
    "    \"currency\": \"currency\",\n",
    "    \"email\": \"email\",\n",
    "    \"Time\": \"time\",\n",
    "    \"LocationFeatureSpecification\": \"location feature\",\n",
    "    \"Duration\": \"duration\",\n",
    "    \"Event/description\": \"description of event\",\n",
    "    \"Restaurant/description\": \"description of restaurant\",\n",
    "    \"Rating\": \"rating\",\n",
    "    \"Hotel/description\": \"description of hotel\"\n",
    "}"
   ]
  },
  {
   "cell_type": "code",
   "execution_count": 4,
   "id": "e2f6e994",
   "metadata": {},
   "outputs": [],
   "source": [
    "# Dictionary to map ChatGPT answers to label set: synonyms can be added here\n",
    "text_to_label = {\n",
    "    \"locality of address\": \"addressLocality\",\n",
    "    \"postal code\": \"postalCode\",\n",
    "    \"region of address\": \"addressRegion\",\n",
    "    \"country\": \"Country\",\n",
    "    \"price range\": \"priceRange\",\n",
    "    \"name of hotel\": \"Hotel/name\",\n",
    "    \"telephone\": \"telephone\",\n",
    "    \"fax number\": \"faxNumber\",\n",
    "    \"date\": \"Date\",\n",
    "    \"name of restaurant\": \"Restaurant/name\",\n",
    "    \"payment accepted\": \"paymentAccepted\",\n",
    "    \"day of week\": \"DayOfWeek\",\n",
    "    \"review\": \"Review\",\n",
    "    \"organization\": \"Organization\",\n",
    "    \"date and time\": \"DateTime\",\n",
    "    \"music artist\": \"MusicArtistAT\",\n",
    "    \"music album\": \"MusicAlbum/name\",\n",
    "    \"name of music recording\": \"MusicRecording/name\",\n",
    "    \"photograph\": \"Photograph\",\n",
    "    \"coordinate\": \"CoordinateAT\",\n",
    "    \"name of event\": \"Event/name\",\n",
    "    \"event attendance mode\": \"EventAttendanceModeEnumeration\",\n",
    "    \"event status\": \"EventStatusType\",\n",
    "    \"currency\": \"currency\",\n",
    "    \"email\": \"email\",\n",
    "    \"time\": \"Time\",\n",
    "    \"location feature\": \"LocationFeatureSpecification\",\n",
    "    \"duration\": \"Duration\",\n",
    "    \"description of event\": \"Event/description\",\n",
    "    \"description of restaurant\": \"Restaurant/description\",\n",
    "    \"description of hotel\": \"Hotel/description\",\n",
    "    \"rating\": \"Rating\",\n",
    "    #Added\n",
    "    \"description of restaurants\": \"Restaurant/description\",\n",
    "    \"name of music artist\": \"MusicArtistAT\",\n",
    "    \"description of hotel amenities\": \"LocationFeatureSpecification\",\n",
    "    \"amenities\": \"LocationFeatureSpecification\",\n",
    "    \"name of album\": \"MusicAlbum/name\",\n",
    "    \"i don't know\": \"-\",\n",
    "    \"name of music album\": \"MusicAlbum/name\",\n",
    "    \"music recording\": \"MusicRecording/name\",\n",
    "    \"event name\": \"Event/name\",\n",
    "    \"description of hotels\": \"Hotel/description\",\n",
    "    \"name of hotels\": \"Hotel/name\",\n",
    "    \"duration of music recording or video\": \"Duration\",\n",
    "    \"name of organization\": \"Organization\",\n",
    "    \"hotel amenities\": \"LocationFeatureSpecification\",\n",
    "    \"amenities of hotel room\": \"LocationFeatureSpecification\",\n",
    "    \"check-in time\": \"Time\",\n",
    "    \"check-out time\": \"Time\",\n",
    "    \"time of check-in\": \"Time\",\n",
    "    \"time of check-out\": \"Time\",\n",
    "    \"hotel features\": \"LocationFeatureSpecification\",\n",
    "    \"name of aparthotel\": \"Hotel/name\",\n",
    "    \"event description\": \"Event/description\",\n",
    "    \"email address\": \"email\",\n",
    "    \"room amenities\": \"LocationFeatureSpecification\",\n",
    "    \"end date\": \"Date\",\n",
    "    \"descriptions of events\": \"Event/description\",\n",
    "    \"mode of attendance\": \"EventAttendanceModeEnumeration\",\n",
    "    \"name of song\": \"MusicRecording/name\"\n",
    "}"
   ]
  },
  {
   "cell_type": "markdown",
   "id": "c1b93f4d",
   "metadata": {},
   "source": [
    "## Load test set"
   ]
  },
  {
   "cell_type": "code",
   "execution_count": 5,
   "id": "80cd0f30",
   "metadata": {},
   "outputs": [],
   "source": [
    "with open('data/cta-test-table-wise.pkl', \"rb\") as f:\n",
    "    test = pickle.load(f)\n",
    "\n",
    "examples = [example[1] for example in test ]\n",
    "labels = [l for example in test for l in example[2]]"
   ]
  },
  {
   "cell_type": "code",
   "execution_count": 6,
   "id": "e5235a7e",
   "metadata": {},
   "outputs": [
    {
     "data": {
      "text/plain": [
       "['telephone',\n",
       " 'Restaurant/name',\n",
       " 'postalCode',\n",
       " 'addressRegion',\n",
       " 'Country',\n",
       " 'CoordinateAT',\n",
       " 'CoordinateAT',\n",
       " 'Time',\n",
       " 'DayOfWeek',\n",
       " 'telephone']"
      ]
     },
     "execution_count": 6,
     "metadata": {},
     "output_type": "execute_result"
    }
   ],
   "source": [
    "labels[:10]"
   ]
  },
  {
   "cell_type": "markdown",
   "id": "b33eeece",
   "metadata": {},
   "source": [
    "## Choose prompt template: without or with instructions"
   ]
  },
  {
   "cell_type": "code",
   "execution_count": 17,
   "id": "69280f83",
   "metadata": {},
   "outputs": [],
   "source": [
    "# Paper name: table\n",
    "template = \"\"\"\n",
    "\n",
    "Answer the question based on the task below. If the question cannot be answered using the information provided answer with \"I don't know\".\n",
    "\n",
    "Task: Classify the columns of a given table with only one of the following classes that are separated with comma: description of event, description of restaurant, locality of address, postal code, region of address, country, price range, telephone, date, name of restaurant, payment accepted, day of week, review, organization, date and time, coordinate, name of event, event attendance mode, event status, currency, time, description of hotel, name of hotel, location feature, rating, fax number, email, photograph, name of music recording, music artist, name of album, duration.\n",
    "\n",
    "Table: {input}\n",
    "\n",
    "Class:\n",
    "\n",
    "\"\"\""
   ]
  },
  {
   "cell_type": "code",
   "execution_count": 8,
   "id": "27bc61f6",
   "metadata": {},
   "outputs": [],
   "source": [
    "# Paper name: table + instructions\n",
    "template = \"\"\"\n",
    "\n",
    "Answer the question based on the task and instructions below. If the question cannot be answered using the information provided answer with \"I don't know\".\n",
    "\n",
    "Task: Classify the columns of a given table with only one of the following classes that are separated with comma: description of event, description of restaurant, locality of address, postal code, region of address, country, price range, telephone, date, name of restaurant, payment accepted, day of week, review, organization, date and time, coordinate, name of event, event attendance mode, event status, currency, time, description of hotel, name of hotel, location feature, rating, fax number, email, photograph, name of music recording, music artist, name of album, duration.\n",
    "\n",
    "Instructions: 1. Look at the input given to you and make a table out of it. 2. Look at the cell values in detail. 3. For each column, select a class that best represents the meaning of all cells in the column. 4. Answer with the selected class for each columns with the format Column1: class.\n",
    "\n",
    "Table:\n",
    "{input}\n",
    "\n",
    "Class:\n",
    "\n",
    "\"\"\""
   ]
  },
  {
   "cell_type": "markdown",
   "id": "19177971",
   "metadata": {},
   "source": [
    "## Load LLM and run model"
   ]
  },
  {
   "cell_type": "code",
   "execution_count": 18,
   "id": "9940af79",
   "metadata": {
    "scrolled": true
   },
   "outputs": [],
   "source": [
    "gpt_3_turbo = ChatOpenAI(model_name='gpt-3.5-turbo-0301', temperature=0)\n",
    "prompt = PromptTemplate(template=template, input_variables=['input'])\n",
    "llm_chain = LLMChain(prompt=prompt, llm=gpt_3_turbo)\n",
    "\n",
    "#Zero-shot prediction\n",
    "preds = [llm_chain.run({'input': example}) for example in examples ]"
   ]
  },
  {
   "cell_type": "code",
   "execution_count": 19,
   "id": "21b93a31",
   "metadata": {
    "scrolled": true
   },
   "outputs": [
    {
     "data": {
      "text/plain": [
       "['Column 1: Telephone\\nColumn 2: Name of restaurant\\nColumn 3: Postal code\\nColumn 4: Region of address\\nColumn 5: Country\\nColumn 6: Coordinate\\nColumn 7: Time\\nColumn 8: Day of week\\nColumn 9: Payment accepted',\n",
       " 'Column 1: telephone\\nColumn 2: name of restaurant\\nColumn 3: description of restaurant\\nColumn 4: locality of address\\nColumn 5: day of week\\nColumn 6: time',\n",
       " 'Column 1: Name of restaurant\\nColumn 2: Postal code\\nColumn 3: Payment accepted\\nColumn 4: Region of address\\nColumn 5: Locality of address',\n",
       " 'Column 1: Name of restaurant\\nColumn 2: Telephone\\nColumn 3: Description of restaurant\\nColumn 4: Locality of address\\nColumn 5: Region of address\\nColumn 6: Payment accepted\\nColumn 7: Postal code\\nColumn 8: Coordinate\\nColumn 9: Coordinate\\nColumn 10: Time\\nColumn 11: Day of week',\n",
       " 'Column 1: Name of restaurant\\nColumn 2: Price range\\nColumn 3: Telephone',\n",
       " 'description of restaurant, telephone, price range, country, region of address, postal code, coordinate, locality of address, description of event, name of restaurant',\n",
       " 'Description of restaurant, telephone, locality of address, postal code',\n",
       " 'Column 1: Name of restaurant\\nColumn 2: Telephone\\nColumn 3: Description of restaurant\\nColumn 4: Region of address\\nColumn 5: Price range\\nColumn 6: Country\\nColumn 7: Locality of address\\nColumn 8: Postal code',\n",
       " 'Column 1: Name of restaurant\\nColumn 2: Telephone\\nColumn 3: Description of restaurant\\nColumn 4: Price range\\nColumn 5: Postal code\\nColumn 6: Coordinate\\nColumn 7: Region of address\\nColumn 8: Country',\n",
       " \"Column 1: telephone, Column 2: name of restaurant, Column 3: price range, Column 4: locality of address, Column 5: postal code, Column 6: coordinate, Column 7: country, Column 8: description of restaurant, Column 9: I don't know.\"]"
      ]
     },
     "execution_count": 19,
     "metadata": {},
     "output_type": "execute_result"
    }
   ],
   "source": [
    "preds[:10]"
   ]
  },
  {
   "cell_type": "code",
   "execution_count": 20,
   "id": "a5f9a001",
   "metadata": {},
   "outputs": [],
   "source": [
    "#Save predictions in a file:\n",
    "file_name='predictions/prompt-table-without-instructions-og-2.pkl'\n",
    "f = open(file_name,'wb')\n",
    "pickle.dump(preds,f)\n",
    "f.close()"
   ]
  },
  {
   "cell_type": "markdown",
   "id": "6ab6cab8",
   "metadata": {},
   "source": [
    "## Evaluation"
   ]
  },
  {
   "cell_type": "code",
   "execution_count": 21,
   "id": "26702dcc",
   "metadata": {},
   "outputs": [
    {
     "name": "stdout",
     "output_type": "stream",
     "text": [
      "For test example 88 out of label space prediction: description of restaurant/winery\n",
      "For test example 226 out of label space prediction: so it is not possible to classify the columns based on the information given\n",
      "For test example 241 out of label space prediction: restaurants\n",
      "For test example 242 out of label space prediction: hotels\n"
     ]
    }
   ],
   "source": [
    "# Map predictions to label space\n",
    "predictions = []\n",
    "i=0\n",
    "for j, table_preds in enumerate(preds):\n",
    "    # How many columns does the table have? : To control cases when less/more classes are returned\n",
    "    table_number = len(test[j][2])\n",
    "    \n",
    "    if \"Class:\" in table_preds:\n",
    "        table_preds = table_preds.split(\"Class:\")[1]\n",
    "      \n",
    "    #Break predictions into either \\n or ,\n",
    "    if \":\" in table_preds or \"-\" in table_preds:\n",
    "        if \":\" in table_preds:\n",
    "            separator = \":\"\n",
    "            start = 1\n",
    "            end = table_number+1\n",
    "        else:\n",
    "            separator = \"-\"  \n",
    "            start = 1\n",
    "            end = table_number+1\n",
    "    else:\n",
    "        separator = \",\"\n",
    "        start = 0\n",
    "        end = table_number\n",
    "        \n",
    "    col_preds = table_preds.split(separator)[start:end]\n",
    "    \n",
    "    for pred in col_preds:\n",
    "        i+=1\n",
    "        \n",
    "        # Remove break lines\n",
    "        if \"\\n\" in pred:\n",
    "            pred = pred.split('\\n')[0].strip()\n",
    "        # Remove commas\n",
    "        if \",\" in pred:\n",
    "            pred = pred.split(\",\")[0].strip()\n",
    "        # Remove paranthesis\n",
    "        if '(' in pred:\n",
    "            pred = pred.split(\"(\")[0].strip()\n",
    "        #Remove points\n",
    "        if '.' in pred:\n",
    "            pred = pred.split(\".\")[0].strip()\n",
    "        # Lower-case prediction\n",
    "        pred = pred.strip().lower()\n",
    "        \n",
    "        if pred in text_to_label:\n",
    "            predictions.append(text_to_label[pred])\n",
    "        else:\n",
    "            print(f\"For test example {i} out of label space prediction: {pred}\")\n",
    "            predictions.append('-')\n",
    "        \n",
    "    # If more/less predictions for table\n",
    "    if len(col_preds) < table_number:\n",
    "        for m in range(0, table_number-len(col_preds)):\n",
    "            predictions.append('-')\n",
    "            i+=1"
   ]
  },
  {
   "cell_type": "code",
   "execution_count": 22,
   "id": "6961b0dd",
   "metadata": {},
   "outputs": [
    {
     "data": {
      "text/plain": [
       "'Restaurant/name'"
      ]
     },
     "execution_count": 22,
     "metadata": {},
     "output_type": "execute_result"
    }
   ],
   "source": [
    "predictions[15]"
   ]
  },
  {
   "cell_type": "markdown",
   "id": "7ab2350d",
   "metadata": {},
   "source": [
    "### Calculate Precision, Recall, Macro-F1 and Micro-F1"
   ]
  },
  {
   "cell_type": "code",
   "execution_count": 13,
   "id": "e1a1bf30",
   "metadata": {},
   "outputs": [],
   "source": [
    "def calculate_f1_scores(y_tests, y_preds, num_classes):\n",
    "    \n",
    "    y_tests = [types.index(y) for y in y_tests]\n",
    "    y_preds = [types.index(y) for y in y_preds]\n",
    "    \n",
    "    #Confusion matrix\n",
    "    cm = np.zeros(shape=(num_classes,num_classes))\n",
    "    \n",
    "    for i in range(len(y_tests)):\n",
    "        cm[y_preds[i]][y_tests[i]] += 1\n",
    "        \n",
    "    report = {}\n",
    "    \n",
    "    for j in range(len(cm[0])):\n",
    "        report[j] = {}\n",
    "        report[j]['FN'] = 0\n",
    "        report[j]['FP'] = 0\n",
    "        report[j]['TP'] = cm[j][j]\n",
    "\n",
    "        for i in range(len(cm)):\n",
    "            if i != j:\n",
    "                report[j]['FN'] += cm[i][j]\n",
    "        for k in range(len(cm[0])):\n",
    "            if k != j:\n",
    "                report[j]['FP'] += cm[j][k]\n",
    "\n",
    "        precision = report[j]['TP'] / (report[j]['TP'] + report[j]['FP'])\n",
    "        recall = report[j]['TP'] / (report[j]['TP'] + report[j]['FN'])\n",
    "        f1 = 2*precision*recall / (precision + recall)\n",
    "        \n",
    "        if np.isnan(f1):\n",
    "            f1 = 0\n",
    "        if np.isnan(precision):\n",
    "            f1 = 0\n",
    "        if np.isnan(recall):\n",
    "            f1 = 0\n",
    "\n",
    "        report[j]['p'] =  precision\n",
    "        report[j]['r'] =  recall\n",
    "        report[j]['f1'] = f1\n",
    "    \n",
    "    all_fn = 0\n",
    "    all_tp = 0\n",
    "    all_fp = 0\n",
    "\n",
    "    for r in report:\n",
    "        if r != num_classes-1:\n",
    "            all_fn += report[r]['FN']\n",
    "            all_tp += report[r]['TP']\n",
    "            all_fp += report[r]['FP']\n",
    "        \n",
    "    class_f1s = [ report[class_]['f1'] for class_ in report]\n",
    "    class_p = [ 0 if np.isnan(report[class_]['p']) else report[class_]['p'] for class_ in report]\n",
    "    class_r = [ 0 if np.isnan(report[class_]['r']) else report[class_]['r'] for class_ in report]\n",
    "    macro_f1 = sum(class_f1s[:-1]) / (num_classes-1)\n",
    "    \n",
    "    p =  sum(class_p[:-1]) / (num_classes-1)\n",
    "    r =  sum(class_r[:-1]) / (num_classes-1)\n",
    "    micro_f1 = all_tp / ( all_tp + (1/2 * (all_fp + all_fn) )) \n",
    "    \n",
    "    per_class_eval = {}\n",
    "    for index, t in enumerate(types[:-1]):\n",
    "        per_class_eval[t] = {\"Precision\":class_p[index], \"Recall\": class_r[index], \"F1\": class_f1s[index]}\n",
    "    \n",
    "    evaluation = {\n",
    "        \"Micro-F1\": micro_f1,\n",
    "        \"Macro-F1\": macro_f1,\n",
    "        \"Precision\": p,\n",
    "        \"Recall\": r\n",
    "    }\n",
    "    \n",
    "    return [ evaluation, per_class_eval]"
   ]
  },
  {
   "cell_type": "code",
   "execution_count": 23,
   "id": "b1770b52",
   "metadata": {
    "scrolled": true
   },
   "outputs": [
    {
     "name": "stderr",
     "output_type": "stream",
     "text": [
      "/tmp/ipykernel_75143/3780048896.py:29: RuntimeWarning: invalid value encountered in double_scalars\n",
      "  f1 = 2*precision*recall / (precision + recall)\n",
      "/tmp/ipykernel_75143/3780048896.py:28: RuntimeWarning: invalid value encountered in double_scalars\n",
      "  recall = report[j]['TP'] / (report[j]['TP'] + report[j]['FN'])\n"
     ]
    }
   ],
   "source": [
    "types = list(set(labels))\n",
    "types = types + [\"-\"]\n",
    "evaluation, per_class_eval = calculate_f1_scores(labels, predictions, 33)"
   ]
  },
  {
   "cell_type": "code",
   "execution_count": 24,
   "id": "5539f223",
   "metadata": {},
   "outputs": [
    {
     "data": {
      "text/plain": [
       "{'Micro-F1': 0.49099099099099097,\n",
       " 'Macro-F1': 0.42716638720445294,\n",
       " 'Precision': 0.5068557310744812,\n",
       " 'Recall': 0.396773538961039}"
      ]
     },
     "execution_count": 24,
     "metadata": {},
     "output_type": "execute_result"
    }
   ],
   "source": [
    "evaluation"
   ]
  },
  {
   "cell_type": "code",
   "execution_count": 16,
   "id": "bd2d9fb0",
   "metadata": {
    "scrolled": true
   },
   "outputs": [
    {
     "data": {
      "text/plain": [
       "{'Organization': {'Precision': 1.0, 'Recall': 0.25, 'F1': 0.4},\n",
       " 'Hotel/description': {'Precision': 0.875,\n",
       "  'Recall': 0.7777777777777778,\n",
       "  'F1': 0.823529411764706},\n",
       " 'EventAttendanceModeEnumeration': {'Precision': 0.8571428571428571,\n",
       "  'Recall': 0.8571428571428571,\n",
       "  'F1': 0.8571428571428571},\n",
       " 'MusicRecording/name': {'Precision': 1.0,\n",
       "  'Recall': 0.8,\n",
       "  'F1': 0.888888888888889},\n",
       " 'Restaurant/description': {'Precision': 0.4166666666666667,\n",
       "  'Recall': 1.0,\n",
       "  'F1': 0.5882352941176471},\n",
       " 'addressLocality': {'Precision': 0.625,\n",
       "  'Recall': 0.8333333333333334,\n",
       "  'F1': 0.7142857142857143},\n",
       " 'Event/name': {'Precision': 1.0, 'Recall': 0.8, 'F1': 0.888888888888889},\n",
       " 'Duration': {'Precision': 1.0, 'Recall': 1.0, 'F1': 1.0},\n",
       " 'email': {'Precision': 1.0, 'Recall': 1.0, 'F1': 1.0},\n",
       " 'LocationFeatureSpecification': {'Precision': 0.5,\n",
       "  'Recall': 0.25,\n",
       "  'F1': 0.3333333333333333},\n",
       " 'MusicAlbum/name': {'Precision': 1.0,\n",
       "  'Recall': 0.42857142857142855,\n",
       "  'F1': 0.6},\n",
       " 'faxNumber': {'Precision': 1.0, 'Recall': 0.3333333333333333, 'F1': 0.5},\n",
       " 'Photograph': {'Precision': 1.0, 'Recall': 0.6666666666666666, 'F1': 0.8},\n",
       " 'paymentAccepted': {'Precision': 0.5714285714285714,\n",
       "  'Recall': 0.8,\n",
       "  'F1': 0.6666666666666666},\n",
       " 'Time': {'Precision': 0.875,\n",
       "  'Recall': 0.5833333333333334,\n",
       "  'F1': 0.7000000000000001},\n",
       " 'Country': {'Precision': 0.8181818181818182,\n",
       "  'Recall': 0.75,\n",
       "  'F1': 0.7826086956521738},\n",
       " 'Event/description': {'Precision': 0.5333333333333333,\n",
       "  'Recall': 0.8888888888888888,\n",
       "  'F1': 0.6666666666666667},\n",
       " 'Restaurant/name': {'Precision': 1.0,\n",
       "  'Recall': 0.8181818181818182,\n",
       "  'F1': 0.9},\n",
       " 'Hotel/name': {'Precision': 1.0, 'Recall': 0.8, 'F1': 0.888888888888889},\n",
       " 'DateTime': {'Precision': 0.9, 'Recall': 0.9, 'F1': 0.9},\n",
       " 'postalCode': {'Precision': 0.9166666666666666,\n",
       "  'Recall': 0.9166666666666666,\n",
       "  'F1': 0.9166666666666666},\n",
       " 'telephone': {'Precision': 0.8823529411764706, 'Recall': 1.0, 'F1': 0.9375},\n",
       " 'currency': {'Precision': 1.0, 'Recall': 1.0, 'F1': 1.0},\n",
       " 'Review': {'Precision': 0.5, 'Recall': 0.25, 'F1': 0.3333333333333333},\n",
       " 'MusicArtistAT': {'Precision': 1.0, 'Recall': 0.9, 'F1': 0.9473684210526316},\n",
       " 'priceRange': {'Precision': 1.0, 'Recall': 1.0, 'F1': 1.0},\n",
       " 'Rating': {'Precision': 0.8333333333333334,\n",
       "  'Recall': 0.8333333333333334,\n",
       "  'F1': 0.8333333333333334},\n",
       " 'addressRegion': {'Precision': 1.0, 'Recall': 1.0, 'F1': 1.0},\n",
       " 'DayOfWeek': {'Precision': 0.3333333333333333, 'Recall': 0.5, 'F1': 0.4},\n",
       " 'Date': {'Precision': 1.0, 'Recall': 1.0, 'F1': 1.0},\n",
       " 'CoordinateAT': {'Precision': 1.0, 'Recall': 0.6666666666666666, 'F1': 0.8},\n",
       " 'EventStatusType': {'Precision': 1.0, 'Recall': 1.0, 'F1': 1.0}}"
      ]
     },
     "execution_count": 16,
     "metadata": {},
     "output_type": "execute_result"
    }
   ],
   "source": [
    "per_class_eval"
   ]
  },
  {
   "cell_type": "markdown",
   "id": "0a4ba678",
   "metadata": {},
   "source": [
    "## Error Analysis"
   ]
  },
  {
   "cell_type": "code",
   "execution_count": null,
   "id": "af914f99",
   "metadata": {},
   "outputs": [],
   "source": [
    "# \"-\" means the model replied with out of label or with I don't know\n",
    "errors = 0\n",
    "for i in range(len(predictions)):\n",
    "    if predictions[i] != labels[i]:\n",
    "        errors += 1\n",
    "        print(f\"Predicted as {predictions[i]} when it was {labels[i]}\")\n",
    "errors"
   ]
  },
  {
   "cell_type": "markdown",
   "id": "d8d9ec72",
   "metadata": {},
   "source": [
    "### Re-load previous preds files"
   ]
  },
  {
   "cell_type": "code",
   "execution_count": null,
   "id": "48378ee6",
   "metadata": {},
   "outputs": [],
   "source": [
    "with open('predictions/prompt-table-without-instructions.pkl', \"rb\") as f:\n",
    "    preds = pickle.load(f)"
   ]
  },
  {
   "cell_type": "code",
   "execution_count": null,
   "id": "3f4fef6b",
   "metadata": {},
   "outputs": [],
   "source": []
  }
 ],
 "metadata": {
  "kernelspec": {
   "display_name": "Python 3 (ipykernel)",
   "language": "python",
   "name": "python3"
  },
  "language_info": {
   "codemirror_mode": {
    "name": "ipython",
    "version": 3
   },
   "file_extension": ".py",
   "mimetype": "text/x-python",
   "name": "python",
   "nbconvert_exporter": "python",
   "pygments_lexer": "ipython3",
   "version": "3.10.9"
  }
 },
 "nbformat": 4,
 "nbformat_minor": 5
}
